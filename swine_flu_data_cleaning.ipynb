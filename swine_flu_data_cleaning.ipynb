{
 "cells": [
  {
   "cell_type": "code",
   "execution_count": 2,
   "metadata": {
    "collapsed": true
   },
   "outputs": [],
   "source": [
    "import pandas as pd"
   ]
  },
  {
   "cell_type": "code",
   "execution_count": 11,
   "outputs": [],
   "source": [
    "pd.set_option('expand_frame_repr', False)"
   ],
   "metadata": {
    "collapsed": false,
    "pycharm": {
     "name": "#%%\n"
    }
   }
  },
  {
   "cell_type": "code",
   "execution_count": 5,
   "outputs": [],
   "source": [
    "art_coverage_by_country_df = pd.read_csv('data/hiv_aids_data/art_coverage_by_country.csv')\n",
    "art_pediatric_coverage_by_country_df = pd.read_csv('data/hiv_aids_data/art_pediatric_coverage_by_country.csv')\n",
    "no_of_cases_adults_15_to_49_by_country_df = pd.read_csv('data/hiv_aids_data/no_of_cases_adults_15_to_49_by_country.csv')\n",
    "no_of_deaths_by_country_df = pd.read_csv('data/hiv_aids_data/no_of_deaths_by_country.csv')\n",
    "no_of_people_living_with_hiv_by_country_df = pd.read_csv('data/hiv_aids_data/art_pediatric_coverage_by_country.csv')"
   ],
   "metadata": {
    "collapsed": false,
    "pycharm": {
     "name": "#%%\n"
    }
   }
  },
  {
   "cell_type": "markdown",
   "source": [
    "First lets check if all the dataframes have a consistent number of columns"
   ],
   "metadata": {
    "collapsed": false,
    "pycharm": {
     "name": "#%% md\n"
    }
   }
  },
  {
   "cell_type": "code",
   "execution_count": 21,
   "outputs": [],
   "source": [
    "dfs = [art_coverage_by_country_df,art_pediatric_coverage_by_country_df,no_of_cases_adults_15_to_49_by_country_df,no_of_deaths_by_country_df,no_of_people_living_with_hiv_by_country_df]\n",
    "total = 0\n",
    "for df in dfs:\n",
    "    df.rename(columns={'Unnamed: 0':'Country'},inplace=True)"
   ],
   "metadata": {
    "collapsed": false,
    "pycharm": {
     "name": "#%%\n"
    }
   }
  },
  {
   "cell_type": "markdown",
   "source": [
    "Each df has an index length of 171 so were good and can merge the dataframes on the index (country)"
   ],
   "metadata": {
    "collapsed": false,
    "pycharm": {
     "name": "#%% md\n"
    }
   }
  },
  {
   "cell_type": "code",
   "execution_count": 22,
   "outputs": [],
   "source": [
    "art_coverage_by_country_df = art_coverage_by_country_df.melt(id_vars='Country', value_vars=art_coverage_by_country_df.columns[1:], var_name='Year', value_name='Count')"
   ],
   "metadata": {
    "collapsed": false,
    "pycharm": {
     "name": "#%%\n"
    }
   }
  },
  {
   "cell_type": "code",
   "execution_count": 23,
   "outputs": [],
   "source": [
    "art_coverage_by_country_df.to_csv('test.csv')\n",
    "#transpose year columns\n",
    "#fill forward\n"
   ],
   "metadata": {
    "collapsed": false,
    "pycharm": {
     "name": "#%%\n"
    }
   }
  }
 ],
 "metadata": {
  "kernelspec": {
   "display_name": "Python 3",
   "language": "python",
   "name": "python3"
  },
  "language_info": {
   "codemirror_mode": {
    "name": "ipython",
    "version": 2
   },
   "file_extension": ".py",
   "mimetype": "text/x-python",
   "name": "python",
   "nbconvert_exporter": "python",
   "pygments_lexer": "ipython2",
   "version": "2.7.6"
  }
 },
 "nbformat": 4,
 "nbformat_minor": 0
}