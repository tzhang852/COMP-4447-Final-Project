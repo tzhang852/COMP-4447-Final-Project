{
 "cells": [
  {
   "cell_type": "code",
   "execution_count": 1,
   "metadata": {},
   "outputs": [],
   "source": [
    "# TODO Tiffany - education and malnutrition\n",
    "import pandas as pd\n",
    "import seaborn as sns\n",
    "import matplotlib.pyplot as plt\n",
    "import sys\n",
    "import os"
   ]
  },
  {
   "cell_type": "code",
   "execution_count": 2,
   "metadata": {},
   "outputs": [],
   "source": [
    "def init_data(csv):\n",
    "    if \"education\" in csv:\n",
    "        education = pd.read_csv(csv, skiprows = 4)\n",
    "        return education\n",
    "        # education.head()\n",
    "    if \"GDP\" in csv:\n",
    "        gdp = pd.read_csv(csv, skiprows = 4)\n",
    "        return gdp\n",
    "    if \"malnutrition\" in csv:\n",
    "        malnutrition = pd.read_csv(csv, skiprows = 4)\n",
    "        return malnutrition\n",
    "    if \"poverty\" in csv:\n",
    "        poverty = pd.read_csv(csv, skiprows = 4)\n",
    "        return poverty\n",
    "    if \"swine\" in csv:\n",
    "        swine_flu = pd.read_csv(csv)\n",
    "        return swine_flu\n",
    "    # if \"poverty\" in csv:"
   ]
  },
  {
   "cell_type": "code",
   "execution_count": 14,
   "metadata": {},
   "outputs": [
    {
     "data": {
      "text/html": [
       "<div>\n",
       "<style scoped>\n",
       "    .dataframe tbody tr th:only-of-type {\n",
       "        vertical-align: middle;\n",
       "    }\n",
       "\n",
       "    .dataframe tbody tr th {\n",
       "        vertical-align: top;\n",
       "    }\n",
       "\n",
       "    .dataframe thead th {\n",
       "        text-align: right;\n",
       "    }\n",
       "</style>\n",
       "<table border=\"1\" class=\"dataframe\">\n",
       "  <thead>\n",
       "    <tr style=\"text-align: right;\">\n",
       "      <th></th>\n",
       "      <th>Country Code</th>\n",
       "      <th>Indicator Name</th>\n",
       "      <th>Indicator Code</th>\n",
       "      <th>1960</th>\n",
       "      <th>1961</th>\n",
       "      <th>1962</th>\n",
       "      <th>1963</th>\n",
       "      <th>1964</th>\n",
       "      <th>1965</th>\n",
       "      <th>1966</th>\n",
       "      <th>...</th>\n",
       "      <th>2012</th>\n",
       "      <th>2013</th>\n",
       "      <th>2014</th>\n",
       "      <th>2015</th>\n",
       "      <th>2016</th>\n",
       "      <th>2017</th>\n",
       "      <th>2018</th>\n",
       "      <th>2019</th>\n",
       "      <th>2020</th>\n",
       "      <th>Country</th>\n",
       "    </tr>\n",
       "  </thead>\n",
       "  <tbody>\n",
       "    <tr>\n",
       "      <th>0</th>\n",
       "      <td>ABW</td>\n",
       "      <td>Primary completion rate, total (% of relevant ...</td>\n",
       "      <td>SE.PRM.CMPT.ZS</td>\n",
       "      <td>NaN</td>\n",
       "      <td>NaN</td>\n",
       "      <td>NaN</td>\n",
       "      <td>NaN</td>\n",
       "      <td>NaN</td>\n",
       "      <td>NaN</td>\n",
       "      <td>NaN</td>\n",
       "      <td>...</td>\n",
       "      <td>NaN</td>\n",
       "      <td>96.570641</td>\n",
       "      <td>101.180557</td>\n",
       "      <td>NaN</td>\n",
       "      <td>NaN</td>\n",
       "      <td>NaN</td>\n",
       "      <td>NaN</td>\n",
       "      <td>NaN</td>\n",
       "      <td>NaN</td>\n",
       "      <td>Aruba</td>\n",
       "    </tr>\n",
       "    <tr>\n",
       "      <th>1</th>\n",
       "      <td>AFE</td>\n",
       "      <td>Primary completion rate, total (% of relevant ...</td>\n",
       "      <td>SE.PRM.CMPT.ZS</td>\n",
       "      <td>NaN</td>\n",
       "      <td>NaN</td>\n",
       "      <td>NaN</td>\n",
       "      <td>NaN</td>\n",
       "      <td>NaN</td>\n",
       "      <td>NaN</td>\n",
       "      <td>NaN</td>\n",
       "      <td>...</td>\n",
       "      <td>NaN</td>\n",
       "      <td>NaN</td>\n",
       "      <td>NaN</td>\n",
       "      <td>NaN</td>\n",
       "      <td>NaN</td>\n",
       "      <td>NaN</td>\n",
       "      <td>NaN</td>\n",
       "      <td>NaN</td>\n",
       "      <td>NaN</td>\n",
       "      <td>Africa Eastern and Southern</td>\n",
       "    </tr>\n",
       "    <tr>\n",
       "      <th>2</th>\n",
       "      <td>AFG</td>\n",
       "      <td>Primary completion rate, total (% of relevant ...</td>\n",
       "      <td>SE.PRM.CMPT.ZS</td>\n",
       "      <td>NaN</td>\n",
       "      <td>NaN</td>\n",
       "      <td>NaN</td>\n",
       "      <td>NaN</td>\n",
       "      <td>NaN</td>\n",
       "      <td>NaN</td>\n",
       "      <td>NaN</td>\n",
       "      <td>...</td>\n",
       "      <td>NaN</td>\n",
       "      <td>NaN</td>\n",
       "      <td>NaN</td>\n",
       "      <td>NaN</td>\n",
       "      <td>80.495041</td>\n",
       "      <td>84.414948</td>\n",
       "      <td>85.625328</td>\n",
       "      <td>84.330589</td>\n",
       "      <td>NaN</td>\n",
       "      <td>Afghanistan</td>\n",
       "    </tr>\n",
       "    <tr>\n",
       "      <th>3</th>\n",
       "      <td>AFW</td>\n",
       "      <td>Primary completion rate, total (% of relevant ...</td>\n",
       "      <td>SE.PRM.CMPT.ZS</td>\n",
       "      <td>NaN</td>\n",
       "      <td>NaN</td>\n",
       "      <td>NaN</td>\n",
       "      <td>NaN</td>\n",
       "      <td>NaN</td>\n",
       "      <td>NaN</td>\n",
       "      <td>NaN</td>\n",
       "      <td>...</td>\n",
       "      <td>NaN</td>\n",
       "      <td>NaN</td>\n",
       "      <td>NaN</td>\n",
       "      <td>NaN</td>\n",
       "      <td>NaN</td>\n",
       "      <td>NaN</td>\n",
       "      <td>NaN</td>\n",
       "      <td>NaN</td>\n",
       "      <td>NaN</td>\n",
       "      <td>Africa Western and Central</td>\n",
       "    </tr>\n",
       "    <tr>\n",
       "      <th>4</th>\n",
       "      <td>AGO</td>\n",
       "      <td>Primary completion rate, total (% of relevant ...</td>\n",
       "      <td>SE.PRM.CMPT.ZS</td>\n",
       "      <td>NaN</td>\n",
       "      <td>NaN</td>\n",
       "      <td>NaN</td>\n",
       "      <td>NaN</td>\n",
       "      <td>NaN</td>\n",
       "      <td>NaN</td>\n",
       "      <td>NaN</td>\n",
       "      <td>...</td>\n",
       "      <td>NaN</td>\n",
       "      <td>NaN</td>\n",
       "      <td>NaN</td>\n",
       "      <td>NaN</td>\n",
       "      <td>NaN</td>\n",
       "      <td>NaN</td>\n",
       "      <td>NaN</td>\n",
       "      <td>NaN</td>\n",
       "      <td>NaN</td>\n",
       "      <td>Angola</td>\n",
       "    </tr>\n",
       "  </tbody>\n",
       "</table>\n",
       "<p>5 rows × 65 columns</p>\n",
       "</div>"
      ],
      "text/plain": [
       "  Country Code                                     Indicator Name  \\\n",
       "0          ABW  Primary completion rate, total (% of relevant ...   \n",
       "1          AFE  Primary completion rate, total (% of relevant ...   \n",
       "2          AFG  Primary completion rate, total (% of relevant ...   \n",
       "3          AFW  Primary completion rate, total (% of relevant ...   \n",
       "4          AGO  Primary completion rate, total (% of relevant ...   \n",
       "\n",
       "   Indicator Code  1960  1961  1962  1963  1964  1965  1966  ...  2012  \\\n",
       "0  SE.PRM.CMPT.ZS   NaN   NaN   NaN   NaN   NaN   NaN   NaN  ...   NaN   \n",
       "1  SE.PRM.CMPT.ZS   NaN   NaN   NaN   NaN   NaN   NaN   NaN  ...   NaN   \n",
       "2  SE.PRM.CMPT.ZS   NaN   NaN   NaN   NaN   NaN   NaN   NaN  ...   NaN   \n",
       "3  SE.PRM.CMPT.ZS   NaN   NaN   NaN   NaN   NaN   NaN   NaN  ...   NaN   \n",
       "4  SE.PRM.CMPT.ZS   NaN   NaN   NaN   NaN   NaN   NaN   NaN  ...   NaN   \n",
       "\n",
       "        2013        2014  2015       2016       2017       2018       2019  \\\n",
       "0  96.570641  101.180557   NaN        NaN        NaN        NaN        NaN   \n",
       "1        NaN         NaN   NaN        NaN        NaN        NaN        NaN   \n",
       "2        NaN         NaN   NaN  80.495041  84.414948  85.625328  84.330589   \n",
       "3        NaN         NaN   NaN        NaN        NaN        NaN        NaN   \n",
       "4        NaN         NaN   NaN        NaN        NaN        NaN        NaN   \n",
       "\n",
       "   2020                      Country  \n",
       "0   NaN                        Aruba  \n",
       "1   NaN  Africa Eastern and Southern  \n",
       "2   NaN                  Afghanistan  \n",
       "3   NaN   Africa Western and Central  \n",
       "4   NaN                       Angola  \n",
       "\n",
       "[5 rows x 65 columns]"
      ]
     },
     "execution_count": 14,
     "metadata": {},
     "output_type": "execute_result"
    }
   ],
   "source": [
    "# script_dir = os.path.dirname(__file__)\n",
    "edu_full_path = os.path.expanduser('~/Desktop/Grad School/COMP 4447/Final Project/COMP-4447-Final-Project/data/world_bank_data/education.csv')\n",
    "education = init_data(edu_full_path)\n",
    "education[\"Country\"] = education[\"Country Name\"]\n",
    "education = education.drop([\"Country Name\"], axis = 1).reindex()\n",
    "education.head()"
   ]
  },
  {
   "cell_type": "code",
   "execution_count": 4,
   "metadata": {},
   "outputs": [
    {
     "data": {
      "text/html": [
       "<div>\n",
       "<style scoped>\n",
       "    .dataframe tbody tr th:only-of-type {\n",
       "        vertical-align: middle;\n",
       "    }\n",
       "\n",
       "    .dataframe tbody tr th {\n",
       "        vertical-align: top;\n",
       "    }\n",
       "\n",
       "    .dataframe thead th {\n",
       "        text-align: right;\n",
       "    }\n",
       "</style>\n",
       "<table border=\"1\" class=\"dataframe\">\n",
       "  <thead>\n",
       "    <tr style=\"text-align: right;\">\n",
       "      <th></th>\n",
       "      <th>Date</th>\n",
       "      <th>Country</th>\n",
       "      <th>Cumulative no. of cases</th>\n",
       "      <th>Cumulative no. of deaths</th>\n",
       "      <th>Link</th>\n",
       "    </tr>\n",
       "  </thead>\n",
       "  <tbody>\n",
       "    <tr>\n",
       "      <th>2110</th>\n",
       "      <td>2009-07-01</td>\n",
       "      <td>Algeria</td>\n",
       "      <td>2</td>\n",
       "      <td>0</td>\n",
       "      <td>https://www.who.int/csr/don/2009_07_01a/en/</td>\n",
       "    </tr>\n",
       "    <tr>\n",
       "      <th>2355</th>\n",
       "      <td>2009-07-06</td>\n",
       "      <td>Algeria</td>\n",
       "      <td>5</td>\n",
       "      <td>0</td>\n",
       "      <td>https://www.who.int/csr/don/2009_07_06/en/</td>\n",
       "    </tr>\n",
       "    <tr>\n",
       "      <th>1994</th>\n",
       "      <td>2009-06-29</td>\n",
       "      <td>Algeria</td>\n",
       "      <td>2</td>\n",
       "      <td>0</td>\n",
       "      <td>https://www.who.int/csr/don/2009_06_29/en/</td>\n",
       "    </tr>\n",
       "    <tr>\n",
       "      <th>1882</th>\n",
       "      <td>2009-06-26</td>\n",
       "      <td>Algeria</td>\n",
       "      <td>2</td>\n",
       "      <td>0</td>\n",
       "      <td>https://www.who.int/csr/don/2009_06_26/en/</td>\n",
       "    </tr>\n",
       "    <tr>\n",
       "      <th>1774</th>\n",
       "      <td>2009-06-24</td>\n",
       "      <td>Algeria</td>\n",
       "      <td>2</td>\n",
       "      <td>0</td>\n",
       "      <td>https://www.who.int/csr/don/2009_06_24/en/</td>\n",
       "    </tr>\n",
       "  </tbody>\n",
       "</table>\n",
       "</div>"
      ],
      "text/plain": [
       "            Date  Country  Cumulative no. of cases  Cumulative no. of deaths  \\\n",
       "2110  2009-07-01  Algeria                        2                         0   \n",
       "2355  2009-07-06  Algeria                        5                         0   \n",
       "1994  2009-06-29  Algeria                        2                         0   \n",
       "1882  2009-06-26  Algeria                        2                         0   \n",
       "1774  2009-06-24  Algeria                        2                         0   \n",
       "\n",
       "                                             Link  \n",
       "2110  https://www.who.int/csr/don/2009_07_01a/en/  \n",
       "2355   https://www.who.int/csr/don/2009_07_06/en/  \n",
       "1994   https://www.who.int/csr/don/2009_06_29/en/  \n",
       "1882   https://www.who.int/csr/don/2009_06_26/en/  \n",
       "1774   https://www.who.int/csr/don/2009_06_24/en/  "
      ]
     },
     "execution_count": 4,
     "metadata": {},
     "output_type": "execute_result"
    }
   ],
   "source": [
    "swine_full_path = os.path.expanduser('~/Desktop/Grad School/COMP 4447/Final Project/COMP-4447-Final-Project/data/swine_flu/swine_flu_data.csv')\n",
    "swine = init_data(swine_full_path)\n",
    "#sort\n",
    "swine = swine.sort_values(by = \"Country\")\n",
    "swine.head()"
   ]
  },
  {
   "cell_type": "code",
   "execution_count": 5,
   "metadata": {},
   "outputs": [
    {
     "data": {
      "text/html": [
       "<div>\n",
       "<style scoped>\n",
       "    .dataframe tbody tr th:only-of-type {\n",
       "        vertical-align: middle;\n",
       "    }\n",
       "\n",
       "    .dataframe tbody tr th {\n",
       "        vertical-align: top;\n",
       "    }\n",
       "\n",
       "    .dataframe thead th {\n",
       "        text-align: right;\n",
       "    }\n",
       "</style>\n",
       "<table border=\"1\" class=\"dataframe\">\n",
       "  <thead>\n",
       "    <tr style=\"text-align: right;\">\n",
       "      <th></th>\n",
       "      <th>Date</th>\n",
       "      <th>Country</th>\n",
       "      <th>Cumulative no. of cases</th>\n",
       "      <th>Cumulative no. of deaths</th>\n",
       "    </tr>\n",
       "  </thead>\n",
       "  <tbody>\n",
       "    <tr>\n",
       "      <th>2110</th>\n",
       "      <td>2009-07-01</td>\n",
       "      <td>Algeria</td>\n",
       "      <td>2</td>\n",
       "      <td>0</td>\n",
       "    </tr>\n",
       "    <tr>\n",
       "      <th>2355</th>\n",
       "      <td>2009-07-06</td>\n",
       "      <td>Algeria</td>\n",
       "      <td>5</td>\n",
       "      <td>0</td>\n",
       "    </tr>\n",
       "    <tr>\n",
       "      <th>1994</th>\n",
       "      <td>2009-06-29</td>\n",
       "      <td>Algeria</td>\n",
       "      <td>2</td>\n",
       "      <td>0</td>\n",
       "    </tr>\n",
       "    <tr>\n",
       "      <th>1882</th>\n",
       "      <td>2009-06-26</td>\n",
       "      <td>Algeria</td>\n",
       "      <td>2</td>\n",
       "      <td>0</td>\n",
       "    </tr>\n",
       "    <tr>\n",
       "      <th>1774</th>\n",
       "      <td>2009-06-24</td>\n",
       "      <td>Algeria</td>\n",
       "      <td>2</td>\n",
       "      <td>0</td>\n",
       "    </tr>\n",
       "  </tbody>\n",
       "</table>\n",
       "</div>"
      ],
      "text/plain": [
       "            Date  Country  Cumulative no. of cases  Cumulative no. of deaths\n",
       "2110  2009-07-01  Algeria                        2                         0\n",
       "2355  2009-07-06  Algeria                        5                         0\n",
       "1994  2009-06-29  Algeria                        2                         0\n",
       "1882  2009-06-26  Algeria                        2                         0\n",
       "1774  2009-06-24  Algeria                        2                         0"
      ]
     },
     "execution_count": 5,
     "metadata": {},
     "output_type": "execute_result"
    }
   ],
   "source": [
    "#drop the link column\n",
    "swine = swine.drop([\"Link\"], axis = 1)\n",
    "swine.head()"
   ]
  },
  {
   "cell_type": "code",
   "execution_count": 6,
   "metadata": {},
   "outputs": [
    {
     "name": "stdout",
     "output_type": "stream",
     "text": [
      "<class 'pandas.core.frame.DataFrame'>\n",
      "RangeIndex: 148 entries, 0 to 147\n",
      "Data columns (total 4 columns):\n",
      " #   Column                    Non-Null Count  Dtype  \n",
      "---  ------                    --------------  -----  \n",
      " 0   Country                   148 non-null    object \n",
      " 1   Cumulative no. of cases   148 non-null    int64  \n",
      " 2   Cumulative no. of deaths  148 non-null    int64  \n",
      " 3   Percent of Deaths         148 non-null    float64\n",
      "dtypes: float64(1), int64(2), object(1)\n",
      "memory usage: 4.8+ KB\n"
     ]
    }
   ],
   "source": [
    "swine[\"Percent of Deaths\"] = swine[\"Cumulative no. of deaths\"]/swine[\"Cumulative no. of cases\"]\n",
    "swine = swine.groupby([\"Country\"]).sum().reset_index()\n",
    "swine.info()"
   ]
  },
  {
   "cell_type": "code",
   "execution_count": 31,
   "metadata": {},
   "outputs": [],
   "source": [
    "#List of countries\n",
    "cc = []\n",
    "for i in swine[\"Country\"]:\n",
    "    if i not in cc:\n",
    "        cc.append(i)\n",
    "    else:\n",
    "        continue\n",
    "# cc\n"
   ]
  },
  {
   "cell_type": "code",
   "execution_count": 7,
   "metadata": {},
   "outputs": [
    {
     "data": {
      "image/png": "[encoded data removed]",
      "text/plain": [
       "<Figure size 432x288 with 1 Axes>"
      ]
     },
     "metadata": {
      "needs_background": "light"
     },
     "output_type": "display_data"
    }
   ],
   "source": [
    "#plot countries\n",
    "cases = []\n",
    "deaths = []\n",
    "country = []\n",
    "\n",
    "for i in range(0, len(swine[\"Country\"])):\n",
    "    if swine[\"Cumulative no. of deaths\"][i] > 0:\n",
    "        # print('nope')\n",
    "        country.append(swine[\"Country\"][i])\n",
    "        cases.append(swine[\"Cumulative no. of cases\"][i])\n",
    "        deaths.append(swine[\"Cumulative no. of deaths\"][i])\n",
    "\n",
    "plt.xticks(rotation = 90)\n",
    "plt.plot(country, cases)\n",
    "plt.plot(country, deaths)\n",
    "plt.legend([\"cases\", \"deaths\"])\n",
    "plt.show()"
   ]
  },
  {
   "cell_type": "markdown",
   "metadata": {},
   "source": [
    "#plot countries\n",
    "plt.plot(swine[\"Country\"], swine[\"Percent of Deaths\"])"
   ]
  },
  {
   "cell_type": "code",
   "execution_count": 8,
   "metadata": {},
   "outputs": [],
   "source": [
    "swine_edu = swine.merge(education, on = \"Country\", how = 'left')\n",
    "swine_edu = swine_edu.fillna(0)\n"
   ]
  },
  {
   "cell_type": "code",
   "execution_count": 9,
   "metadata": {},
   "outputs": [
    {
     "data": {
      "text/html": [
       "<div>\n",
       "<style scoped>\n",
       "    .dataframe tbody tr th:only-of-type {\n",
       "        vertical-align: middle;\n",
       "    }\n",
       "\n",
       "    .dataframe tbody tr th {\n",
       "        vertical-align: top;\n",
       "    }\n",
       "\n",
       "    .dataframe thead th {\n",
       "        text-align: right;\n",
       "    }\n",
       "</style>\n",
       "<table border=\"1\" class=\"dataframe\">\n",
       "  <thead>\n",
       "    <tr style=\"text-align: right;\">\n",
       "      <th></th>\n",
       "      <th>Country</th>\n",
       "      <th>Cumulative no. of cases</th>\n",
       "      <th>Cumulative no. of deaths</th>\n",
       "      <th>Percent of Deaths</th>\n",
       "      <th>Country Code</th>\n",
       "      <th>Indicator Name</th>\n",
       "      <th>Indicator Code</th>\n",
       "      <th>1960</th>\n",
       "      <th>1961</th>\n",
       "      <th>1962</th>\n",
       "      <th>...</th>\n",
       "      <th>2011</th>\n",
       "      <th>2012</th>\n",
       "      <th>2013</th>\n",
       "      <th>2014</th>\n",
       "      <th>2015</th>\n",
       "      <th>2016</th>\n",
       "      <th>2017</th>\n",
       "      <th>2018</th>\n",
       "      <th>2019</th>\n",
       "      <th>2020</th>\n",
       "    </tr>\n",
       "  </thead>\n",
       "  <tbody>\n",
       "    <tr>\n",
       "      <th>0</th>\n",
       "      <td>Algeria</td>\n",
       "      <td>19</td>\n",
       "      <td>0</td>\n",
       "      <td>0.0</td>\n",
       "      <td>DZA</td>\n",
       "      <td>Primary completion rate, total (% of relevant ...</td>\n",
       "      <td>SE.PRM.CMPT.ZS</td>\n",
       "      <td>0.0</td>\n",
       "      <td>0.0</td>\n",
       "      <td>0.0</td>\n",
       "      <td>...</td>\n",
       "      <td>97.636299</td>\n",
       "      <td>101.552879</td>\n",
       "      <td>106.031677</td>\n",
       "      <td>108.391579</td>\n",
       "      <td>105.546722</td>\n",
       "      <td>105.59005</td>\n",
       "      <td>105.636711</td>\n",
       "      <td>105.143959</td>\n",
       "      <td>101.364632</td>\n",
       "      <td>103.663528</td>\n",
       "    </tr>\n",
       "  </tbody>\n",
       "</table>\n",
       "<p>1 rows × 68 columns</p>\n",
       "</div>"
      ],
      "text/plain": [
       "   Country  Cumulative no. of cases  Cumulative no. of deaths  \\\n",
       "0  Algeria                       19                         0   \n",
       "\n",
       "   Percent of Deaths Country Code  \\\n",
       "0                0.0          DZA   \n",
       "\n",
       "                                      Indicator Name  Indicator Code  1960  \\\n",
       "0  Primary completion rate, total (% of relevant ...  SE.PRM.CMPT.ZS   0.0   \n",
       "\n",
       "   1961  1962  ...       2011        2012        2013        2014        2015  \\\n",
       "0   0.0   0.0  ...  97.636299  101.552879  106.031677  108.391579  105.546722   \n",
       "\n",
       "        2016        2017        2018        2019        2020  \n",
       "0  105.59005  105.636711  105.143959  101.364632  103.663528  \n",
       "\n",
       "[1 rows x 68 columns]"
      ]
     },
     "execution_count": 9,
     "metadata": {},
     "output_type": "execute_result"
    }
   ],
   "source": [
    "swine_edu.head(1)"
   ]
  },
  {
   "cell_type": "code",
   "execution_count": 10,
   "metadata": {},
   "outputs": [
    {
     "data": {
      "image/png": "[encoded data removed]",
      "text/plain": [
       "<Figure size 432x288 with 1 Axes>"
      ]
     },
     "metadata": {
      "needs_background": "light"
     },
     "output_type": "display_data"
    }
   ],
   "source": [
    "#plot cases\n",
    "cases = []\n",
    "country = []\n",
    "\n",
    "for i in range(0, len(swine[\"Country\"])):\n",
    "    if swine[\"Cumulative no. of deaths\"][i] > 0:\n",
    "        # print('nope')\n",
    "        country.append(swine[\"Country\"][i])\n",
    "        cases.append(swine[\"Cumulative no. of cases\"][i])\n",
    "\n",
    "plt.xticks(rotation = 90)\n",
    "plt.plot(country, cases)\n",
    "plt.legend([\"cases\"])\n",
    "plt.show()"
   ]
  },
  {
   "cell_type": "code",
   "execution_count": 16,
   "metadata": {},
   "outputs": [
    {
     "data": {
      "image/png": "[encoded data removed]",
      "text/plain": [
       "<Figure size 432x288 with 1 Axes>"
      ]
     },
     "metadata": {
      "needs_background": "light"
     },
     "output_type": "display_data"
    }
   ],
   "source": [
    "#plot deaths\n",
    "deaths = []\n",
    "country = []\n",
    "\n",
    "for i in range(0, len(swine[\"Country\"])):\n",
    "    if swine[\"Cumulative no. of deaths\"][i] > 0:\n",
    "        # print('nope')\n",
    "        country.append(swine[\"Country\"][i])\n",
    "        deaths.append(swine[\"Cumulative no. of deaths\"][i])\n",
    "\n",
    "plt.xticks(rotation = 90)\n",
    "plt.plot(country, deaths)\n",
    "plt.legend([\"deaths\"])\n",
    "plt.show()"
   ]
  },
  {
   "cell_type": "code",
   "execution_count": 25,
   "metadata": {},
   "outputs": [],
   "source": [
    "#plot education\n",
    "education.head()\n",
    "#List of countries\n",
    "cc = []\n",
    "for i in education[\"Country\"]:\n",
    "    if i not in country:\n",
    "        cc.append(i)\n",
    "    else:\n",
    "        continue\n",
    "cc\n",
    "cc_to_edu = {\"United States\":\"United States of America\"}\n",
    "\n",
    "#replace pov countries with corrected IFS countries\n",
    "education['Country'] = education['Country'].replace(cc_to_edu)\n",
    "# for i in range(0, len(education[\"Country\"])):\n",
    "#     if swine[\"Cumulative no. of deaths\"][i] > 0:\n",
    "#         # print('nope')\n",
    "#         country.append(swine[\"Country\"][i])\n",
    "#         deaths.append(swine[\"Cumulative no. of deaths\"][i])\n",
    "\n",
    "# plt.xticks(rotation = 90)\n",
    "# plt.plot(country, deaths)\n",
    "# plt.legend([\"deaths\"])\n",
    "# plt.show()"
   ]
  },
  {
   "cell_type": "code",
   "execution_count": 29,
   "metadata": {},
   "outputs": [
    {
     "name": "stdout",
     "output_type": "stream",
     "text": [
      "[0, 1, 2, 3, 4, 5, 6, 7, 8, 10, 11, 12, 14, 15, 16, 17, 18, 19, 20, 21, 22, 23, 24, 25, 26, 27, 28, 30, 31, 32, 33, 34, 36, 37, 38, 40, 41, 42, 43, 44, 46, 47, 49, 50, 51, 52, 53, 54, 55, 56, 57, 58, 60, 61, 62, 63, 64, 65, 66, 67, 68, 69, 71, 72, 73, 74, 75, 76, 77, 78, 79, 80, 82, 83, 84, 85, 86, 87, 88, 89, 90, 91, 93, 94, 95, 96, 98, 99, 100, 101, 102, 103, 104, 105, 106, 107, 108, 109, 110, 111, 112, 113, 114, 115, 116, 117, 118, 119, 120, 121, 122, 123, 124, 125, 126, 127, 128, 129, 130, 131, 132, 133, 134, 135, 136, 137, 138, 139, 140, 141, 142, 143, 144, 145, 146, 147, 148, 149, 150, 151, 152, 153, 155, 156, 157, 158, 159, 160, 161, 162, 163, 164, 165, 166, 167, 168, 169, 170, 171, 172, 173, 174, 175, 176, 177, 178, 179, 181, 182, 183, 184, 185, 186, 188, 189, 190, 191, 192, 193, 194, 196, 197, 198, 199, 200, 201, 202, 203, 204, 205, 206, 207, 208, 209, 210, 211, 212, 213, 214, 215, 216, 217, 218, 219, 220, 221, 222, 223, 224, 225, 226, 227, 228, 229, 230, 231, 232, 234, 235, 236, 237, 238, 239, 240, 241, 242, 243, 244, 245, 246, 247, 248, 249, 252, 253, 254, 255, 256, 257, 258, 259, 260, 261, 262, 263, 264, 265]\n"
     ]
    }
   ],
   "source": [
    "drop = []\n",
    "for idx, coun in enumerate(education[\"Country\"]):\n",
    "    if coun not in country:\n",
    "        drop.append(idx)\n",
    "    else:\n",
    "        continue\n",
    "print(drop)"
   ]
  },
  {
   "cell_type": "code",
   "execution_count": 38,
   "metadata": {},
   "outputs": [],
   "source": [
    "keep = set(range(education.shape[0])) - set(drop)\n",
    "sliced = education.take(list(keep))\n",
    "sliced = sliced.fillna(0)"
   ]
  },
  {
   "cell_type": "code",
   "execution_count": 39,
   "metadata": {},
   "outputs": [
    {
     "data": {
      "image/png": "[encoded data removed]",
      "text/plain": [
       "<Figure size 432x288 with 1 Axes>"
      ]
     },
     "metadata": {
      "needs_background": "light"
     },
     "output_type": "display_data"
    }
   ],
   "source": [
    "plt.xticks(rotation = 90)\n",
    "plt.plot(list(sliced[\"Country\"]), list(sliced[\"2009\"]))\n",
    "plt.legend([\"education\"])\n",
    "plt.show()"
   ]
  },
  {
   "cell_type": "code",
   "execution_count": null,
   "metadata": {},
   "outputs": [],
   "source": []
  }
 ],
 "metadata": {
  "interpreter": {
   "hash": "b7921488130001b881a32639244341f25ddf85b78f8804400f9c57ddc4895e60"
  },
  "kernelspec": {
   "display_name": "Python 3.9.10 64-bit (windows store)",
   "language": "python",
   "name": "python3"
  },
  "language_info": {
   "codemirror_mode": {
    "name": "ipython",
    "version": 3
   },
   "file_extension": ".py",
   "mimetype": "text/x-python",
   "name": "python",
   "nbconvert_exporter": "python",
   "pygments_lexer": "ipython3",
   "version": "3.9.10"
  },
  "orig_nbformat": 4
 },
 "nbformat": 4,
 "nbformat_minor": 2
}
