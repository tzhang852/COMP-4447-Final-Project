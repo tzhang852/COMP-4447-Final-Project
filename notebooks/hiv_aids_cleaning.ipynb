{
 "cells": [
  {
   "cell_type": "code",
   "execution_count": 50,
   "metadata": {
    "collapsed": true
   },
   "outputs": [],
   "source": [
    "import pandas as pd\n",
    "import numpy as np\n",
    "\n",
    "pd.set_option('display.expand_frame_repr', False)"
   ]
  },
  {
   "cell_type": "markdown",
   "source": [
    "Read in the data containing death numbers per country"
   ],
   "metadata": {
    "collapsed": false
   }
  },
  {
   "cell_type": "code",
   "execution_count": 51,
   "outputs": [],
   "source": [
    "deaths_by_country_df = pd.read_csv('data/hiv_aids_data/hiv_aids_death_data.csv')"
   ],
   "metadata": {
    "collapsed": false,
    "pycharm": {
     "name": "#%%\n"
    }
   }
  },
  {
   "cell_type": "markdown",
   "source": [
    "Lets check out the first few rows to get a feel for how the data looks"
   ],
   "metadata": {
    "collapsed": false
   }
  },
  {
   "cell_type": "code",
   "execution_count": 52,
   "outputs": [
    {
     "data": {
      "text/plain": "    IndicatorCode                         Indicator ValueType ParentLocationCode   ParentLocation Location type SpatialDimValueCode    Location Period type  Period  ...  FactValueUoM  FactValueNumericLowPrefix  FactValueNumericLow  FactValueNumericHighPrefix  FactValueNumericHigh               Value  FactValueTranslationID  FactComments  Language         DateModified\n0  HIV_0000000006  Number of deaths due to HIV/AIDS   numeric                EUR           Europe       Country                 ALB     Albania        Year    2020  ...           NaN                          <                100.0                           <                 100.0  <100 [<100 – <100]                     NaN           NaN        EN  2021-10-11 00:00:00\n1  HIV_0000000006  Number of deaths due to HIV/AIDS   numeric                EUR           Europe       Country                 ARM     Armenia        Year    2020  ...           NaN                          <                100.0                           <                 100.0  <100 [<100 – <100]                     NaN           NaN        EN  2021-10-11 00:00:00\n2  HIV_0000000006  Number of deaths due to HIV/AIDS   numeric                WPR  Western Pacific       Country                 AUS   Australia        Year    2020  ...           NaN                          <                100.0                           <                 100.0  <100 [<100 – <100]                     NaN           NaN        EN  2021-10-11 00:00:00\n3  HIV_0000000006  Number of deaths due to HIV/AIDS   numeric                AFR           Africa       Country                 CPV  Cabo Verde        Year    2020  ...           NaN                          <                100.0                           <                 100.0  <100 [<100 – <100]                     NaN           NaN        EN  2021-10-11 00:00:00\n4  HIV_0000000006  Number of deaths due to HIV/AIDS   numeric                AFR           Africa       Country                 COM     Comoros        Year    2020  ...           NaN                          <                100.0                           <                 100.0  <100 [<100 – <100]                     NaN           NaN        EN  2021-10-11 00:00:00\n\n[5 rows x 34 columns]",
      "text/html": "<div>\n<style scoped>\n    .dataframe tbody tr th:only-of-type {\n        vertical-align: middle;\n    }\n\n    .dataframe tbody tr th {\n        vertical-align: top;\n    }\n\n    .dataframe thead th {\n        text-align: right;\n    }\n</style>\n<table border=\"1\" class=\"dataframe\">\n  <thead>\n    <tr style=\"text-align: right;\">\n      <th></th>\n      <th>IndicatorCode</th>\n      <th>Indicator</th>\n      <th>ValueType</th>\n      <th>ParentLocationCode</th>\n      <th>ParentLocation</th>\n      <th>Location type</th>\n      <th>SpatialDimValueCode</th>\n      <th>Location</th>\n      <th>Period type</th>\n      <th>Period</th>\n      <th>...</th>\n      <th>FactValueUoM</th>\n      <th>FactValueNumericLowPrefix</th>\n      <th>FactValueNumericLow</th>\n      <th>FactValueNumericHighPrefix</th>\n      <th>FactValueNumericHigh</th>\n      <th>Value</th>\n      <th>FactValueTranslationID</th>\n      <th>FactComments</th>\n      <th>Language</th>\n      <th>DateModified</th>\n    </tr>\n  </thead>\n  <tbody>\n    <tr>\n      <th>0</th>\n      <td>HIV_0000000006</td>\n      <td>Number of deaths due to HIV/AIDS</td>\n      <td>numeric</td>\n      <td>EUR</td>\n      <td>Europe</td>\n      <td>Country</td>\n      <td>ALB</td>\n      <td>Albania</td>\n      <td>Year</td>\n      <td>2020</td>\n      <td>...</td>\n      <td>NaN</td>\n      <td>&lt;</td>\n      <td>100.0</td>\n      <td>&lt;</td>\n      <td>100.0</td>\n      <td>&lt;100 [&lt;100 – &lt;100]</td>\n      <td>NaN</td>\n      <td>NaN</td>\n      <td>EN</td>\n      <td>2021-10-11 00:00:00</td>\n    </tr>\n    <tr>\n      <th>1</th>\n      <td>HIV_0000000006</td>\n      <td>Number of deaths due to HIV/AIDS</td>\n      <td>numeric</td>\n      <td>EUR</td>\n      <td>Europe</td>\n      <td>Country</td>\n      <td>ARM</td>\n      <td>Armenia</td>\n      <td>Year</td>\n      <td>2020</td>\n      <td>...</td>\n      <td>NaN</td>\n      <td>&lt;</td>\n      <td>100.0</td>\n      <td>&lt;</td>\n      <td>100.0</td>\n      <td>&lt;100 [&lt;100 – &lt;100]</td>\n      <td>NaN</td>\n      <td>NaN</td>\n      <td>EN</td>\n      <td>2021-10-11 00:00:00</td>\n    </tr>\n    <tr>\n      <th>2</th>\n      <td>HIV_0000000006</td>\n      <td>Number of deaths due to HIV/AIDS</td>\n      <td>numeric</td>\n      <td>WPR</td>\n      <td>Western Pacific</td>\n      <td>Country</td>\n      <td>AUS</td>\n      <td>Australia</td>\n      <td>Year</td>\n      <td>2020</td>\n      <td>...</td>\n      <td>NaN</td>\n      <td>&lt;</td>\n      <td>100.0</td>\n      <td>&lt;</td>\n      <td>100.0</td>\n      <td>&lt;100 [&lt;100 – &lt;100]</td>\n      <td>NaN</td>\n      <td>NaN</td>\n      <td>EN</td>\n      <td>2021-10-11 00:00:00</td>\n    </tr>\n    <tr>\n      <th>3</th>\n      <td>HIV_0000000006</td>\n      <td>Number of deaths due to HIV/AIDS</td>\n      <td>numeric</td>\n      <td>AFR</td>\n      <td>Africa</td>\n      <td>Country</td>\n      <td>CPV</td>\n      <td>Cabo Verde</td>\n      <td>Year</td>\n      <td>2020</td>\n      <td>...</td>\n      <td>NaN</td>\n      <td>&lt;</td>\n      <td>100.0</td>\n      <td>&lt;</td>\n      <td>100.0</td>\n      <td>&lt;100 [&lt;100 – &lt;100]</td>\n      <td>NaN</td>\n      <td>NaN</td>\n      <td>EN</td>\n      <td>2021-10-11 00:00:00</td>\n    </tr>\n    <tr>\n      <th>4</th>\n      <td>HIV_0000000006</td>\n      <td>Number of deaths due to HIV/AIDS</td>\n      <td>numeric</td>\n      <td>AFR</td>\n      <td>Africa</td>\n      <td>Country</td>\n      <td>COM</td>\n      <td>Comoros</td>\n      <td>Year</td>\n      <td>2020</td>\n      <td>...</td>\n      <td>NaN</td>\n      <td>&lt;</td>\n      <td>100.0</td>\n      <td>&lt;</td>\n      <td>100.0</td>\n      <td>&lt;100 [&lt;100 – &lt;100]</td>\n      <td>NaN</td>\n      <td>NaN</td>\n      <td>EN</td>\n      <td>2021-10-11 00:00:00</td>\n    </tr>\n  </tbody>\n</table>\n<p>5 rows × 34 columns</p>\n</div>"
     },
     "execution_count": 52,
     "metadata": {},
     "output_type": "execute_result"
    }
   ],
   "source": [
    "deaths_by_country_df.head()"
   ],
   "metadata": {
    "collapsed": false,
    "pycharm": {
     "name": "#%%\n"
    }
   }
  },
  {
   "cell_type": "markdown",
   "source": [
    "Looking more closely at the data locally as a csv a lot of these columns have no values. Lets drop all the columns with no values"
   ],
   "metadata": {
    "collapsed": false
   }
  },
  {
   "cell_type": "code",
   "execution_count": 53,
   "outputs": [
    {
     "data": {
      "text/plain": "       IndicatorCode                         Indicator ValueType ParentLocationCode   ParentLocation Location type SpatialDimValueCode                                           Location Period type  Period  ...  FactValueNumericPrefix FactValueNumeric  FactValueNumericLowPrefix FactValueNumericLow  FactValueNumericHighPrefix FactValueNumericHigh               Value FactValueTranslationID  Language         DateModified\n0     HIV_0000000006  Number of deaths due to HIV/AIDS   numeric                EUR           Europe       Country                 ALB                                            Albania        Year    2020  ...                       <            100.0                          <               100.0                           <                100.0  <100 [<100 – <100]                    NaN        EN  2021-10-11 00:00:00\n1     HIV_0000000006  Number of deaths due to HIV/AIDS   numeric                EUR           Europe       Country                 ARM                                            Armenia        Year    2020  ...                       <            100.0                          <               100.0                           <                100.0  <100 [<100 – <100]                    NaN        EN  2021-10-11 00:00:00\n2     HIV_0000000006  Number of deaths due to HIV/AIDS   numeric                WPR  Western Pacific       Country                 AUS                                          Australia        Year    2020  ...                       <            100.0                          <               100.0                           <                100.0  <100 [<100 – <100]                    NaN        EN  2021-10-11 00:00:00\n3     HIV_0000000006  Number of deaths due to HIV/AIDS   numeric                AFR           Africa       Country                 CPV                                         Cabo Verde        Year    2020  ...                       <            100.0                          <               100.0                           <                100.0  <100 [<100 – <100]                    NaN        EN  2021-10-11 00:00:00\n4     HIV_0000000006  Number of deaths due to HIV/AIDS   numeric                AFR           Africa       Country                 COM                                            Comoros        Year    2020  ...                       <            100.0                          <               100.0                           <                100.0  <100 [<100 – <100]                    NaN        EN  2021-10-11 00:00:00\n...              ...                               ...       ...                ...              ...           ...                 ...                                                ...         ...     ...  ...                     ...              ...                        ...                 ...                         ...                  ...                 ...                    ...       ...                  ...\n3607  HIV_0000000006  Number of deaths due to HIV/AIDS   numeric                EUR           Europe       Country                 SWE                                             Sweden        Year    2000  ...                     NaN              NaN                        NaN                 NaN                         NaN                  NaN             No data                  827.0        EN  2021-10-11 00:00:00\n3608  HIV_0000000006  Number of deaths due to HIV/AIDS   numeric                EUR           Europe       Country                 TUR                                             Turkey        Year    2000  ...                     NaN              NaN                        NaN                 NaN                         NaN                  NaN             No data                  827.0        EN  2021-10-11 00:00:00\n3609  HIV_0000000006  Number of deaths due to HIV/AIDS   numeric                EUR           Europe       Country                 TKM                                       Turkmenistan        Year    2000  ...                     NaN              NaN                        NaN                 NaN                         NaN                  NaN             No data                  827.0        EN  2021-10-11 00:00:00\n3610  HIV_0000000006  Number of deaths due to HIV/AIDS   numeric                EUR           Europe       Country                 GBR  United Kingdom of Great Britain and Northern I...        Year    2000  ...                     NaN              NaN                        NaN                 NaN                         NaN                  NaN             No data                  827.0        EN  2021-10-11 00:00:00\n3611  HIV_0000000006  Number of deaths due to HIV/AIDS   numeric                AMR         Americas       Country                 USA                           United States of America        Year    2000  ...                     NaN              NaN                        NaN                 NaN                         NaN                  NaN             No data                  827.0        EN  2021-10-11 00:00:00\n\n[3612 rows x 21 columns]",
      "text/html": "<div>\n<style scoped>\n    .dataframe tbody tr th:only-of-type {\n        vertical-align: middle;\n    }\n\n    .dataframe tbody tr th {\n        vertical-align: top;\n    }\n\n    .dataframe thead th {\n        text-align: right;\n    }\n</style>\n<table border=\"1\" class=\"dataframe\">\n  <thead>\n    <tr style=\"text-align: right;\">\n      <th></th>\n      <th>IndicatorCode</th>\n      <th>Indicator</th>\n      <th>ValueType</th>\n      <th>ParentLocationCode</th>\n      <th>ParentLocation</th>\n      <th>Location type</th>\n      <th>SpatialDimValueCode</th>\n      <th>Location</th>\n      <th>Period type</th>\n      <th>Period</th>\n      <th>...</th>\n      <th>FactValueNumericPrefix</th>\n      <th>FactValueNumeric</th>\n      <th>FactValueNumericLowPrefix</th>\n      <th>FactValueNumericLow</th>\n      <th>FactValueNumericHighPrefix</th>\n      <th>FactValueNumericHigh</th>\n      <th>Value</th>\n      <th>FactValueTranslationID</th>\n      <th>Language</th>\n      <th>DateModified</th>\n    </tr>\n  </thead>\n  <tbody>\n    <tr>\n      <th>0</th>\n      <td>HIV_0000000006</td>\n      <td>Number of deaths due to HIV/AIDS</td>\n      <td>numeric</td>\n      <td>EUR</td>\n      <td>Europe</td>\n      <td>Country</td>\n      <td>ALB</td>\n      <td>Albania</td>\n      <td>Year</td>\n      <td>2020</td>\n      <td>...</td>\n      <td>&lt;</td>\n      <td>100.0</td>\n      <td>&lt;</td>\n      <td>100.0</td>\n      <td>&lt;</td>\n      <td>100.0</td>\n      <td>&lt;100 [&lt;100 – &lt;100]</td>\n      <td>NaN</td>\n      <td>EN</td>\n      <td>2021-10-11 00:00:00</td>\n    </tr>\n    <tr>\n      <th>1</th>\n      <td>HIV_0000000006</td>\n      <td>Number of deaths due to HIV/AIDS</td>\n      <td>numeric</td>\n      <td>EUR</td>\n      <td>Europe</td>\n      <td>Country</td>\n      <td>ARM</td>\n      <td>Armenia</td>\n      <td>Year</td>\n      <td>2020</td>\n      <td>...</td>\n      <td>&lt;</td>\n      <td>100.0</td>\n      <td>&lt;</td>\n      <td>100.0</td>\n      <td>&lt;</td>\n      <td>100.0</td>\n      <td>&lt;100 [&lt;100 – &lt;100]</td>\n      <td>NaN</td>\n      <td>EN</td>\n      <td>2021-10-11 00:00:00</td>\n    </tr>\n    <tr>\n      <th>2</th>\n      <td>HIV_0000000006</td>\n      <td>Number of deaths due to HIV/AIDS</td>\n      <td>numeric</td>\n      <td>WPR</td>\n      <td>Western Pacific</td>\n      <td>Country</td>\n      <td>AUS</td>\n      <td>Australia</td>\n      <td>Year</td>\n      <td>2020</td>\n      <td>...</td>\n      <td>&lt;</td>\n      <td>100.0</td>\n      <td>&lt;</td>\n      <td>100.0</td>\n      <td>&lt;</td>\n      <td>100.0</td>\n      <td>&lt;100 [&lt;100 – &lt;100]</td>\n      <td>NaN</td>\n      <td>EN</td>\n      <td>2021-10-11 00:00:00</td>\n    </tr>\n    <tr>\n      <th>3</th>\n      <td>HIV_0000000006</td>\n      <td>Number of deaths due to HIV/AIDS</td>\n      <td>numeric</td>\n      <td>AFR</td>\n      <td>Africa</td>\n      <td>Country</td>\n      <td>CPV</td>\n      <td>Cabo Verde</td>\n      <td>Year</td>\n      <td>2020</td>\n      <td>...</td>\n      <td>&lt;</td>\n      <td>100.0</td>\n      <td>&lt;</td>\n      <td>100.0</td>\n      <td>&lt;</td>\n      <td>100.0</td>\n      <td>&lt;100 [&lt;100 – &lt;100]</td>\n      <td>NaN</td>\n      <td>EN</td>\n      <td>2021-10-11 00:00:00</td>\n    </tr>\n    <tr>\n      <th>4</th>\n      <td>HIV_0000000006</td>\n      <td>Number of deaths due to HIV/AIDS</td>\n      <td>numeric</td>\n      <td>AFR</td>\n      <td>Africa</td>\n      <td>Country</td>\n      <td>COM</td>\n      <td>Comoros</td>\n      <td>Year</td>\n      <td>2020</td>\n      <td>...</td>\n      <td>&lt;</td>\n      <td>100.0</td>\n      <td>&lt;</td>\n      <td>100.0</td>\n      <td>&lt;</td>\n      <td>100.0</td>\n      <td>&lt;100 [&lt;100 – &lt;100]</td>\n      <td>NaN</td>\n      <td>EN</td>\n      <td>2021-10-11 00:00:00</td>\n    </tr>\n    <tr>\n      <th>...</th>\n      <td>...</td>\n      <td>...</td>\n      <td>...</td>\n      <td>...</td>\n      <td>...</td>\n      <td>...</td>\n      <td>...</td>\n      <td>...</td>\n      <td>...</td>\n      <td>...</td>\n      <td>...</td>\n      <td>...</td>\n      <td>...</td>\n      <td>...</td>\n      <td>...</td>\n      <td>...</td>\n      <td>...</td>\n      <td>...</td>\n      <td>...</td>\n      <td>...</td>\n      <td>...</td>\n    </tr>\n    <tr>\n      <th>3607</th>\n      <td>HIV_0000000006</td>\n      <td>Number of deaths due to HIV/AIDS</td>\n      <td>numeric</td>\n      <td>EUR</td>\n      <td>Europe</td>\n      <td>Country</td>\n      <td>SWE</td>\n      <td>Sweden</td>\n      <td>Year</td>\n      <td>2000</td>\n      <td>...</td>\n      <td>NaN</td>\n      <td>NaN</td>\n      <td>NaN</td>\n      <td>NaN</td>\n      <td>NaN</td>\n      <td>NaN</td>\n      <td>No data</td>\n      <td>827.0</td>\n      <td>EN</td>\n      <td>2021-10-11 00:00:00</td>\n    </tr>\n    <tr>\n      <th>3608</th>\n      <td>HIV_0000000006</td>\n      <td>Number of deaths due to HIV/AIDS</td>\n      <td>numeric</td>\n      <td>EUR</td>\n      <td>Europe</td>\n      <td>Country</td>\n      <td>TUR</td>\n      <td>Turkey</td>\n      <td>Year</td>\n      <td>2000</td>\n      <td>...</td>\n      <td>NaN</td>\n      <td>NaN</td>\n      <td>NaN</td>\n      <td>NaN</td>\n      <td>NaN</td>\n      <td>NaN</td>\n      <td>No data</td>\n      <td>827.0</td>\n      <td>EN</td>\n      <td>2021-10-11 00:00:00</td>\n    </tr>\n    <tr>\n      <th>3609</th>\n      <td>HIV_0000000006</td>\n      <td>Number of deaths due to HIV/AIDS</td>\n      <td>numeric</td>\n      <td>EUR</td>\n      <td>Europe</td>\n      <td>Country</td>\n      <td>TKM</td>\n      <td>Turkmenistan</td>\n      <td>Year</td>\n      <td>2000</td>\n      <td>...</td>\n      <td>NaN</td>\n      <td>NaN</td>\n      <td>NaN</td>\n      <td>NaN</td>\n      <td>NaN</td>\n      <td>NaN</td>\n      <td>No data</td>\n      <td>827.0</td>\n      <td>EN</td>\n      <td>2021-10-11 00:00:00</td>\n    </tr>\n    <tr>\n      <th>3610</th>\n      <td>HIV_0000000006</td>\n      <td>Number of deaths due to HIV/AIDS</td>\n      <td>numeric</td>\n      <td>EUR</td>\n      <td>Europe</td>\n      <td>Country</td>\n      <td>GBR</td>\n      <td>United Kingdom of Great Britain and Northern I...</td>\n      <td>Year</td>\n      <td>2000</td>\n      <td>...</td>\n      <td>NaN</td>\n      <td>NaN</td>\n      <td>NaN</td>\n      <td>NaN</td>\n      <td>NaN</td>\n      <td>NaN</td>\n      <td>No data</td>\n      <td>827.0</td>\n      <td>EN</td>\n      <td>2021-10-11 00:00:00</td>\n    </tr>\n    <tr>\n      <th>3611</th>\n      <td>HIV_0000000006</td>\n      <td>Number of deaths due to HIV/AIDS</td>\n      <td>numeric</td>\n      <td>AMR</td>\n      <td>Americas</td>\n      <td>Country</td>\n      <td>USA</td>\n      <td>United States of America</td>\n      <td>Year</td>\n      <td>2000</td>\n      <td>...</td>\n      <td>NaN</td>\n      <td>NaN</td>\n      <td>NaN</td>\n      <td>NaN</td>\n      <td>NaN</td>\n      <td>NaN</td>\n      <td>No data</td>\n      <td>827.0</td>\n      <td>EN</td>\n      <td>2021-10-11 00:00:00</td>\n    </tr>\n  </tbody>\n</table>\n<p>3612 rows × 21 columns</p>\n</div>"
     },
     "execution_count": 53,
     "metadata": {},
     "output_type": "execute_result"
    }
   ],
   "source": [
    "deaths_by_country_df.dropna(axis=1, how='all', inplace=True)\n",
    "deaths_by_country_df"
   ],
   "metadata": {
    "collapsed": false,
    "pycharm": {
     "name": "#%%\n"
    }
   }
  },
  {
   "cell_type": "markdown",
   "source": [
    "The IndicatorCode, ValueType, ParentsLocationCode,ParentLocation,LocationType,Period type,IsLastYear,Language will all be useless dropping them"
   ],
   "metadata": {
    "collapsed": false,
    "pycharm": {
     "name": "#%% md\n"
    }
   }
  },
  {
   "cell_type": "markdown",
   "source": [],
   "metadata": {
    "collapsed": false
   }
  },
  {
   "cell_type": "code",
   "execution_count": 54,
   "outputs": [],
   "source": [
    "deaths_by_country_df.drop(\n",
    "    columns=['IndicatorCode', 'ValueType', 'ParentLocationCode', 'ParentLocation', 'Location type', 'Period type',\n",
    "             'IsLatestYear', 'Language', 'DateModified', 'FactValueTranslationID', 'FactValueNumericPrefix',\n",
    "             'FactValueNumericLowPrefix', 'FactValueNumericLowPrefix', 'FactValueNumericHighPrefix',\n",
    "             'FactValueNumericHigh', 'Value'], axis=1, inplace=True)"
   ],
   "metadata": {
    "collapsed": false,
    "pycharm": {
     "name": "#%%\n"
    }
   }
  },
  {
   "cell_type": "markdown",
   "source": [
    "There is still missing data for the value which is the most important column for analysis, dropping all the rows where the value is missing."
   ],
   "metadata": {
    "collapsed": false
   }
  },
  {
   "cell_type": "code",
   "execution_count": 55,
   "outputs": [
    {
     "data": {
      "text/plain": "                             Indicator SpatialDimValueCode                     Location  Period  FactValueNumeric  FactValueNumericLow\n0     Number of deaths due to HIV/AIDS                 ALB                      Albania    2020             100.0                100.0\n1     Number of deaths due to HIV/AIDS                 ARM                      Armenia    2020             100.0                100.0\n2     Number of deaths due to HIV/AIDS                 AUS                    Australia    2020             100.0                100.0\n3     Number of deaths due to HIV/AIDS                 CPV                   Cabo Verde    2020             100.0                100.0\n4     Number of deaths due to HIV/AIDS                 COM                      Comoros    2020             100.0                100.0\n...                                ...                 ...                          ...     ...               ...                  ...\n3565  Number of deaths due to HIV/AIDS                 NAM                      Namibia    2000            7600.0               7000.0\n3566  Number of deaths due to HIV/AIDS                 MLI                         Mali    2000            8600.0               6200.0\n3567  Number of deaths due to HIV/AIDS                 TZA  United Republic of Tanzania    2000           86000.0              78000.0\n3568  Number of deaths due to HIV/AIDS                 UGA                       Uganda    2000           89000.0              82000.0\n3569  Number of deaths due to HIV/AIDS                 ECU                      Ecuador    2000             910.0                500.0\n\n[2741 rows x 6 columns]",
      "text/html": "<div>\n<style scoped>\n    .dataframe tbody tr th:only-of-type {\n        vertical-align: middle;\n    }\n\n    .dataframe tbody tr th {\n        vertical-align: top;\n    }\n\n    .dataframe thead th {\n        text-align: right;\n    }\n</style>\n<table border=\"1\" class=\"dataframe\">\n  <thead>\n    <tr style=\"text-align: right;\">\n      <th></th>\n      <th>Indicator</th>\n      <th>SpatialDimValueCode</th>\n      <th>Location</th>\n      <th>Period</th>\n      <th>FactValueNumeric</th>\n      <th>FactValueNumericLow</th>\n    </tr>\n  </thead>\n  <tbody>\n    <tr>\n      <th>0</th>\n      <td>Number of deaths due to HIV/AIDS</td>\n      <td>ALB</td>\n      <td>Albania</td>\n      <td>2020</td>\n      <td>100.0</td>\n      <td>100.0</td>\n    </tr>\n    <tr>\n      <th>1</th>\n      <td>Number of deaths due to HIV/AIDS</td>\n      <td>ARM</td>\n      <td>Armenia</td>\n      <td>2020</td>\n      <td>100.0</td>\n      <td>100.0</td>\n    </tr>\n    <tr>\n      <th>2</th>\n      <td>Number of deaths due to HIV/AIDS</td>\n      <td>AUS</td>\n      <td>Australia</td>\n      <td>2020</td>\n      <td>100.0</td>\n      <td>100.0</td>\n    </tr>\n    <tr>\n      <th>3</th>\n      <td>Number of deaths due to HIV/AIDS</td>\n      <td>CPV</td>\n      <td>Cabo Verde</td>\n      <td>2020</td>\n      <td>100.0</td>\n      <td>100.0</td>\n    </tr>\n    <tr>\n      <th>4</th>\n      <td>Number of deaths due to HIV/AIDS</td>\n      <td>COM</td>\n      <td>Comoros</td>\n      <td>2020</td>\n      <td>100.0</td>\n      <td>100.0</td>\n    </tr>\n    <tr>\n      <th>...</th>\n      <td>...</td>\n      <td>...</td>\n      <td>...</td>\n      <td>...</td>\n      <td>...</td>\n      <td>...</td>\n    </tr>\n    <tr>\n      <th>3565</th>\n      <td>Number of deaths due to HIV/AIDS</td>\n      <td>NAM</td>\n      <td>Namibia</td>\n      <td>2000</td>\n      <td>7600.0</td>\n      <td>7000.0</td>\n    </tr>\n    <tr>\n      <th>3566</th>\n      <td>Number of deaths due to HIV/AIDS</td>\n      <td>MLI</td>\n      <td>Mali</td>\n      <td>2000</td>\n      <td>8600.0</td>\n      <td>6200.0</td>\n    </tr>\n    <tr>\n      <th>3567</th>\n      <td>Number of deaths due to HIV/AIDS</td>\n      <td>TZA</td>\n      <td>United Republic of Tanzania</td>\n      <td>2000</td>\n      <td>86000.0</td>\n      <td>78000.0</td>\n    </tr>\n    <tr>\n      <th>3568</th>\n      <td>Number of deaths due to HIV/AIDS</td>\n      <td>UGA</td>\n      <td>Uganda</td>\n      <td>2000</td>\n      <td>89000.0</td>\n      <td>82000.0</td>\n    </tr>\n    <tr>\n      <th>3569</th>\n      <td>Number of deaths due to HIV/AIDS</td>\n      <td>ECU</td>\n      <td>Ecuador</td>\n      <td>2000</td>\n      <td>910.0</td>\n      <td>500.0</td>\n    </tr>\n  </tbody>\n</table>\n<p>2741 rows × 6 columns</p>\n</div>"
     },
     "execution_count": 55,
     "metadata": {},
     "output_type": "execute_result"
    }
   ],
   "source": [
    "deaths_by_country_df.dropna(subset='FactValueNumeric', axis=0, inplace=True)\n",
    "deaths_by_country_df"
   ],
   "metadata": {
    "collapsed": false,
    "pycharm": {
     "name": "#%%\n"
    }
   }
  },
  {
   "cell_type": "markdown",
   "source": [
    "After getting rid of all of those values there are only 131 countries"
   ],
   "metadata": {
    "collapsed": false,
    "pycharm": {
     "name": "#%% md\n"
    }
   }
  },
  {
   "cell_type": "code",
   "execution_count": 56,
   "outputs": [
    {
     "name": "stdout",
     "output_type": "stream",
     "text": [
      "['Albania' 'Armenia' 'Australia' 'Cabo Verde' 'Comoros' 'Croatia'\n",
      " 'Denmark' 'Estonia' 'Fiji' 'Georgia' 'Greece' 'Iceland' 'Ireland' 'Japan'\n",
      " 'Jordan' 'Lebanon' 'Libya' 'Mongolia' 'New Zealand' 'Norway' 'Qatar'\n",
      " 'Sao Tome and Principe' 'Serbia' 'Singapore' 'Syrian Arab Republic'\n",
      " 'Timor-Leste' 'United Arab Emirates' 'Bhutan' 'Kyrgyzstan' 'Netherlands'\n",
      " 'Montenegro' 'Azerbaijan' 'Guyana' 'Saudi Arabia' 'Sri Lanka' 'Suriname'\n",
      " 'Uruguay' 'Belize' 'Switzerland' 'Tunisia' 'Algeria' 'Belarus'\n",
      " 'Bolivia (Plurinational State of)' 'Trinidad and Tobago' 'Kazakhstan'\n",
      " 'Nicaragua' 'Romania' 'Eritrea' 'Djibouti' 'Costa Rica' 'Egypt'\n",
      " \"Lao People's Democratic Republic\" 'Portugal' 'Tajikistan' 'Yemen'\n",
      " 'Morocco' 'Somalia' 'Panama' 'Republic of Moldova' 'Cuba' 'Mauritania'\n",
      " 'Paraguay' 'Germany' 'Papua New Guinea' 'Ecuador' 'Niger' 'Senegal'\n",
      " 'Cambodia' 'Liberia' 'Gambia' 'Argentina' 'Guinea-Bissau' 'Burundi'\n",
      " 'Madagascar' 'Dominican Republic' 'Malawi' 'Thailand' 'Ghana' 'Brazil'\n",
      " 'Ethiopia' 'Cameroon' 'Angola' 'Democratic Republic of the Congo' 'Kenya'\n",
      " 'Malaysia' 'Benin' 'Haiti' 'Equatorial Guinea' 'Sudan' 'Eswatini'\n",
      " 'Rwanda' 'Zimbabwe' 'Uganda' 'Zambia' 'Indonesia' 'Colombia' 'Chad'\n",
      " 'Namibia' 'Togo' 'Ukraine' 'Iran (Islamic Republic of)'\n",
      " 'Central African Republic' 'Sierra Leone' 'Burkina Faso' 'Guinea'\n",
      " 'Viet Nam' 'United Republic of Tanzania' 'Mozambique'\n",
      " 'Venezuela (Bolivarian Republic of)' 'Mexico' 'Mali' 'Lesotho' 'Nigeria'\n",
      " 'Botswana' 'Afghanistan' 'Congo' 'Uzbekistan' 'El Salvador' 'Nepal'\n",
      " 'Honduras' 'Spain' 'Guatemala' 'Pakistan' 'South Sudan' 'Jamaica'\n",
      " 'Philippines' 'Mauritius' 'South Africa' 'Côte d’Ivoire' 'Gabon' 'Peru']\n"
     ]
    },
    {
     "data": {
      "text/plain": "131"
     },
     "execution_count": 56,
     "metadata": {},
     "output_type": "execute_result"
    }
   ],
   "source": [
    "print(deaths_by_country_df.Location.unique())\n",
    "len(deaths_by_country_df.Location.unique())"
   ],
   "metadata": {
    "collapsed": false,
    "pycharm": {
     "name": "#%%\n"
    }
   }
  },
  {
   "cell_type": "markdown",
   "source": [
    "Lets write the finished dataset to a csv"
   ],
   "metadata": {
    "collapsed": false,
    "pycharm": {
     "name": "#%% md\n"
    }
   }
  },
  {
   "cell_type": "code",
   "execution_count": null,
   "outputs": [],
   "source": [
    "def init_data(csv):\n",
    "    if \"swine_flu_clean\" in csv:\n",
    "        education = pd.read_csv(csv, skiprows = 4)\n",
    "        return education"
   ],
   "metadata": {
    "collapsed": false,
    "pycharm": {
     "name": "#%%\n"
    }
   }
  }
 ],
 "metadata": {
  "kernelspec": {
   "display_name": "Python 3",
   "language": "python",
   "name": "python3"
  },
  "language_info": {
   "codemirror_mode": {
    "name": "ipython",
    "version": 2
   },
   "file_extension": ".py",
   "mimetype": "text/x-python",
   "name": "python",
   "nbconvert_exporter": "python",
   "pygments_lexer": "ipython2",
   "version": "2.7.6"
  }
 },
 "nbformat": 4,
 "nbformat_minor": 0
}