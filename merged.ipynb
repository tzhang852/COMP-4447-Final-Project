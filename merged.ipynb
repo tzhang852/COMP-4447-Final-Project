{
 "cells": [
  {
   "cell_type": "markdown",
   "source": [
    "Ian\n",
    "TODO: exploratory hiv/aids, merge hiv/aids into Tiffany's merged df, clean covid, exploratory covid, merge covid into larger df\n",
    "DONE:\n",
    "\n",
    "Tiffany\n",
    "TODO: probably something ¯\\_(ツ)_/¯\n",
    "\n",
    "Both\n",
    "TODO: Cleaning/format the merged notebook for handin to make it professional"
   ],
   "metadata": {
    "collapsed": false
   }
  },
  {
   "cell_type": "markdown",
   "source": [
    "# Import packages"
   ],
   "metadata": {
    "collapsed": false
   }
  },
  {
   "cell_type": "code",
   "execution_count": 6,
   "metadata": {
    "collapsed": true
   },
   "outputs": [],
   "source": [
    "import pandas as pd\n",
    "import numpy as np\n",
    "import seaborn as sns\n",
    "import matplotlib.pyplot as plt"
   ]
  },
  {
   "cell_type": "markdown",
   "metadata": {
    "pycharm": {
     "name": "#%% md\n"
    }
   },
   "source": [
    "# Data initializer"
   ]
  },
  {
   "cell_type": "code",
   "execution_count": 7,
   "metadata": {},
   "outputs": [],
   "source": [
    "def init_data(csv):\n",
    "    if \"education\" in csv:\n",
    "        education = pd.read_csv(csv, skiprows=4)\n",
    "        return education\n",
    "        # education.head()\n",
    "    if \"GDP\" in csv:\n",
    "        gdp = pd.read_csv(csv, skiprows=4)\n",
    "        return gdp\n",
    "    if \"malnutrition\" in csv:\n",
    "        malnutrition = pd.read_csv(csv, skiprows=4)\n",
    "        return malnutrition\n",
    "    if \"poverty\" in csv:\n",
    "        poverty = pd.read_csv(csv, skiprows=4)\n",
    "        return poverty\n",
    "    if \"swine\" in csv:\n",
    "        swine_flu = pd.read_csv(csv)\n",
    "        return swine_flu\n",
    "    if \"hiv_aids\" in csv:\n",
    "        hiv_aids = pd.read_csv(csv)\n",
    "        return hiv_aids\n",
    "    if \"covid\" in csv:\n",
    "        covid = pd.read_csv(csv)\n",
    "        return covid"
   ]
  },
  {
   "cell_type": "markdown",
   "source": [
    "education"
   ],
   "metadata": {
    "collapsed": false
   }
  },
  {
   "cell_type": "code",
   "execution_count": 8,
   "metadata": {},
   "outputs": [
    {
     "data": {
      "text/plain": "  Country Code                                     Indicator Name  \\\n0          ABW  Primary completion rate, total (% of relevant ...   \n1          AFE  Primary completion rate, total (% of relevant ...   \n2          AFG  Primary completion rate, total (% of relevant ...   \n3          AFW  Primary completion rate, total (% of relevant ...   \n4          AGO  Primary completion rate, total (% of relevant ...   \n\n   Indicator Code  1960  1961  1962  1963  1964  1965  1966  ...  2012  \\\n0  SE.PRM.CMPT.ZS   NaN   NaN   NaN   NaN   NaN   NaN   NaN  ...   NaN   \n1  SE.PRM.CMPT.ZS   NaN   NaN   NaN   NaN   NaN   NaN   NaN  ...   NaN   \n2  SE.PRM.CMPT.ZS   NaN   NaN   NaN   NaN   NaN   NaN   NaN  ...   NaN   \n3  SE.PRM.CMPT.ZS   NaN   NaN   NaN   NaN   NaN   NaN   NaN  ...   NaN   \n4  SE.PRM.CMPT.ZS   NaN   NaN   NaN   NaN   NaN   NaN   NaN  ...   NaN   \n\n        2013        2014  2015       2016       2017       2018       2019  \\\n0  96.570641  101.180557   NaN        NaN        NaN        NaN        NaN   \n1        NaN         NaN   NaN        NaN        NaN        NaN        NaN   \n2        NaN         NaN   NaN  80.495041  84.414948  85.625328  84.330589   \n3        NaN         NaN   NaN        NaN        NaN        NaN        NaN   \n4        NaN         NaN   NaN        NaN        NaN        NaN        NaN   \n\n   2020                      Country  \n0   NaN                        Aruba  \n1   NaN  Africa Eastern and Southern  \n2   NaN                  Afghanistan  \n3   NaN   Africa Western and Central  \n4   NaN                       Angola  \n\n[5 rows x 65 columns]",
      "text/html": "<div>\n<style scoped>\n    .dataframe tbody tr th:only-of-type {\n        vertical-align: middle;\n    }\n\n    .dataframe tbody tr th {\n        vertical-align: top;\n    }\n\n    .dataframe thead th {\n        text-align: right;\n    }\n</style>\n<table border=\"1\" class=\"dataframe\">\n  <thead>\n    <tr style=\"text-align: right;\">\n      <th></th>\n      <th>Country Code</th>\n      <th>Indicator Name</th>\n      <th>Indicator Code</th>\n      <th>1960</th>\n      <th>1961</th>\n      <th>1962</th>\n      <th>1963</th>\n      <th>1964</th>\n      <th>1965</th>\n      <th>1966</th>\n      <th>...</th>\n      <th>2012</th>\n      <th>2013</th>\n      <th>2014</th>\n      <th>2015</th>\n      <th>2016</th>\n      <th>2017</th>\n      <th>2018</th>\n      <th>2019</th>\n      <th>2020</th>\n      <th>Country</th>\n    </tr>\n  </thead>\n  <tbody>\n    <tr>\n      <th>0</th>\n      <td>ABW</td>\n      <td>Primary completion rate, total (% of relevant ...</td>\n      <td>SE.PRM.CMPT.ZS</td>\n      <td>NaN</td>\n      <td>NaN</td>\n      <td>NaN</td>\n      <td>NaN</td>\n      <td>NaN</td>\n      <td>NaN</td>\n      <td>NaN</td>\n      <td>...</td>\n      <td>NaN</td>\n      <td>96.570641</td>\n      <td>101.180557</td>\n      <td>NaN</td>\n      <td>NaN</td>\n      <td>NaN</td>\n      <td>NaN</td>\n      <td>NaN</td>\n      <td>NaN</td>\n      <td>Aruba</td>\n    </tr>\n    <tr>\n      <th>1</th>\n      <td>AFE</td>\n      <td>Primary completion rate, total (% of relevant ...</td>\n      <td>SE.PRM.CMPT.ZS</td>\n      <td>NaN</td>\n      <td>NaN</td>\n      <td>NaN</td>\n      <td>NaN</td>\n      <td>NaN</td>\n      <td>NaN</td>\n      <td>NaN</td>\n      <td>...</td>\n      <td>NaN</td>\n      <td>NaN</td>\n      <td>NaN</td>\n      <td>NaN</td>\n      <td>NaN</td>\n      <td>NaN</td>\n      <td>NaN</td>\n      <td>NaN</td>\n      <td>NaN</td>\n      <td>Africa Eastern and Southern</td>\n    </tr>\n    <tr>\n      <th>2</th>\n      <td>AFG</td>\n      <td>Primary completion rate, total (% of relevant ...</td>\n      <td>SE.PRM.CMPT.ZS</td>\n      <td>NaN</td>\n      <td>NaN</td>\n      <td>NaN</td>\n      <td>NaN</td>\n      <td>NaN</td>\n      <td>NaN</td>\n      <td>NaN</td>\n      <td>...</td>\n      <td>NaN</td>\n      <td>NaN</td>\n      <td>NaN</td>\n      <td>NaN</td>\n      <td>80.495041</td>\n      <td>84.414948</td>\n      <td>85.625328</td>\n      <td>84.330589</td>\n      <td>NaN</td>\n      <td>Afghanistan</td>\n    </tr>\n    <tr>\n      <th>3</th>\n      <td>AFW</td>\n      <td>Primary completion rate, total (% of relevant ...</td>\n      <td>SE.PRM.CMPT.ZS</td>\n      <td>NaN</td>\n      <td>NaN</td>\n      <td>NaN</td>\n      <td>NaN</td>\n      <td>NaN</td>\n      <td>NaN</td>\n      <td>NaN</td>\n      <td>...</td>\n      <td>NaN</td>\n      <td>NaN</td>\n      <td>NaN</td>\n      <td>NaN</td>\n      <td>NaN</td>\n      <td>NaN</td>\n      <td>NaN</td>\n      <td>NaN</td>\n      <td>NaN</td>\n      <td>Africa Western and Central</td>\n    </tr>\n    <tr>\n      <th>4</th>\n      <td>AGO</td>\n      <td>Primary completion rate, total (% of relevant ...</td>\n      <td>SE.PRM.CMPT.ZS</td>\n      <td>NaN</td>\n      <td>NaN</td>\n      <td>NaN</td>\n      <td>NaN</td>\n      <td>NaN</td>\n      <td>NaN</td>\n      <td>NaN</td>\n      <td>...</td>\n      <td>NaN</td>\n      <td>NaN</td>\n      <td>NaN</td>\n      <td>NaN</td>\n      <td>NaN</td>\n      <td>NaN</td>\n      <td>NaN</td>\n      <td>NaN</td>\n      <td>NaN</td>\n      <td>Angola</td>\n    </tr>\n  </tbody>\n</table>\n<p>5 rows × 65 columns</p>\n</div>"
     },
     "execution_count": 8,
     "metadata": {},
     "output_type": "execute_result"
    }
   ],
   "source": [
    "education = init_data(\"data/world_bank_data/education.csv\")\n",
    "education[\"Country\"] = education[\"Country Name\"]\n",
    "education = education.drop([\"Country Name\"], axis=1).reindex()\n",
    "education.head()"
   ]
  },
  {
   "cell_type": "markdown",
   "source": [
    "# Swine flu"
   ],
   "metadata": {
    "collapsed": false,
    "pycharm": {
     "name": "#%% md\n"
    }
   }
  },
  {
   "cell_type": "code",
   "execution_count": 9,
   "metadata": {},
   "outputs": [
    {
     "data": {
      "text/plain": "         Date                   Country  Cumulative no. of cases  \\\n0  2009-04-24                    Mexico                       18   \n1  2009-04-24  United States of America                        7   \n2  2009-04-26                    Mexico                       18   \n3  2009-04-26  United States of America                       20   \n4  2009-04-27                    Canada                        6   \n\n   Cumulative no. of deaths                                        Link  \n0                         0  https://www.who.int/csr/don/2009_04_24/en/  \n1                         0  https://www.who.int/csr/don/2009_04_24/en/  \n2                         0  https://www.who.int/csr/don/2009_04_24/en/  \n3                         0  https://www.who.int/csr/don/2009_04_24/en/  \n4                         0  https://www.who.int/csr/don/2009_04_24/en/  ",
      "text/html": "<div>\n<style scoped>\n    .dataframe tbody tr th:only-of-type {\n        vertical-align: middle;\n    }\n\n    .dataframe tbody tr th {\n        vertical-align: top;\n    }\n\n    .dataframe thead th {\n        text-align: right;\n    }\n</style>\n<table border=\"1\" class=\"dataframe\">\n  <thead>\n    <tr style=\"text-align: right;\">\n      <th></th>\n      <th>Date</th>\n      <th>Country</th>\n      <th>Cumulative no. of cases</th>\n      <th>Cumulative no. of deaths</th>\n      <th>Link</th>\n    </tr>\n  </thead>\n  <tbody>\n    <tr>\n      <th>0</th>\n      <td>2009-04-24</td>\n      <td>Mexico</td>\n      <td>18</td>\n      <td>0</td>\n      <td>https://www.who.int/csr/don/2009_04_24/en/</td>\n    </tr>\n    <tr>\n      <th>1</th>\n      <td>2009-04-24</td>\n      <td>United States of America</td>\n      <td>7</td>\n      <td>0</td>\n      <td>https://www.who.int/csr/don/2009_04_24/en/</td>\n    </tr>\n    <tr>\n      <th>2</th>\n      <td>2009-04-26</td>\n      <td>Mexico</td>\n      <td>18</td>\n      <td>0</td>\n      <td>https://www.who.int/csr/don/2009_04_24/en/</td>\n    </tr>\n    <tr>\n      <th>3</th>\n      <td>2009-04-26</td>\n      <td>United States of America</td>\n      <td>20</td>\n      <td>0</td>\n      <td>https://www.who.int/csr/don/2009_04_24/en/</td>\n    </tr>\n    <tr>\n      <th>4</th>\n      <td>2009-04-27</td>\n      <td>Canada</td>\n      <td>6</td>\n      <td>0</td>\n      <td>https://www.who.int/csr/don/2009_04_24/en/</td>\n    </tr>\n  </tbody>\n</table>\n</div>"
     },
     "execution_count": 9,
     "metadata": {},
     "output_type": "execute_result"
    }
   ],
   "source": [
    "swine = init_data(\"swine_flu_data.csv\")\n",
    "swine.head()"
   ]
  },
  {
   "cell_type": "code",
   "execution_count": 10,
   "metadata": {},
   "outputs": [
    {
     "data": {
      "text/plain": "            Date  Country  Cumulative no. of cases  Cumulative no. of deaths  \\\n2110  2009-07-01  Algeria                        2                         0   \n2355  2009-07-06  Algeria                        5                         0   \n1994  2009-06-29  Algeria                        2                         0   \n1882  2009-06-26  Algeria                        2                         0   \n1774  2009-06-24  Algeria                        2                         0   \n\n                                             Link  \n2110  https://www.who.int/csr/don/2009_07_01a/en/  \n2355   https://www.who.int/csr/don/2009_07_06/en/  \n1994   https://www.who.int/csr/don/2009_06_29/en/  \n1882   https://www.who.int/csr/don/2009_06_26/en/  \n1774   https://www.who.int/csr/don/2009_06_24/en/  ",
      "text/html": "<div>\n<style scoped>\n    .dataframe tbody tr th:only-of-type {\n        vertical-align: middle;\n    }\n\n    .dataframe tbody tr th {\n        vertical-align: top;\n    }\n\n    .dataframe thead th {\n        text-align: right;\n    }\n</style>\n<table border=\"1\" class=\"dataframe\">\n  <thead>\n    <tr style=\"text-align: right;\">\n      <th></th>\n      <th>Date</th>\n      <th>Country</th>\n      <th>Cumulative no. of cases</th>\n      <th>Cumulative no. of deaths</th>\n      <th>Link</th>\n    </tr>\n  </thead>\n  <tbody>\n    <tr>\n      <th>2110</th>\n      <td>2009-07-01</td>\n      <td>Algeria</td>\n      <td>2</td>\n      <td>0</td>\n      <td>https://www.who.int/csr/don/2009_07_01a/en/</td>\n    </tr>\n    <tr>\n      <th>2355</th>\n      <td>2009-07-06</td>\n      <td>Algeria</td>\n      <td>5</td>\n      <td>0</td>\n      <td>https://www.who.int/csr/don/2009_07_06/en/</td>\n    </tr>\n    <tr>\n      <th>1994</th>\n      <td>2009-06-29</td>\n      <td>Algeria</td>\n      <td>2</td>\n      <td>0</td>\n      <td>https://www.who.int/csr/don/2009_06_29/en/</td>\n    </tr>\n    <tr>\n      <th>1882</th>\n      <td>2009-06-26</td>\n      <td>Algeria</td>\n      <td>2</td>\n      <td>0</td>\n      <td>https://www.who.int/csr/don/2009_06_26/en/</td>\n    </tr>\n    <tr>\n      <th>1774</th>\n      <td>2009-06-24</td>\n      <td>Algeria</td>\n      <td>2</td>\n      <td>0</td>\n      <td>https://www.who.int/csr/don/2009_06_24/en/</td>\n    </tr>\n  </tbody>\n</table>\n</div>"
     },
     "execution_count": 10,
     "metadata": {},
     "output_type": "execute_result"
    }
   ],
   "source": [
    "#sort\n",
    "swine = swine.sort_values(by=\"Country\")\n",
    "swine.head()"
   ]
  },
  {
   "cell_type": "code",
   "execution_count": 11,
   "metadata": {},
   "outputs": [
    {
     "data": {
      "text/plain": "            Date  Country  Cumulative no. of cases  Cumulative no. of deaths\n2110  2009-07-01  Algeria                        2                         0\n2355  2009-07-06  Algeria                        5                         0\n1994  2009-06-29  Algeria                        2                         0\n1882  2009-06-26  Algeria                        2                         0\n1774  2009-06-24  Algeria                        2                         0",
      "text/html": "<div>\n<style scoped>\n    .dataframe tbody tr th:only-of-type {\n        vertical-align: middle;\n    }\n\n    .dataframe tbody tr th {\n        vertical-align: top;\n    }\n\n    .dataframe thead th {\n        text-align: right;\n    }\n</style>\n<table border=\"1\" class=\"dataframe\">\n  <thead>\n    <tr style=\"text-align: right;\">\n      <th></th>\n      <th>Date</th>\n      <th>Country</th>\n      <th>Cumulative no. of cases</th>\n      <th>Cumulative no. of deaths</th>\n    </tr>\n  </thead>\n  <tbody>\n    <tr>\n      <th>2110</th>\n      <td>2009-07-01</td>\n      <td>Algeria</td>\n      <td>2</td>\n      <td>0</td>\n    </tr>\n    <tr>\n      <th>2355</th>\n      <td>2009-07-06</td>\n      <td>Algeria</td>\n      <td>5</td>\n      <td>0</td>\n    </tr>\n    <tr>\n      <th>1994</th>\n      <td>2009-06-29</td>\n      <td>Algeria</td>\n      <td>2</td>\n      <td>0</td>\n    </tr>\n    <tr>\n      <th>1882</th>\n      <td>2009-06-26</td>\n      <td>Algeria</td>\n      <td>2</td>\n      <td>0</td>\n    </tr>\n    <tr>\n      <th>1774</th>\n      <td>2009-06-24</td>\n      <td>Algeria</td>\n      <td>2</td>\n      <td>0</td>\n    </tr>\n  </tbody>\n</table>\n</div>"
     },
     "execution_count": 11,
     "metadata": {},
     "output_type": "execute_result"
    }
   ],
   "source": [
    "#drop the link column\n",
    "swine = swine.drop([\"Link\"], axis=1)\n",
    "swine.head()"
   ]
  },
  {
   "cell_type": "code",
   "execution_count": 12,
   "metadata": {},
   "outputs": [
    {
     "name": "stdout",
     "output_type": "stream",
     "text": [
      "<class 'pandas.core.frame.DataFrame'>\n",
      "RangeIndex: 148 entries, 0 to 147\n",
      "Data columns (total 4 columns):\n",
      " #   Column                    Non-Null Count  Dtype  \n",
      "---  ------                    --------------  -----  \n",
      " 0   Country                   148 non-null    object \n",
      " 1   Cumulative no. of cases   148 non-null    int64  \n",
      " 2   Cumulative no. of deaths  148 non-null    int64  \n",
      " 3   Percent of Deaths         148 non-null    float64\n",
      "dtypes: float64(1), int64(2), object(1)\n",
      "memory usage: 4.8+ KB\n"
     ]
    }
   ],
   "source": [
    "swine[\"Percent of Deaths\"] = swine[\"Cumulative no. of deaths\"] / swine[\"Cumulative no. of cases\"]\n",
    "swine = swine.groupby([\"Country\"]).sum().reset_index()\n",
    "swine.info()"
   ]
  },
  {
   "cell_type": "code",
   "execution_count": 13,
   "metadata": {},
   "outputs": [],
   "source": [
    "#List of countries\n",
    "cc = []\n",
    "for i in swine[\"Country\"]:\n",
    "    if i not in cc:\n",
    "        cc.append(i)\n",
    "    else:\n",
    "        continue\n",
    "# cc\n"
   ]
  },
  {
   "cell_type": "code",
   "execution_count": 14,
   "metadata": {},
   "outputs": [
    {
     "data": {
      "text/plain": "<Figure size 432x288 with 1 Axes>",
      "image/png": "[encoded data removed]"
     },
     "metadata": {
      "needs_background": "light"
     },
     "output_type": "display_data"
    }
   ],
   "source": [
    "#plot countries\n",
    "cases = []\n",
    "deaths = []\n",
    "country = []\n",
    "\n",
    "for i in range(0, len(swine[\"Country\"])):\n",
    "    if swine[\"Cumulative no. of deaths\"][i] > 0:\n",
    "        # print('nope')\n",
    "        country.append(swine[\"Country\"][i])\n",
    "        cases.append(swine[\"Cumulative no. of cases\"][i])\n",
    "        deaths.append(swine[\"Cumulative no. of deaths\"][i])\n",
    "\n",
    "plt.xticks(rotation=90)\n",
    "plt.plot(country, cases)\n",
    "plt.plot(country, deaths)\n",
    "plt.legend([\"cases\", \"deaths\"])\n",
    "plt.show()"
   ]
  },
  {
   "cell_type": "markdown",
   "metadata": {},
   "source": [
    "#plot countries\n",
    "plt.plot(swine[\"Country\"], swine[\"Percent of Deaths\"])"
   ]
  },
  {
   "cell_type": "code",
   "execution_count": 15,
   "metadata": {},
   "outputs": [],
   "source": [
    "swine_edu = swine.merge(education, on=\"Country\", how='left')\n",
    "swine_edu = swine_edu.fillna(0)\n"
   ]
  },
  {
   "cell_type": "code",
   "execution_count": 16,
   "metadata": {},
   "outputs": [
    {
     "data": {
      "text/plain": "   Country  Cumulative no. of cases  Cumulative no. of deaths  \\\n0  Algeria                       19                         0   \n\n   Percent of Deaths Country Code  \\\n0                0.0          DZA   \n\n                                      Indicator Name  Indicator Code  1960  \\\n0  Primary completion rate, total (% of relevant ...  SE.PRM.CMPT.ZS   0.0   \n\n   1961  1962  ...       2011        2012        2013        2014        2015  \\\n0   0.0   0.0  ...  97.636299  101.552879  106.031677  108.391579  105.546722   \n\n        2016        2017        2018        2019        2020  \n0  105.59005  105.636711  105.143959  101.364632  103.663528  \n\n[1 rows x 68 columns]",
      "text/html": "<div>\n<style scoped>\n    .dataframe tbody tr th:only-of-type {\n        vertical-align: middle;\n    }\n\n    .dataframe tbody tr th {\n        vertical-align: top;\n    }\n\n    .dataframe thead th {\n        text-align: right;\n    }\n</style>\n<table border=\"1\" class=\"dataframe\">\n  <thead>\n    <tr style=\"text-align: right;\">\n      <th></th>\n      <th>Country</th>\n      <th>Cumulative no. of cases</th>\n      <th>Cumulative no. of deaths</th>\n      <th>Percent of Deaths</th>\n      <th>Country Code</th>\n      <th>Indicator Name</th>\n      <th>Indicator Code</th>\n      <th>1960</th>\n      <th>1961</th>\n      <th>1962</th>\n      <th>...</th>\n      <th>2011</th>\n      <th>2012</th>\n      <th>2013</th>\n      <th>2014</th>\n      <th>2015</th>\n      <th>2016</th>\n      <th>2017</th>\n      <th>2018</th>\n      <th>2019</th>\n      <th>2020</th>\n    </tr>\n  </thead>\n  <tbody>\n    <tr>\n      <th>0</th>\n      <td>Algeria</td>\n      <td>19</td>\n      <td>0</td>\n      <td>0.0</td>\n      <td>DZA</td>\n      <td>Primary completion rate, total (% of relevant ...</td>\n      <td>SE.PRM.CMPT.ZS</td>\n      <td>0.0</td>\n      <td>0.0</td>\n      <td>0.0</td>\n      <td>...</td>\n      <td>97.636299</td>\n      <td>101.552879</td>\n      <td>106.031677</td>\n      <td>108.391579</td>\n      <td>105.546722</td>\n      <td>105.59005</td>\n      <td>105.636711</td>\n      <td>105.143959</td>\n      <td>101.364632</td>\n      <td>103.663528</td>\n    </tr>\n  </tbody>\n</table>\n<p>1 rows × 68 columns</p>\n</div>"
     },
     "execution_count": 16,
     "metadata": {},
     "output_type": "execute_result"
    }
   ],
   "source": [
    "swine_edu.head(1)"
   ]
  },
  {
   "cell_type": "code",
   "execution_count": 17,
   "metadata": {},
   "outputs": [
    {
     "ename": "KeyError",
     "evalue": "'Education in 2009'",
     "output_type": "error",
     "traceback": [
      "\u001B[0;31m---------------------------------------------------------------------------\u001B[0m",
      "\u001B[0;31mKeyError\u001B[0m                                  Traceback (most recent call last)",
      "\u001B[0;32m~/Library/Python/3.9/lib/python/site-packages/pandas/core/indexes/base.py\u001B[0m in \u001B[0;36mget_loc\u001B[0;34m(self, key, method, tolerance)\u001B[0m\n\u001B[1;32m   3620\u001B[0m             \u001B[0;32mtry\u001B[0m\u001B[0;34m:\u001B[0m\u001B[0;34m\u001B[0m\u001B[0;34m\u001B[0m\u001B[0m\n\u001B[0;32m-> 3621\u001B[0;31m                 \u001B[0;32mreturn\u001B[0m \u001B[0mself\u001B[0m\u001B[0;34m.\u001B[0m\u001B[0m_engine\u001B[0m\u001B[0;34m.\u001B[0m\u001B[0mget_loc\u001B[0m\u001B[0;34m(\u001B[0m\u001B[0mcasted_key\u001B[0m\u001B[0;34m)\u001B[0m\u001B[0;34m\u001B[0m\u001B[0;34m\u001B[0m\u001B[0m\n\u001B[0m\u001B[1;32m   3622\u001B[0m             \u001B[0;32mexcept\u001B[0m \u001B[0mKeyError\u001B[0m \u001B[0;32mas\u001B[0m \u001B[0merr\u001B[0m\u001B[0;34m:\u001B[0m\u001B[0;34m\u001B[0m\u001B[0;34m\u001B[0m\u001B[0m\n",
      "\u001B[0;32m~/Library/Python/3.9/lib/python/site-packages/pandas/_libs/index.pyx\u001B[0m in \u001B[0;36mpandas._libs.index.IndexEngine.get_loc\u001B[0;34m()\u001B[0m\n",
      "\u001B[0;32m~/Library/Python/3.9/lib/python/site-packages/pandas/_libs/index.pyx\u001B[0m in \u001B[0;36mpandas._libs.index.IndexEngine.get_loc\u001B[0;34m()\u001B[0m\n",
      "\u001B[0;32mpandas/_libs/hashtable_class_helper.pxi\u001B[0m in \u001B[0;36mpandas._libs.hashtable.PyObjectHashTable.get_item\u001B[0;34m()\u001B[0m\n",
      "\u001B[0;32mpandas/_libs/hashtable_class_helper.pxi\u001B[0m in \u001B[0;36mpandas._libs.hashtable.PyObjectHashTable.get_item\u001B[0;34m()\u001B[0m\n",
      "\u001B[0;31mKeyError\u001B[0m: 'Education in 2009'",
      "\nThe above exception was the direct cause of the following exception:\n",
      "\u001B[0;31mKeyError\u001B[0m                                  Traceback (most recent call last)",
      "\u001B[0;32m/var/folders/rc/pdd6p39n70l939ldp9h_xzz40000gn/T/ipykernel_12890/2633814992.py\u001B[0m in \u001B[0;36m<module>\u001B[0;34m\u001B[0m\n\u001B[1;32m      8\u001B[0m \u001B[0;31m#2009 education\u001B[0m\u001B[0;34m\u001B[0m\u001B[0;34m\u001B[0m\u001B[0m\n\u001B[1;32m      9\u001B[0m \u001B[0maxis\u001B[0m\u001B[0;34m[\u001B[0m\u001B[0;36m0\u001B[0m\u001B[0;34m,\u001B[0m \u001B[0;36m1\u001B[0m\u001B[0;34m]\u001B[0m\u001B[0;34m.\u001B[0m\u001B[0mplot\u001B[0m\u001B[0;34m(\u001B[0m\u001B[0mswine_edu\u001B[0m\u001B[0;34m[\u001B[0m\u001B[0;34m\"Country\"\u001B[0m\u001B[0;34m]\u001B[0m\u001B[0;34m,\u001B[0m \u001B[0mswine_edu\u001B[0m\u001B[0;34m[\u001B[0m\u001B[0;34m\"2009\"\u001B[0m\u001B[0;34m]\u001B[0m\u001B[0;34m)\u001B[0m\u001B[0;34m\u001B[0m\u001B[0;34m\u001B[0m\u001B[0m\n\u001B[0;32m---> 10\u001B[0;31m \u001B[0maxis\u001B[0m\u001B[0;34m[\u001B[0m\u001B[0;36m0\u001B[0m\u001B[0;34m,\u001B[0m \u001B[0;36m1\u001B[0m\u001B[0;34m]\u001B[0m\u001B[0;34m.\u001B[0m\u001B[0mset_title\u001B[0m\u001B[0;34m(\u001B[0m\u001B[0mswine_edu\u001B[0m\u001B[0;34m[\u001B[0m\u001B[0;34m\"Education in 2009\"\u001B[0m\u001B[0;34m]\u001B[0m\u001B[0;34m)\u001B[0m\u001B[0;34m\u001B[0m\u001B[0;34m\u001B[0m\u001B[0m\n\u001B[0m\u001B[1;32m     11\u001B[0m \u001B[0;34m\u001B[0m\u001B[0m\n\u001B[1;32m     12\u001B[0m \u001B[0;31m#deaths by country\u001B[0m\u001B[0;34m\u001B[0m\u001B[0;34m\u001B[0m\u001B[0m\n",
      "\u001B[0;32m~/Library/Python/3.9/lib/python/site-packages/pandas/core/frame.py\u001B[0m in \u001B[0;36m__getitem__\u001B[0;34m(self, key)\u001B[0m\n\u001B[1;32m   3503\u001B[0m             \u001B[0;32mif\u001B[0m \u001B[0mself\u001B[0m\u001B[0;34m.\u001B[0m\u001B[0mcolumns\u001B[0m\u001B[0;34m.\u001B[0m\u001B[0mnlevels\u001B[0m \u001B[0;34m>\u001B[0m \u001B[0;36m1\u001B[0m\u001B[0;34m:\u001B[0m\u001B[0;34m\u001B[0m\u001B[0;34m\u001B[0m\u001B[0m\n\u001B[1;32m   3504\u001B[0m                 \u001B[0;32mreturn\u001B[0m \u001B[0mself\u001B[0m\u001B[0;34m.\u001B[0m\u001B[0m_getitem_multilevel\u001B[0m\u001B[0;34m(\u001B[0m\u001B[0mkey\u001B[0m\u001B[0;34m)\u001B[0m\u001B[0;34m\u001B[0m\u001B[0;34m\u001B[0m\u001B[0m\n\u001B[0;32m-> 3505\u001B[0;31m             \u001B[0mindexer\u001B[0m \u001B[0;34m=\u001B[0m \u001B[0mself\u001B[0m\u001B[0;34m.\u001B[0m\u001B[0mcolumns\u001B[0m\u001B[0;34m.\u001B[0m\u001B[0mget_loc\u001B[0m\u001B[0;34m(\u001B[0m\u001B[0mkey\u001B[0m\u001B[0;34m)\u001B[0m\u001B[0;34m\u001B[0m\u001B[0;34m\u001B[0m\u001B[0m\n\u001B[0m\u001B[1;32m   3506\u001B[0m             \u001B[0;32mif\u001B[0m \u001B[0mis_integer\u001B[0m\u001B[0;34m(\u001B[0m\u001B[0mindexer\u001B[0m\u001B[0;34m)\u001B[0m\u001B[0;34m:\u001B[0m\u001B[0;34m\u001B[0m\u001B[0;34m\u001B[0m\u001B[0m\n\u001B[1;32m   3507\u001B[0m                 \u001B[0mindexer\u001B[0m \u001B[0;34m=\u001B[0m \u001B[0;34m[\u001B[0m\u001B[0mindexer\u001B[0m\u001B[0;34m]\u001B[0m\u001B[0;34m\u001B[0m\u001B[0;34m\u001B[0m\u001B[0m\n",
      "\u001B[0;32m~/Library/Python/3.9/lib/python/site-packages/pandas/core/indexes/base.py\u001B[0m in \u001B[0;36mget_loc\u001B[0;34m(self, key, method, tolerance)\u001B[0m\n\u001B[1;32m   3621\u001B[0m                 \u001B[0;32mreturn\u001B[0m \u001B[0mself\u001B[0m\u001B[0;34m.\u001B[0m\u001B[0m_engine\u001B[0m\u001B[0;34m.\u001B[0m\u001B[0mget_loc\u001B[0m\u001B[0;34m(\u001B[0m\u001B[0mcasted_key\u001B[0m\u001B[0;34m)\u001B[0m\u001B[0;34m\u001B[0m\u001B[0;34m\u001B[0m\u001B[0m\n\u001B[1;32m   3622\u001B[0m             \u001B[0;32mexcept\u001B[0m \u001B[0mKeyError\u001B[0m \u001B[0;32mas\u001B[0m \u001B[0merr\u001B[0m\u001B[0;34m:\u001B[0m\u001B[0;34m\u001B[0m\u001B[0;34m\u001B[0m\u001B[0m\n\u001B[0;32m-> 3623\u001B[0;31m                 \u001B[0;32mraise\u001B[0m \u001B[0mKeyError\u001B[0m\u001B[0;34m(\u001B[0m\u001B[0mkey\u001B[0m\u001B[0;34m)\u001B[0m \u001B[0;32mfrom\u001B[0m \u001B[0merr\u001B[0m\u001B[0;34m\u001B[0m\u001B[0;34m\u001B[0m\u001B[0m\n\u001B[0m\u001B[1;32m   3624\u001B[0m             \u001B[0;32mexcept\u001B[0m \u001B[0mTypeError\u001B[0m\u001B[0;34m:\u001B[0m\u001B[0;34m\u001B[0m\u001B[0;34m\u001B[0m\u001B[0m\n\u001B[1;32m   3625\u001B[0m                 \u001B[0;31m# If we have a listlike key, _check_indexing_error will raise\u001B[0m\u001B[0;34m\u001B[0m\u001B[0;34m\u001B[0m\u001B[0m\n",
      "\u001B[0;31mKeyError\u001B[0m: 'Education in 2009'"
     ]
    },
    {
     "data": {
      "text/plain": "<Figure size 432x288 with 4 Axes>",
      "image/png": "[encoded data removed]"
     },
     "metadata": {
      "needs_background": "light"
     },
     "output_type": "display_data"
    }
   ],
   "source": [
    "#plot Country, Number of cases, number of deaths\n",
    "figure, axis = plt.subplots(2, 2)\n",
    "\n",
    "#cases by country\n",
    "axis[0, 0].plot(swine_edu[\"Country\"], swine_edu[\"Cumulative no. of cases\"])\n",
    "axis[0, 0].set_title(\"No. of cases\")\n",
    "\n",
    "#2009 education\n",
    "axis[0, 1].plot(swine_edu[\"Country\"], swine_edu[\"2009\"])\n",
    "axis[0, 1].set_title(swine_edu[\"Education in 2009\"])\n",
    "\n",
    "#deaths by country\n",
    "axis[1, 0].plot(swine_edu[\"Country\"], swine_edu[\"Cumulative no. of deaths\"])\n",
    "axis[1, 0].set_title(\"No. of deaths\")\n",
    "\n",
    "#2010 education\n",
    "axis[1, 1].plot(swine_edu[\"Country\"], swine_edu[\"2010\"])\n",
    "axis[1, 1].set_title(swine_edu[\"Education in 2010\"])\n",
    "\n",
    "plt.show()"
   ]
  },
  {
   "cell_type": "markdown",
   "metadata": {
    "pycharm": {
     "name": "#%% md\n"
    }
   },
   "source": [
    "# HIV/AIDS"
   ]
  },
  {
   "cell_type": "markdown",
   "metadata": {
    "collapsed": false
   },
   "source": [
    "Read in the HIV/AIDS data containing death numbers per country"
   ]
  },
  {
   "cell_type": "code",
   "execution_count": null,
   "metadata": {
    "collapsed": false,
    "pycharm": {
     "name": "#%%\n"
    }
   },
   "outputs": [],
   "source": [
    "hiv_aids_df = init_data('data/hiv_aids_data/hiv_aids_death_data.csv')"
   ]
  },
  {
   "cell_type": "markdown",
   "metadata": {
    "collapsed": false
   },
   "source": [
    "Lets check out the first few rows to get a feel for how the data looks"
   ]
  },
  {
   "cell_type": "code",
   "execution_count": null,
   "metadata": {
    "collapsed": false,
    "pycharm": {
     "name": "#%%\n"
    }
   },
   "outputs": [],
   "source": [
    "hiv_aids_df.head()"
   ]
  },
  {
   "cell_type": "markdown",
   "metadata": {
    "collapsed": false
   },
   "source": [
    "Looking more closely at the data locally as a csv a lot of these columns have no values. Lets drop all the columns with no values"
   ]
  },
  {
   "cell_type": "code",
   "execution_count": null,
   "metadata": {
    "collapsed": false,
    "pycharm": {
     "name": "#%%\n"
    }
   },
   "outputs": [],
   "source": [
    "hiv_aids_df.dropna(axis=1, how='all', inplace=True)\n",
    "hiv_aids_df"
   ]
  },
  {
   "cell_type": "markdown",
   "metadata": {
    "collapsed": false,
    "pycharm": {
     "name": "#%% md\n"
    }
   },
   "source": [
    "The IndicatorCode, ValueType, ParentsLocationCode,ParentLocation,LocationType,Period type,IsLastYear,Language will all be useless dropping them"
   ]
  },
  {
   "cell_type": "markdown",
   "metadata": {
    "collapsed": false
   },
   "source": []
  },
  {
   "cell_type": "code",
   "execution_count": null,
   "metadata": {
    "collapsed": false,
    "pycharm": {
     "name": "#%%\n"
    }
   },
   "outputs": [],
   "source": [
    "hiv_aids_df.drop(\n",
    "    columns=['IndicatorCode', 'ValueType', 'ParentLocationCode', 'ParentLocation', 'Location type', 'Period type',\n",
    "             'IsLatestYear', 'Language', 'DateModified', 'FactValueTranslationID', 'FactValueNumericPrefix',\n",
    "             'FactValueNumericLowPrefix', 'FactValueNumericLow', 'FactValueNumericLowPrefix', 'FactValueNumericHighPrefix',\n",
    "             'FactValueNumericHigh', 'Value'], axis=1, inplace=True)"
   ]
  },
  {
   "cell_type": "markdown",
   "metadata": {
    "collapsed": false
   },
   "source": [
    "There is still missing data for the value which is the most important column for analysis, dropping all the rows where the value is missing."
   ]
  },
  {
   "cell_type": "code",
   "execution_count": null,
   "metadata": {
    "collapsed": false,
    "pycharm": {
     "name": "#%%\n"
    }
   },
   "outputs": [],
   "source": [
    "hiv_aids_df.dropna(subset='FactValueNumeric', axis=0, inplace=True)\n",
    "hiv_aids_df"
   ]
  },
  {
   "cell_type": "code",
   "execution_count": null,
   "outputs": [],
   "source": [
    "plt.plot(hiv_aids_df['Period'],hiv_aids_df['FactValueNumeric'])"
   ],
   "metadata": {
    "collapsed": false,
    "pycharm": {
     "name": "#%%\n"
    }
   }
  },
  {
   "cell_type": "markdown",
   "metadata": {
    "collapsed": false,
    "pycharm": {
     "name": "#%% md\n"
    }
   },
   "source": [
    "After getting rid of all of those values there are only 131 countries"
   ]
  },
  {
   "cell_type": "code",
   "execution_count": null,
   "outputs": [],
   "source": [
    "plt.plot(hiv_aids_df['Location'],hiv_aids_df['FactValueNumeric'])"
   ],
   "metadata": {
    "collapsed": false,
    "pycharm": {
     "name": "#%%\n"
    }
   }
  },
  {
   "cell_type": "code",
   "execution_count": null,
   "metadata": {
    "collapsed": false,
    "pycharm": {
     "name": "#%%\n"
    }
   },
   "outputs": [],
   "source": [
    "unique_aiv_aids_countries = hiv_aids_df.Location.unique()\n",
    "len(hiv_aids_df.unique_aiv_aids_countries)"
   ]
  },
  {
   "cell_type": "markdown",
   "metadata": {
    "collapsed": false,
    "pycharm": {
     "name": "#%% md\n"
    }
   },
   "source": [
    "Covid"
   ]
  },
  {
   "cell_type": "code",
   "execution_count": null,
   "outputs": [],
   "source": [
    "covid_df = init_data('data/covid/full_grouped.csv')\n",
    "unique_countries = np.unique(covid_df['Country/Region'])"
   ],
   "metadata": {
    "collapsed": false,
    "pycharm": {
     "name": "#%%\n"
    }
   }
  }
 ],
 "metadata": {
  "interpreter": {
   "hash": "b7921488130001b881a32639244341f25ddf85b78f8804400f9c57ddc4895e60"
  },
  "kernelspec": {
   "display_name": "Python 3",
   "language": "python",
   "name": "python3"
  },
  "language_info": {
   "codemirror_mode": {
    "name": "ipython",
    "version": 2
   },
   "file_extension": ".py",
   "mimetype": "text/x-python",
   "name": "python",
   "nbconvert_exporter": "python",
   "pygments_lexer": "ipython2",
   "version": "2.7.6"
  }
 },
 "nbformat": 4,
 "nbformat_minor": 0
}