{
 "cells": [
  {
   "cell_type": "code",
   "execution_count": 19,
   "metadata": {
    "collapsed": true
   },
   "outputs": [],
   "source": [
    "import pandas as pd\n",
    "import numpy as np\n",
    "\n",
    "pd.set_option('display.expand_frame_repr', False)"
   ]
  },
  {
   "cell_type": "markdown",
   "source": [
    "Read in the data containing death numbers per country"
   ],
   "metadata": {
    "collapsed": false
   }
  },
  {
   "cell_type": "code",
   "execution_count": 43,
   "outputs": [],
   "source": [
    "deaths_by_country_df = pd.read_csv('data/hiv_aids_data/hiv_aids_death_data.csv')"
   ],
   "metadata": {
    "collapsed": false,
    "pycharm": {
     "name": "#%%\n"
    }
   }
  },
  {
   "cell_type": "markdown",
   "source": [
    "Lets check out the first few rows to get a feel for how the data looks"
   ],
   "metadata": {
    "collapsed": false
   }
  },
  {
   "cell_type": "code",
   "execution_count": 44,
   "outputs": [
    {
     "data": {
      "text/plain": "    IndicatorCode                         Indicator ValueType ParentLocationCode   ParentLocation Location type SpatialDimValueCode    Location Period type  Period  ...  FactValueUoM  FactValueNumericLowPrefix  FactValueNumericLow  FactValueNumericHighPrefix  FactValueNumericHigh               Value  FactValueTranslationID  FactComments  Language         DateModified\n0  HIV_0000000006  Number of deaths due to HIV/AIDS   numeric                EUR           Europe       Country                 ALB     Albania        Year    2020  ...           NaN                          <                100.0                           <                 100.0  <100 [<100 – <100]                     NaN           NaN        EN  2021-10-11 00:00:00\n1  HIV_0000000006  Number of deaths due to HIV/AIDS   numeric                EUR           Europe       Country                 ARM     Armenia        Year    2020  ...           NaN                          <                100.0                           <                 100.0  <100 [<100 – <100]                     NaN           NaN        EN  2021-10-11 00:00:00\n2  HIV_0000000006  Number of deaths due to HIV/AIDS   numeric                WPR  Western Pacific       Country                 AUS   Australia        Year    2020  ...           NaN                          <                100.0                           <                 100.0  <100 [<100 – <100]                     NaN           NaN        EN  2021-10-11 00:00:00\n3  HIV_0000000006  Number of deaths due to HIV/AIDS   numeric                AFR           Africa       Country                 CPV  Cabo Verde        Year    2020  ...           NaN                          <                100.0                           <                 100.0  <100 [<100 – <100]                     NaN           NaN        EN  2021-10-11 00:00:00\n4  HIV_0000000006  Number of deaths due to HIV/AIDS   numeric                AFR           Africa       Country                 COM     Comoros        Year    2020  ...           NaN                          <                100.0                           <                 100.0  <100 [<100 – <100]                     NaN           NaN        EN  2021-10-11 00:00:00\n\n[5 rows x 34 columns]",
      "text/html": "<div>\n<style scoped>\n    .dataframe tbody tr th:only-of-type {\n        vertical-align: middle;\n    }\n\n    .dataframe tbody tr th {\n        vertical-align: top;\n    }\n\n    .dataframe thead th {\n        text-align: right;\n    }\n</style>\n<table border=\"1\" class=\"dataframe\">\n  <thead>\n    <tr style=\"text-align: right;\">\n      <th></th>\n      <th>IndicatorCode</th>\n      <th>Indicator</th>\n      <th>ValueType</th>\n      <th>ParentLocationCode</th>\n      <th>ParentLocation</th>\n      <th>Location type</th>\n      <th>SpatialDimValueCode</th>\n      <th>Location</th>\n      <th>Period type</th>\n      <th>Period</th>\n      <th>...</th>\n      <th>FactValueUoM</th>\n      <th>FactValueNumericLowPrefix</th>\n      <th>FactValueNumericLow</th>\n      <th>FactValueNumericHighPrefix</th>\n      <th>FactValueNumericHigh</th>\n      <th>Value</th>\n      <th>FactValueTranslationID</th>\n      <th>FactComments</th>\n      <th>Language</th>\n      <th>DateModified</th>\n    </tr>\n  </thead>\n  <tbody>\n    <tr>\n      <th>0</th>\n      <td>HIV_0000000006</td>\n      <td>Number of deaths due to HIV/AIDS</td>\n      <td>numeric</td>\n      <td>EUR</td>\n      <td>Europe</td>\n      <td>Country</td>\n      <td>ALB</td>\n      <td>Albania</td>\n      <td>Year</td>\n      <td>2020</td>\n      <td>...</td>\n      <td>NaN</td>\n      <td>&lt;</td>\n      <td>100.0</td>\n      <td>&lt;</td>\n      <td>100.0</td>\n      <td>&lt;100 [&lt;100 – &lt;100]</td>\n      <td>NaN</td>\n      <td>NaN</td>\n      <td>EN</td>\n      <td>2021-10-11 00:00:00</td>\n    </tr>\n    <tr>\n      <th>1</th>\n      <td>HIV_0000000006</td>\n      <td>Number of deaths due to HIV/AIDS</td>\n      <td>numeric</td>\n      <td>EUR</td>\n      <td>Europe</td>\n      <td>Country</td>\n      <td>ARM</td>\n      <td>Armenia</td>\n      <td>Year</td>\n      <td>2020</td>\n      <td>...</td>\n      <td>NaN</td>\n      <td>&lt;</td>\n      <td>100.0</td>\n      <td>&lt;</td>\n      <td>100.0</td>\n      <td>&lt;100 [&lt;100 – &lt;100]</td>\n      <td>NaN</td>\n      <td>NaN</td>\n      <td>EN</td>\n      <td>2021-10-11 00:00:00</td>\n    </tr>\n    <tr>\n      <th>2</th>\n      <td>HIV_0000000006</td>\n      <td>Number of deaths due to HIV/AIDS</td>\n      <td>numeric</td>\n      <td>WPR</td>\n      <td>Western Pacific</td>\n      <td>Country</td>\n      <td>AUS</td>\n      <td>Australia</td>\n      <td>Year</td>\n      <td>2020</td>\n      <td>...</td>\n      <td>NaN</td>\n      <td>&lt;</td>\n      <td>100.0</td>\n      <td>&lt;</td>\n      <td>100.0</td>\n      <td>&lt;100 [&lt;100 – &lt;100]</td>\n      <td>NaN</td>\n      <td>NaN</td>\n      <td>EN</td>\n      <td>2021-10-11 00:00:00</td>\n    </tr>\n    <tr>\n      <th>3</th>\n      <td>HIV_0000000006</td>\n      <td>Number of deaths due to HIV/AIDS</td>\n      <td>numeric</td>\n      <td>AFR</td>\n      <td>Africa</td>\n      <td>Country</td>\n      <td>CPV</td>\n      <td>Cabo Verde</td>\n      <td>Year</td>\n      <td>2020</td>\n      <td>...</td>\n      <td>NaN</td>\n      <td>&lt;</td>\n      <td>100.0</td>\n      <td>&lt;</td>\n      <td>100.0</td>\n      <td>&lt;100 [&lt;100 – &lt;100]</td>\n      <td>NaN</td>\n      <td>NaN</td>\n      <td>EN</td>\n      <td>2021-10-11 00:00:00</td>\n    </tr>\n    <tr>\n      <th>4</th>\n      <td>HIV_0000000006</td>\n      <td>Number of deaths due to HIV/AIDS</td>\n      <td>numeric</td>\n      <td>AFR</td>\n      <td>Africa</td>\n      <td>Country</td>\n      <td>COM</td>\n      <td>Comoros</td>\n      <td>Year</td>\n      <td>2020</td>\n      <td>...</td>\n      <td>NaN</td>\n      <td>&lt;</td>\n      <td>100.0</td>\n      <td>&lt;</td>\n      <td>100.0</td>\n      <td>&lt;100 [&lt;100 – &lt;100]</td>\n      <td>NaN</td>\n      <td>NaN</td>\n      <td>EN</td>\n      <td>2021-10-11 00:00:00</td>\n    </tr>\n  </tbody>\n</table>\n<p>5 rows × 34 columns</p>\n</div>"
     },
     "execution_count": 44,
     "metadata": {},
     "output_type": "execute_result"
    }
   ],
   "source": [
    "deaths_by_country_df.head()"
   ],
   "metadata": {
    "collapsed": false,
    "pycharm": {
     "name": "#%%\n"
    }
   }
  },
  {
   "cell_type": "markdown",
   "source": [
    "Looking more closely at the data locally as a csv a lot of these columns have no values. Lets drop all the columns with no values"
   ],
   "metadata": {
    "collapsed": false
   }
  },
  {
   "cell_type": "code",
   "execution_count": 46,
   "outputs": [
    {
     "data": {
      "text/plain": "       IndicatorCode                         Indicator ValueType ParentLocationCode   ParentLocation Location type SpatialDimValueCode                                           Location Period type  Period  ...  FactValueNumericPrefix FactValueNumeric  FactValueNumericLowPrefix FactValueNumericLow  FactValueNumericHighPrefix FactValueNumericHigh               Value FactValueTranslationID  Language         DateModified\n0     HIV_0000000006  Number of deaths due to HIV/AIDS   numeric                EUR           Europe       Country                 ALB                                            Albania        Year    2020  ...                       <            100.0                          <               100.0                           <                100.0  <100 [<100 – <100]                    NaN        EN  2021-10-11 00:00:00\n1     HIV_0000000006  Number of deaths due to HIV/AIDS   numeric                EUR           Europe       Country                 ARM                                            Armenia        Year    2020  ...                       <            100.0                          <               100.0                           <                100.0  <100 [<100 – <100]                    NaN        EN  2021-10-11 00:00:00\n2     HIV_0000000006  Number of deaths due to HIV/AIDS   numeric                WPR  Western Pacific       Country                 AUS                                          Australia        Year    2020  ...                       <            100.0                          <               100.0                           <                100.0  <100 [<100 – <100]                    NaN        EN  2021-10-11 00:00:00\n3     HIV_0000000006  Number of deaths due to HIV/AIDS   numeric                AFR           Africa       Country                 CPV                                         Cabo Verde        Year    2020  ...                       <            100.0                          <               100.0                           <                100.0  <100 [<100 – <100]                    NaN        EN  2021-10-11 00:00:00\n4     HIV_0000000006  Number of deaths due to HIV/AIDS   numeric                AFR           Africa       Country                 COM                                            Comoros        Year    2020  ...                       <            100.0                          <               100.0                           <                100.0  <100 [<100 – <100]                    NaN        EN  2021-10-11 00:00:00\n...              ...                               ...       ...                ...              ...           ...                 ...                                                ...         ...     ...  ...                     ...              ...                        ...                 ...                         ...                  ...                 ...                    ...       ...                  ...\n3607  HIV_0000000006  Number of deaths due to HIV/AIDS   numeric                EUR           Europe       Country                 SWE                                             Sweden        Year    2000  ...                     NaN              NaN                        NaN                 NaN                         NaN                  NaN             No data                  827.0        EN  2021-10-11 00:00:00\n3608  HIV_0000000006  Number of deaths due to HIV/AIDS   numeric                EUR           Europe       Country                 TUR                                             Turkey        Year    2000  ...                     NaN              NaN                        NaN                 NaN                         NaN                  NaN             No data                  827.0        EN  2021-10-11 00:00:00\n3609  HIV_0000000006  Number of deaths due to HIV/AIDS   numeric                EUR           Europe       Country                 TKM                                       Turkmenistan        Year    2000  ...                     NaN              NaN                        NaN                 NaN                         NaN                  NaN             No data                  827.0        EN  2021-10-11 00:00:00\n3610  HIV_0000000006  Number of deaths due to HIV/AIDS   numeric                EUR           Europe       Country                 GBR  United Kingdom of Great Britain and Northern I...        Year    2000  ...                     NaN              NaN                        NaN                 NaN                         NaN                  NaN             No data                  827.0        EN  2021-10-11 00:00:00\n3611  HIV_0000000006  Number of deaths due to HIV/AIDS   numeric                AMR         Americas       Country                 USA                           United States of America        Year    2000  ...                     NaN              NaN                        NaN                 NaN                         NaN                  NaN             No data                  827.0        EN  2021-10-11 00:00:00\n\n[3612 rows x 21 columns]",
      "text/html": "<div>\n<style scoped>\n    .dataframe tbody tr th:only-of-type {\n        vertical-align: middle;\n    }\n\n    .dataframe tbody tr th {\n        vertical-align: top;\n    }\n\n    .dataframe thead th {\n        text-align: right;\n    }\n</style>\n<table border=\"1\" class=\"dataframe\">\n  <thead>\n    <tr style=\"text-align: right;\">\n      <th></th>\n      <th>IndicatorCode</th>\n      <th>Indicator</th>\n      <th>ValueType</th>\n      <th>ParentLocationCode</th>\n      <th>ParentLocation</th>\n      <th>Location type</th>\n      <th>SpatialDimValueCode</th>\n      <th>Location</th>\n      <th>Period type</th>\n      <th>Period</th>\n      <th>...</th>\n      <th>FactValueNumericPrefix</th>\n      <th>FactValueNumeric</th>\n      <th>FactValueNumericLowPrefix</th>\n      <th>FactValueNumericLow</th>\n      <th>FactValueNumericHighPrefix</th>\n      <th>FactValueNumericHigh</th>\n      <th>Value</th>\n      <th>FactValueTranslationID</th>\n      <th>Language</th>\n      <th>DateModified</th>\n    </tr>\n  </thead>\n  <tbody>\n    <tr>\n      <th>0</th>\n      <td>HIV_0000000006</td>\n      <td>Number of deaths due to HIV/AIDS</td>\n      <td>numeric</td>\n      <td>EUR</td>\n      <td>Europe</td>\n      <td>Country</td>\n      <td>ALB</td>\n      <td>Albania</td>\n      <td>Year</td>\n      <td>2020</td>\n      <td>...</td>\n      <td>&lt;</td>\n      <td>100.0</td>\n      <td>&lt;</td>\n      <td>100.0</td>\n      <td>&lt;</td>\n      <td>100.0</td>\n      <td>&lt;100 [&lt;100 – &lt;100]</td>\n      <td>NaN</td>\n      <td>EN</td>\n      <td>2021-10-11 00:00:00</td>\n    </tr>\n    <tr>\n      <th>1</th>\n      <td>HIV_0000000006</td>\n      <td>Number of deaths due to HIV/AIDS</td>\n      <td>numeric</td>\n      <td>EUR</td>\n      <td>Europe</td>\n      <td>Country</td>\n      <td>ARM</td>\n      <td>Armenia</td>\n      <td>Year</td>\n      <td>2020</td>\n      <td>...</td>\n      <td>&lt;</td>\n      <td>100.0</td>\n      <td>&lt;</td>\n      <td>100.0</td>\n      <td>&lt;</td>\n      <td>100.0</td>\n      <td>&lt;100 [&lt;100 – &lt;100]</td>\n      <td>NaN</td>\n      <td>EN</td>\n      <td>2021-10-11 00:00:00</td>\n    </tr>\n    <tr>\n      <th>2</th>\n      <td>HIV_0000000006</td>\n      <td>Number of deaths due to HIV/AIDS</td>\n      <td>numeric</td>\n      <td>WPR</td>\n      <td>Western Pacific</td>\n      <td>Country</td>\n      <td>AUS</td>\n      <td>Australia</td>\n      <td>Year</td>\n      <td>2020</td>\n      <td>...</td>\n      <td>&lt;</td>\n      <td>100.0</td>\n      <td>&lt;</td>\n      <td>100.0</td>\n      <td>&lt;</td>\n      <td>100.0</td>\n      <td>&lt;100 [&lt;100 – &lt;100]</td>\n      <td>NaN</td>\n      <td>EN</td>\n      <td>2021-10-11 00:00:00</td>\n    </tr>\n    <tr>\n      <th>3</th>\n      <td>HIV_0000000006</td>\n      <td>Number of deaths due to HIV/AIDS</td>\n      <td>numeric</td>\n      <td>AFR</td>\n      <td>Africa</td>\n      <td>Country</td>\n      <td>CPV</td>\n      <td>Cabo Verde</td>\n      <td>Year</td>\n      <td>2020</td>\n      <td>...</td>\n      <td>&lt;</td>\n      <td>100.0</td>\n      <td>&lt;</td>\n      <td>100.0</td>\n      <td>&lt;</td>\n      <td>100.0</td>\n      <td>&lt;100 [&lt;100 – &lt;100]</td>\n      <td>NaN</td>\n      <td>EN</td>\n      <td>2021-10-11 00:00:00</td>\n    </tr>\n    <tr>\n      <th>4</th>\n      <td>HIV_0000000006</td>\n      <td>Number of deaths due to HIV/AIDS</td>\n      <td>numeric</td>\n      <td>AFR</td>\n      <td>Africa</td>\n      <td>Country</td>\n      <td>COM</td>\n      <td>Comoros</td>\n      <td>Year</td>\n      <td>2020</td>\n      <td>...</td>\n      <td>&lt;</td>\n      <td>100.0</td>\n      <td>&lt;</td>\n      <td>100.0</td>\n      <td>&lt;</td>\n      <td>100.0</td>\n      <td>&lt;100 [&lt;100 – &lt;100]</td>\n      <td>NaN</td>\n      <td>EN</td>\n      <td>2021-10-11 00:00:00</td>\n    </tr>\n    <tr>\n      <th>...</th>\n      <td>...</td>\n      <td>...</td>\n      <td>...</td>\n      <td>...</td>\n      <td>...</td>\n      <td>...</td>\n      <td>...</td>\n      <td>...</td>\n      <td>...</td>\n      <td>...</td>\n      <td>...</td>\n      <td>...</td>\n      <td>...</td>\n      <td>...</td>\n      <td>...</td>\n      <td>...</td>\n      <td>...</td>\n      <td>...</td>\n      <td>...</td>\n      <td>...</td>\n      <td>...</td>\n    </tr>\n    <tr>\n      <th>3607</th>\n      <td>HIV_0000000006</td>\n      <td>Number of deaths due to HIV/AIDS</td>\n      <td>numeric</td>\n      <td>EUR</td>\n      <td>Europe</td>\n      <td>Country</td>\n      <td>SWE</td>\n      <td>Sweden</td>\n      <td>Year</td>\n      <td>2000</td>\n      <td>...</td>\n      <td>NaN</td>\n      <td>NaN</td>\n      <td>NaN</td>\n      <td>NaN</td>\n      <td>NaN</td>\n      <td>NaN</td>\n      <td>No data</td>\n      <td>827.0</td>\n      <td>EN</td>\n      <td>2021-10-11 00:00:00</td>\n    </tr>\n    <tr>\n      <th>3608</th>\n      <td>HIV_0000000006</td>\n      <td>Number of deaths due to HIV/AIDS</td>\n      <td>numeric</td>\n      <td>EUR</td>\n      <td>Europe</td>\n      <td>Country</td>\n      <td>TUR</td>\n      <td>Turkey</td>\n      <td>Year</td>\n      <td>2000</td>\n      <td>...</td>\n      <td>NaN</td>\n      <td>NaN</td>\n      <td>NaN</td>\n      <td>NaN</td>\n      <td>NaN</td>\n      <td>NaN</td>\n      <td>No data</td>\n      <td>827.0</td>\n      <td>EN</td>\n      <td>2021-10-11 00:00:00</td>\n    </tr>\n    <tr>\n      <th>3609</th>\n      <td>HIV_0000000006</td>\n      <td>Number of deaths due to HIV/AIDS</td>\n      <td>numeric</td>\n      <td>EUR</td>\n      <td>Europe</td>\n      <td>Country</td>\n      <td>TKM</td>\n      <td>Turkmenistan</td>\n      <td>Year</td>\n      <td>2000</td>\n      <td>...</td>\n      <td>NaN</td>\n      <td>NaN</td>\n      <td>NaN</td>\n      <td>NaN</td>\n      <td>NaN</td>\n      <td>NaN</td>\n      <td>No data</td>\n      <td>827.0</td>\n      <td>EN</td>\n      <td>2021-10-11 00:00:00</td>\n    </tr>\n    <tr>\n      <th>3610</th>\n      <td>HIV_0000000006</td>\n      <td>Number of deaths due to HIV/AIDS</td>\n      <td>numeric</td>\n      <td>EUR</td>\n      <td>Europe</td>\n      <td>Country</td>\n      <td>GBR</td>\n      <td>United Kingdom of Great Britain and Northern I...</td>\n      <td>Year</td>\n      <td>2000</td>\n      <td>...</td>\n      <td>NaN</td>\n      <td>NaN</td>\n      <td>NaN</td>\n      <td>NaN</td>\n      <td>NaN</td>\n      <td>NaN</td>\n      <td>No data</td>\n      <td>827.0</td>\n      <td>EN</td>\n      <td>2021-10-11 00:00:00</td>\n    </tr>\n    <tr>\n      <th>3611</th>\n      <td>HIV_0000000006</td>\n      <td>Number of deaths due to HIV/AIDS</td>\n      <td>numeric</td>\n      <td>AMR</td>\n      <td>Americas</td>\n      <td>Country</td>\n      <td>USA</td>\n      <td>United States of America</td>\n      <td>Year</td>\n      <td>2000</td>\n      <td>...</td>\n      <td>NaN</td>\n      <td>NaN</td>\n      <td>NaN</td>\n      <td>NaN</td>\n      <td>NaN</td>\n      <td>NaN</td>\n      <td>No data</td>\n      <td>827.0</td>\n      <td>EN</td>\n      <td>2021-10-11 00:00:00</td>\n    </tr>\n  </tbody>\n</table>\n<p>3612 rows × 21 columns</p>\n</div>"
     },
     "execution_count": 46,
     "metadata": {},
     "output_type": "execute_result"
    }
   ],
   "source": [
    "deaths_by_country_df.dropna(axis=1, how='all', inplace=True)\n",
    "deaths_by_country_df"
   ],
   "metadata": {
    "collapsed": false,
    "pycharm": {
     "name": "#%%\n"
    }
   }
  },
  {
   "cell_type": "markdown",
   "source": [
    "The IndicatorCode, ValueType, ParentsLocationCode,ParentLocation,LocationType,Period type,IsLastYear,Language will all be useless dropping them"
   ],
   "metadata": {
    "collapsed": false,
    "pycharm": {
     "name": "#%% md\n"
    }
   }
  },
  {
   "cell_type": "markdown",
   "source": [],
   "metadata": {
    "collapsed": false
   }
  },
  {
   "cell_type": "code",
   "execution_count": 49,
   "outputs": [],
   "source": [
    "deaths_by_country_df.drop(\n",
    "    columns=['IndicatorCode', 'ValueType', 'ParentLocationCode', 'ParentLocation', 'Location type', 'Period type',\n",
    "             'IsLatestYear', 'Language'], axis=1, inplace=True)"
   ],
   "metadata": {
    "collapsed": false,
    "pycharm": {
     "name": "#%%\n"
    }
   }
  },
  {
   "cell_type": "code",
   "execution_count": 21,
   "outputs": [],
   "source": [
    "# df_dict = {'art_coverage_by_country_df': art_coverage_by_country_df,\n",
    "#            'art_pediatric_coverage_by_country_df': art_pediatric_coverage_by_country_df,\n",
    "#            'no_of_cases_adults_15_to_49_by_country_df': no_of_cases_adults_15_to_49_by_country_df,\n",
    "#            'no_of_deaths_by_country_df': no_of_deaths_by_country_df,\n",
    "#            'no_of_people_living_with_hiv_by_country_df': no_of_people_living_with_hiv_by_country_df}\n",
    "# dfs = [art_coverage_by_country_df, art_pediatric_coverage_by_country_df, no_of_cases_adults_15_to_49_by_country_df,\n",
    "#        no_of_deaths_by_country_df, no_of_people_living_with_hiv_by_country_df]"
   ],
   "metadata": {
    "collapsed": false,
    "pycharm": {
     "name": "#%%\n"
    }
   }
  },
  {
   "cell_type": "markdown",
   "source": [
    "First, lets get the unique countries from each dataframe so we can merge them with the other datasets"
   ],
   "metadata": {
    "collapsed": false,
    "pycharm": {
     "name": "#%% md\n"
    }
   }
  },
  {
   "cell_type": "code",
   "execution_count": 9,
   "outputs": [],
   "source": [
    "countries_dict = {}\n",
    "for df in dfs:\n",
    "    df.rename(columns={'Unnamed: 0_level_0': 'Country'}, inplace=True)\n",
    "\n",
    "for df in df_dict:\n",
    "    countries_dict[df] = pd.unique(df_dict[df].Country.values.flatten())\n",
    "\n",
    "country_array = np.array([])\n",
    "for country in countries_dict:\n",
    "    country_array = np.concatenate((country_array, countries_dict[country]), axis=None)\n",
    "unique_countries = np.unique(country_array)"
   ],
   "metadata": {
    "collapsed": false,
    "pycharm": {
     "name": "#%%\n"
    }
   }
  },
  {
   "cell_type": "markdown",
   "source": [
    "Lets take all of the missing data and replace it with nan, also, lots of the values contain either `&lt;` which represents `<`, and `&gt;` which represents `>`, we can clean those up in the same replace function"
   ],
   "metadata": {
    "collapsed": false,
    "pycharm": {
     "name": "#%% md\n"
    }
   }
  },
  {
   "cell_type": "code",
   "execution_count": 10,
   "outputs": [
    {
     "name": "stdout",
     "output_type": "stream",
     "text": [
      "MultiIndex([(                                                                   'Country', ...),\n",
      "            ('Estimated antiretroviral therapy coverage among people living with HIV (%)', ...),\n",
      "            (                'Reported number of people receiving antiretroviral therapy', ...),\n",
      "            (                     'Estimated number of people (all ages) living with HIV', ...),\n",
      "            (                     'Estimated number of people (all ages) living with HIV', ...),\n",
      "            (                     'Estimated number of people (all ages) living with HIV', ...),\n",
      "            (                     'Estimated number of people (all ages) living with HIV', ...)],\n",
      "           )\n",
      "MultiIndex([(                                                                         'Country', ...),\n",
      "            (                        'Estimated antiretroviral therapy coverage among children', ...),\n",
      "            ('Estimated number of children needing antiretroviral therapy based on WHO methods', ...),\n",
      "            (                    'Reported number of children receiving antiretroviral therapy', ...)],\n",
      "           )\n",
      "MultiIndex([(                                         'Country', 'Country'),\n",
      "            ('Prevalence of HIV among adults aged 15 to 49 (%)',   ' 2018'),\n",
      "            ('Prevalence of HIV among adults aged 15 to 49 (%)',   ' 2010'),\n",
      "            ('Prevalence of HIV among adults aged 15 to 49 (%)',   ' 2005'),\n",
      "            ('Prevalence of HIV among adults aged 15 to 49 (%)',   ' 2000')],\n",
      "           )\n",
      "MultiIndex([(                         'Country', 'Country'),\n",
      "            ('Number of deaths due to HIV/AIDS',   ' 2018'),\n",
      "            ('Number of deaths due to HIV/AIDS',   ' 2010'),\n",
      "            ('Number of deaths due to HIV/AIDS',   ' 2000')],\n",
      "           )\n",
      "MultiIndex([(                                                                         'Country', ...),\n",
      "            (                        'Estimated antiretroviral therapy coverage among children', ...),\n",
      "            ('Estimated number of children needing antiretroviral therapy based on WHO methods', ...),\n",
      "            (                    'Reported number of children receiving antiretroviral therapy', ...)],\n",
      "           )\n"
     ]
    }
   ],
   "source": [
    "count = 1\n",
    "for df in df_dict:\n",
    "    df_dict[df].replace(\"No data\", np.nan, inplace=True)\n",
    "    df_dict[df].replace(\"&lt;\", \"<\", regex=True, inplace=True)\n",
    "    df_dict[df].replace(\"&gt;\", \"<\", regex=True, inplace=True)\n",
    "    #df_dict[df] = df_dict[df].stack([0, 1]).reset_index()\n",
    "    print(df_dict[df].columns)\n",
    "\n",
    "#df_full = art_coverage_by_country_df.merge(art_pediatric_coverage_by_country_df,left_on=...,right_on=)\n",
    "#df_full = df_full.merge(no_of_cases_adults_15_to_49_by_country_df,left_on=...,right_on=)\n",
    "#df_full = df_full.merge(no_of_deaths_by_country_df,left_on=...,right_on=)\n",
    "#df_full = df_full.merge(no_of_people_living_with_hiv_by_country_df,left_on=...,right_on=)\n",
    "#\n",
    "#df.to_csv(f'csv_{count}.csv')\n",
    "#count += 1"
   ],
   "metadata": {
    "collapsed": false,
    "pycharm": {
     "name": "#%%\n"
    }
   }
  },
  {
   "cell_type": "code",
   "execution_count": 18,
   "outputs": [
    {
     "data": {
      "text/plain": "                     Unnamed: 0_level_0 Estimated antiretroviral therapy coverage among people living with HIV (%) Reported number of people receiving antiretroviral therapy Estimated number of people (all ages) living with HIV                                                                                                   \n                                Country                                                                       2018                                                       2018                                                  2018                             2010                             2005                             2000\n0                           Afghanistan                                          13 [7–20]                                                                        920                                         7200 [4100–11 000]                    4200 [2500–6200]                 2900 [1700–5000]                 1600 [1000–3500]\n1                               Albania                                            No data                                                                        580                                                    No data                             No data                          No data                          No data\n2                               Algeria                                         81 [75–86]                                                                     12 800                                     16 000 [15 000–17 000]                    7100 [6600–7600]                 3700 [3500–4000]                 1900 [1700–2000]\n3                                Angola                                         27 [23–31]                                                                     88 700                                  330 000 [290 000–390 000]           220 000 [180 000–250 000]        150 000 [120 000–170 000]          87 000 [72 000–110 000]\n4                             Argentina                                         61 [55–67]                                                                     85 500                                  140 000 [130 000–150 000]            110 000 [96 000–120 000]           85 000 [76 000–94 000]           64 000 [55 000–71 000]\n..                                  ...                                                ...                                                                        ...                                                        ...                                 ...                              ...                              ...\n165  Venezuela (Bolivarian Republic of)                                            No data                                                                    No data                                  120 000 [100 000–130 000]                             No data                          No data                          No data\n166                            Viet Nam                                         65 [57–73]                                                                    150 000                                  230 000 [200 000–260 000]           220 000 [180 000–250 000]        180 000 [160 000–210 000]        120 000 [110 000–130 000]\n167                               Yemen                                         21 [12–35]                                                                       2200                                       11 000 [6500–18 000]                    5100 [3500–7400]                 2400 [1500–4000]                  1100 [680–2500]\n168                              Zambia                                         78 [69–88]                                                                    965 000                            1 200 000 [1 100 000–1 400 000]       1 000 000 [900 000–1 100 000]      920 000 [820 000–1 000 000]      890 000 [800 000–1 000 000]\n169                            Zimbabwe                                     88 [77–&gt;95]                                                                  1 151 000                            1 300 000 [1 100 000–1 500 000]     1 200 000 [1 100 000–1 400 000]  1 400 000 [1 200 000–1 600 000]  1 600 000 [1 400 000–1 900 000]\n\n[170 rows x 7 columns]",
      "text/html": "<div>\n<style scoped>\n    .dataframe tbody tr th:only-of-type {\n        vertical-align: middle;\n    }\n\n    .dataframe tbody tr th {\n        vertical-align: top;\n    }\n\n    .dataframe thead tr th {\n        text-align: left;\n    }\n</style>\n<table border=\"1\" class=\"dataframe\">\n  <thead>\n    <tr>\n      <th></th>\n      <th>Unnamed: 0_level_0</th>\n      <th>Estimated antiretroviral therapy coverage among people living with HIV (%)</th>\n      <th>Reported number of people receiving antiretroviral therapy</th>\n      <th colspan=\"4\" halign=\"left\">Estimated number of people (all ages) living with HIV</th>\n    </tr>\n    <tr>\n      <th></th>\n      <th>Country</th>\n      <th>2018</th>\n      <th>2018</th>\n      <th>2018</th>\n      <th>2010</th>\n      <th>2005</th>\n      <th>2000</th>\n    </tr>\n  </thead>\n  <tbody>\n    <tr>\n      <th>0</th>\n      <td>Afghanistan</td>\n      <td>13 [7–20]</td>\n      <td>920</td>\n      <td>7200 [4100–11 000]</td>\n      <td>4200 [2500–6200]</td>\n      <td>2900 [1700–5000]</td>\n      <td>1600 [1000–3500]</td>\n    </tr>\n    <tr>\n      <th>1</th>\n      <td>Albania</td>\n      <td>No data</td>\n      <td>580</td>\n      <td>No data</td>\n      <td>No data</td>\n      <td>No data</td>\n      <td>No data</td>\n    </tr>\n    <tr>\n      <th>2</th>\n      <td>Algeria</td>\n      <td>81 [75–86]</td>\n      <td>12 800</td>\n      <td>16 000 [15 000–17 000]</td>\n      <td>7100 [6600–7600]</td>\n      <td>3700 [3500–4000]</td>\n      <td>1900 [1700–2000]</td>\n    </tr>\n    <tr>\n      <th>3</th>\n      <td>Angola</td>\n      <td>27 [23–31]</td>\n      <td>88 700</td>\n      <td>330 000 [290 000–390 000]</td>\n      <td>220 000 [180 000–250 000]</td>\n      <td>150 000 [120 000–170 000]</td>\n      <td>87 000 [72 000–110 000]</td>\n    </tr>\n    <tr>\n      <th>4</th>\n      <td>Argentina</td>\n      <td>61 [55–67]</td>\n      <td>85 500</td>\n      <td>140 000 [130 000–150 000]</td>\n      <td>110 000 [96 000–120 000]</td>\n      <td>85 000 [76 000–94 000]</td>\n      <td>64 000 [55 000–71 000]</td>\n    </tr>\n    <tr>\n      <th>...</th>\n      <td>...</td>\n      <td>...</td>\n      <td>...</td>\n      <td>...</td>\n      <td>...</td>\n      <td>...</td>\n      <td>...</td>\n    </tr>\n    <tr>\n      <th>165</th>\n      <td>Venezuela (Bolivarian Republic of)</td>\n      <td>No data</td>\n      <td>No data</td>\n      <td>120 000 [100 000–130 000]</td>\n      <td>No data</td>\n      <td>No data</td>\n      <td>No data</td>\n    </tr>\n    <tr>\n      <th>166</th>\n      <td>Viet Nam</td>\n      <td>65 [57–73]</td>\n      <td>150 000</td>\n      <td>230 000 [200 000–260 000]</td>\n      <td>220 000 [180 000–250 000]</td>\n      <td>180 000 [160 000–210 000]</td>\n      <td>120 000 [110 000–130 000]</td>\n    </tr>\n    <tr>\n      <th>167</th>\n      <td>Yemen</td>\n      <td>21 [12–35]</td>\n      <td>2200</td>\n      <td>11 000 [6500–18 000]</td>\n      <td>5100 [3500–7400]</td>\n      <td>2400 [1500–4000]</td>\n      <td>1100 [680–2500]</td>\n    </tr>\n    <tr>\n      <th>168</th>\n      <td>Zambia</td>\n      <td>78 [69–88]</td>\n      <td>965 000</td>\n      <td>1 200 000 [1 100 000–1 400 000]</td>\n      <td>1 000 000 [900 000–1 100 000]</td>\n      <td>920 000 [820 000–1 000 000]</td>\n      <td>890 000 [800 000–1 000 000]</td>\n    </tr>\n    <tr>\n      <th>169</th>\n      <td>Zimbabwe</td>\n      <td>88 [77–&amp;gt;95]</td>\n      <td>1 151 000</td>\n      <td>1 300 000 [1 100 000–1 500 000]</td>\n      <td>1 200 000 [1 100 000–1 400 000]</td>\n      <td>1 400 000 [1 200 000–1 600 000]</td>\n      <td>1 600 000 [1 400 000–1 900 000]</td>\n    </tr>\n  </tbody>\n</table>\n<p>170 rows × 7 columns</p>\n</div>"
     },
     "execution_count": 18,
     "metadata": {},
     "output_type": "execute_result"
    }
   ],
   "source": [
    "#art_coverage_by_country_df['year'] = art_coverage_by_country_df.index.get_level_values(1)\n",
    "art_coverage_by_country_df"
   ],
   "metadata": {
    "collapsed": false,
    "pycharm": {
     "name": "#%%\n"
    }
   }
  }
 ],
 "metadata": {
  "kernelspec": {
   "display_name": "Python 3",
   "language": "python",
   "name": "python3"
  },
  "language_info": {
   "codemirror_mode": {
    "name": "ipython",
    "version": 2
   },
   "file_extension": ".py",
   "mimetype": "text/x-python",
   "name": "python",
   "nbconvert_exporter": "python",
   "pygments_lexer": "ipython2",
   "version": "2.7.6"
  }
 },
 "nbformat": 4,
 "nbformat_minor": 0
}