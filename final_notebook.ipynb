{
 "cells": [
  {
   "cell_type": "code",
   "execution_count": 1,
   "metadata": {},
   "outputs": [],
   "source": [
    "# TODO Tiffany - education and malnutrition\n",
    "import pandas as pd\n",
    "import seaborn as sns\n",
    "import matplotlib.pyplot as plt\n",
    "import sys\n",
    "import os"
   ]
  },
  {
   "cell_type": "code",
   "execution_count": 2,
   "metadata": {},
   "outputs": [],
   "source": [
    "# Init Data\n",
    "\n",
    "def init_data(csv):\n",
    "    if \"education\" in csv:\n",
    "        education = pd.read_csv(csv, skiprows=4)\n",
    "        return education\n",
    "        # education.head()\n",
    "    if \"GDP\" in csv:\n",
    "        gdp = pd.read_csv(csv, skiprows=4)\n",
    "        return gdp\n",
    "    if \"malnutrition\" in csv:\n",
    "        malnutrition = pd.read_csv(csv, skiprows=4)\n",
    "        return malnutrition\n",
    "    if \"poverty\" in csv:\n",
    "        poverty = pd.read_csv(csv, skiprows=4)\n",
    "        return poverty\n",
    "    if \"swine\" in csv:\n",
    "        swine_flu = pd.read_csv(csv)\n",
    "        return swine_flu\n",
    "    if \"covid\" in csv:\n",
    "        covid = pd.read_csv(csv)\n",
    "        return covid\n",
    "    if \"hiv_aids\" in csv:\n",
    "        hiv_aids = pd.read_csv(csv)\n",
    "        return hiv_aids\n",
    "\n",
    "\n",
    "def wb_clean(raw):\n",
    "    # reading in data\n",
    "    # world_bank_data = os.path.expanduser('../data/world_bank_data/' + raw)\n",
    "    wb = init_data(os.path.expanduser('../data/world_bank_data/' + raw))\n",
    "    wb[\"Country\"] = wb[\"Country Name\"]\n",
    "    wb = wb.drop([\"Country Name\"], axis=1).reindex()\n",
    "\n",
    "    # fixing columns\n",
    "    cols = list(wb.columns.values)\n",
    "    cols.pop(cols.index(\"Country\"))\n",
    "    wb = wb[[\"Country\"] + cols]\n",
    "    wb[\"mean\"] = wb.mean(axis=1)\n",
    "\n",
    "    return wb"
   ]
  },
  {
   "cell_type": "markdown",
   "source": [
    "# Swine Epidemic"
   ],
   "metadata": {
    "collapsed": false
   }
  },
  {
   "cell_type": "code",
   "execution_count": 3,
   "metadata": {},
   "outputs": [
    {
     "ename": "FileNotFoundError",
     "evalue": "[Errno 2] No such file or directory: '../data/swine_flu/swine_flu_data.csv'",
     "output_type": "error",
     "traceback": [
      "\u001B[0;31m---------------------------------------------------------------------------\u001B[0m",
      "\u001B[0;31mFileNotFoundError\u001B[0m                         Traceback (most recent call last)",
      "\u001B[0;32m/var/folders/rc/pdd6p39n70l939ldp9h_xzz40000gn/T/ipykernel_41211/3992302662.py\u001B[0m in \u001B[0;36m<module>\u001B[0;34m\u001B[0m\n\u001B[1;32m      1\u001B[0m \u001B[0;31m# print(education)\u001B[0m\u001B[0;34m\u001B[0m\u001B[0;34m\u001B[0m\u001B[0m\n\u001B[1;32m      2\u001B[0m \u001B[0mswine_full_path\u001B[0m \u001B[0;34m=\u001B[0m \u001B[0mos\u001B[0m\u001B[0;34m.\u001B[0m\u001B[0mpath\u001B[0m\u001B[0;34m.\u001B[0m\u001B[0mexpanduser\u001B[0m\u001B[0;34m(\u001B[0m\u001B[0;34m'../data/swine_flu/swine_flu_data.csv'\u001B[0m\u001B[0;34m)\u001B[0m\u001B[0;34m\u001B[0m\u001B[0;34m\u001B[0m\u001B[0m\n\u001B[0;32m----> 3\u001B[0;31m \u001B[0mswine\u001B[0m \u001B[0;34m=\u001B[0m \u001B[0minit_data\u001B[0m\u001B[0;34m(\u001B[0m\u001B[0mswine_full_path\u001B[0m\u001B[0;34m)\u001B[0m\u001B[0;34m\u001B[0m\u001B[0;34m\u001B[0m\u001B[0m\n\u001B[0m\u001B[1;32m      4\u001B[0m \u001B[0;31m#sort\u001B[0m\u001B[0;34m\u001B[0m\u001B[0;34m\u001B[0m\u001B[0m\n\u001B[1;32m      5\u001B[0m \u001B[0mswine\u001B[0m \u001B[0;34m=\u001B[0m \u001B[0mswine\u001B[0m\u001B[0;34m.\u001B[0m\u001B[0msort_values\u001B[0m\u001B[0;34m(\u001B[0m\u001B[0mby\u001B[0m\u001B[0;34m=\u001B[0m\u001B[0;34m\"Country\"\u001B[0m\u001B[0;34m)\u001B[0m\u001B[0;34m\u001B[0m\u001B[0;34m\u001B[0m\u001B[0m\n",
      "\u001B[0;32m/var/folders/rc/pdd6p39n70l939ldp9h_xzz40000gn/T/ipykernel_41211/947729497.py\u001B[0m in \u001B[0;36minit_data\u001B[0;34m(csv)\u001B[0m\n\u001B[1;32m     16\u001B[0m         \u001B[0;32mreturn\u001B[0m \u001B[0mpoverty\u001B[0m\u001B[0;34m\u001B[0m\u001B[0;34m\u001B[0m\u001B[0m\n\u001B[1;32m     17\u001B[0m     \u001B[0;32mif\u001B[0m \u001B[0;34m\"swine\"\u001B[0m \u001B[0;32min\u001B[0m \u001B[0mcsv\u001B[0m\u001B[0;34m:\u001B[0m\u001B[0;34m\u001B[0m\u001B[0;34m\u001B[0m\u001B[0m\n\u001B[0;32m---> 18\u001B[0;31m         \u001B[0mswine_flu\u001B[0m \u001B[0;34m=\u001B[0m \u001B[0mpd\u001B[0m\u001B[0;34m.\u001B[0m\u001B[0mread_csv\u001B[0m\u001B[0;34m(\u001B[0m\u001B[0mcsv\u001B[0m\u001B[0;34m)\u001B[0m\u001B[0;34m\u001B[0m\u001B[0;34m\u001B[0m\u001B[0m\n\u001B[0m\u001B[1;32m     19\u001B[0m         \u001B[0;32mreturn\u001B[0m \u001B[0mswine_flu\u001B[0m\u001B[0;34m\u001B[0m\u001B[0;34m\u001B[0m\u001B[0m\n\u001B[1;32m     20\u001B[0m     \u001B[0;32mif\u001B[0m \u001B[0;34m\"covid\"\u001B[0m \u001B[0;32min\u001B[0m \u001B[0mcsv\u001B[0m\u001B[0;34m:\u001B[0m\u001B[0;34m\u001B[0m\u001B[0;34m\u001B[0m\u001B[0m\n",
      "\u001B[0;32m~/Library/Python/3.9/lib/python/site-packages/pandas/util/_decorators.py\u001B[0m in \u001B[0;36mwrapper\u001B[0;34m(*args, **kwargs)\u001B[0m\n\u001B[1;32m    309\u001B[0m                     \u001B[0mstacklevel\u001B[0m\u001B[0;34m=\u001B[0m\u001B[0mstacklevel\u001B[0m\u001B[0;34m,\u001B[0m\u001B[0;34m\u001B[0m\u001B[0;34m\u001B[0m\u001B[0m\n\u001B[1;32m    310\u001B[0m                 )\n\u001B[0;32m--> 311\u001B[0;31m             \u001B[0;32mreturn\u001B[0m \u001B[0mfunc\u001B[0m\u001B[0;34m(\u001B[0m\u001B[0;34m*\u001B[0m\u001B[0margs\u001B[0m\u001B[0;34m,\u001B[0m \u001B[0;34m**\u001B[0m\u001B[0mkwargs\u001B[0m\u001B[0;34m)\u001B[0m\u001B[0;34m\u001B[0m\u001B[0;34m\u001B[0m\u001B[0m\n\u001B[0m\u001B[1;32m    312\u001B[0m \u001B[0;34m\u001B[0m\u001B[0m\n\u001B[1;32m    313\u001B[0m         \u001B[0;32mreturn\u001B[0m \u001B[0mwrapper\u001B[0m\u001B[0;34m\u001B[0m\u001B[0;34m\u001B[0m\u001B[0m\n",
      "\u001B[0;32m~/Library/Python/3.9/lib/python/site-packages/pandas/io/parsers/readers.py\u001B[0m in \u001B[0;36mread_csv\u001B[0;34m(filepath_or_buffer, sep, delimiter, header, names, index_col, usecols, squeeze, prefix, mangle_dupe_cols, dtype, engine, converters, true_values, false_values, skipinitialspace, skiprows, skipfooter, nrows, na_values, keep_default_na, na_filter, verbose, skip_blank_lines, parse_dates, infer_datetime_format, keep_date_col, date_parser, dayfirst, cache_dates, iterator, chunksize, compression, thousands, decimal, lineterminator, quotechar, quoting, doublequote, escapechar, comment, encoding, encoding_errors, dialect, error_bad_lines, warn_bad_lines, on_bad_lines, delim_whitespace, low_memory, memory_map, float_precision, storage_options)\u001B[0m\n\u001B[1;32m    678\u001B[0m     \u001B[0mkwds\u001B[0m\u001B[0;34m.\u001B[0m\u001B[0mupdate\u001B[0m\u001B[0;34m(\u001B[0m\u001B[0mkwds_defaults\u001B[0m\u001B[0;34m)\u001B[0m\u001B[0;34m\u001B[0m\u001B[0;34m\u001B[0m\u001B[0m\n\u001B[1;32m    679\u001B[0m \u001B[0;34m\u001B[0m\u001B[0m\n\u001B[0;32m--> 680\u001B[0;31m     \u001B[0;32mreturn\u001B[0m \u001B[0m_read\u001B[0m\u001B[0;34m(\u001B[0m\u001B[0mfilepath_or_buffer\u001B[0m\u001B[0;34m,\u001B[0m \u001B[0mkwds\u001B[0m\u001B[0;34m)\u001B[0m\u001B[0;34m\u001B[0m\u001B[0;34m\u001B[0m\u001B[0m\n\u001B[0m\u001B[1;32m    681\u001B[0m \u001B[0;34m\u001B[0m\u001B[0m\n\u001B[1;32m    682\u001B[0m \u001B[0;34m\u001B[0m\u001B[0m\n",
      "\u001B[0;32m~/Library/Python/3.9/lib/python/site-packages/pandas/io/parsers/readers.py\u001B[0m in \u001B[0;36m_read\u001B[0;34m(filepath_or_buffer, kwds)\u001B[0m\n\u001B[1;32m    573\u001B[0m \u001B[0;34m\u001B[0m\u001B[0m\n\u001B[1;32m    574\u001B[0m     \u001B[0;31m# Create the parser.\u001B[0m\u001B[0;34m\u001B[0m\u001B[0;34m\u001B[0m\u001B[0m\n\u001B[0;32m--> 575\u001B[0;31m     \u001B[0mparser\u001B[0m \u001B[0;34m=\u001B[0m \u001B[0mTextFileReader\u001B[0m\u001B[0;34m(\u001B[0m\u001B[0mfilepath_or_buffer\u001B[0m\u001B[0;34m,\u001B[0m \u001B[0;34m**\u001B[0m\u001B[0mkwds\u001B[0m\u001B[0;34m)\u001B[0m\u001B[0;34m\u001B[0m\u001B[0;34m\u001B[0m\u001B[0m\n\u001B[0m\u001B[1;32m    576\u001B[0m \u001B[0;34m\u001B[0m\u001B[0m\n\u001B[1;32m    577\u001B[0m     \u001B[0;32mif\u001B[0m \u001B[0mchunksize\u001B[0m \u001B[0;32mor\u001B[0m \u001B[0miterator\u001B[0m\u001B[0;34m:\u001B[0m\u001B[0;34m\u001B[0m\u001B[0;34m\u001B[0m\u001B[0m\n",
      "\u001B[0;32m~/Library/Python/3.9/lib/python/site-packages/pandas/io/parsers/readers.py\u001B[0m in \u001B[0;36m__init__\u001B[0;34m(self, f, engine, **kwds)\u001B[0m\n\u001B[1;32m    931\u001B[0m \u001B[0;34m\u001B[0m\u001B[0m\n\u001B[1;32m    932\u001B[0m         \u001B[0mself\u001B[0m\u001B[0;34m.\u001B[0m\u001B[0mhandles\u001B[0m\u001B[0;34m:\u001B[0m \u001B[0mIOHandles\u001B[0m \u001B[0;34m|\u001B[0m \u001B[0;32mNone\u001B[0m \u001B[0;34m=\u001B[0m \u001B[0;32mNone\u001B[0m\u001B[0;34m\u001B[0m\u001B[0;34m\u001B[0m\u001B[0m\n\u001B[0;32m--> 933\u001B[0;31m         \u001B[0mself\u001B[0m\u001B[0;34m.\u001B[0m\u001B[0m_engine\u001B[0m \u001B[0;34m=\u001B[0m \u001B[0mself\u001B[0m\u001B[0;34m.\u001B[0m\u001B[0m_make_engine\u001B[0m\u001B[0;34m(\u001B[0m\u001B[0mf\u001B[0m\u001B[0;34m,\u001B[0m \u001B[0mself\u001B[0m\u001B[0;34m.\u001B[0m\u001B[0mengine\u001B[0m\u001B[0;34m)\u001B[0m\u001B[0;34m\u001B[0m\u001B[0;34m\u001B[0m\u001B[0m\n\u001B[0m\u001B[1;32m    934\u001B[0m \u001B[0;34m\u001B[0m\u001B[0m\n\u001B[1;32m    935\u001B[0m     \u001B[0;32mdef\u001B[0m \u001B[0mclose\u001B[0m\u001B[0;34m(\u001B[0m\u001B[0mself\u001B[0m\u001B[0;34m)\u001B[0m\u001B[0;34m:\u001B[0m\u001B[0;34m\u001B[0m\u001B[0;34m\u001B[0m\u001B[0m\n",
      "\u001B[0;32m~/Library/Python/3.9/lib/python/site-packages/pandas/io/parsers/readers.py\u001B[0m in \u001B[0;36m_make_engine\u001B[0;34m(self, f, engine)\u001B[0m\n\u001B[1;32m   1215\u001B[0m             \u001B[0;31m# \"Union[str, PathLike[str], ReadCsvBuffer[bytes], ReadCsvBuffer[str]]\"\u001B[0m\u001B[0;34m\u001B[0m\u001B[0;34m\u001B[0m\u001B[0m\n\u001B[1;32m   1216\u001B[0m             \u001B[0;31m# , \"str\", \"bool\", \"Any\", \"Any\", \"Any\", \"Any\", \"Any\"\u001B[0m\u001B[0;34m\u001B[0m\u001B[0;34m\u001B[0m\u001B[0m\n\u001B[0;32m-> 1217\u001B[0;31m             self.handles = get_handle(  # type: ignore[call-overload]\n\u001B[0m\u001B[1;32m   1218\u001B[0m                 \u001B[0mf\u001B[0m\u001B[0;34m,\u001B[0m\u001B[0;34m\u001B[0m\u001B[0;34m\u001B[0m\u001B[0m\n\u001B[1;32m   1219\u001B[0m                 \u001B[0mmode\u001B[0m\u001B[0;34m,\u001B[0m\u001B[0;34m\u001B[0m\u001B[0;34m\u001B[0m\u001B[0m\n",
      "\u001B[0;32m~/Library/Python/3.9/lib/python/site-packages/pandas/io/common.py\u001B[0m in \u001B[0;36mget_handle\u001B[0;34m(path_or_buf, mode, encoding, compression, memory_map, is_text, errors, storage_options)\u001B[0m\n\u001B[1;32m    787\u001B[0m         \u001B[0;32mif\u001B[0m \u001B[0mioargs\u001B[0m\u001B[0;34m.\u001B[0m\u001B[0mencoding\u001B[0m \u001B[0;32mand\u001B[0m \u001B[0;34m\"b\"\u001B[0m \u001B[0;32mnot\u001B[0m \u001B[0;32min\u001B[0m \u001B[0mioargs\u001B[0m\u001B[0;34m.\u001B[0m\u001B[0mmode\u001B[0m\u001B[0;34m:\u001B[0m\u001B[0;34m\u001B[0m\u001B[0;34m\u001B[0m\u001B[0m\n\u001B[1;32m    788\u001B[0m             \u001B[0;31m# Encoding\u001B[0m\u001B[0;34m\u001B[0m\u001B[0;34m\u001B[0m\u001B[0m\n\u001B[0;32m--> 789\u001B[0;31m             handle = open(\n\u001B[0m\u001B[1;32m    790\u001B[0m                 \u001B[0mhandle\u001B[0m\u001B[0;34m,\u001B[0m\u001B[0;34m\u001B[0m\u001B[0;34m\u001B[0m\u001B[0m\n\u001B[1;32m    791\u001B[0m                 \u001B[0mioargs\u001B[0m\u001B[0;34m.\u001B[0m\u001B[0mmode\u001B[0m\u001B[0;34m,\u001B[0m\u001B[0;34m\u001B[0m\u001B[0;34m\u001B[0m\u001B[0m\n",
      "\u001B[0;31mFileNotFoundError\u001B[0m: [Errno 2] No such file or directory: '../data/swine_flu/swine_flu_data.csv'"
     ]
    }
   ],
   "source": [
    "# print(education)\n",
    "swine_full_path = os.path.expanduser('../data/swine_flu/swine_flu_data.csv')\n",
    "swine = init_data(swine_full_path)\n",
    "#sort\n",
    "swine = swine.sort_values(by=\"Country\")\n",
    "# swine.head()\n",
    "#drop the link column\n",
    "swine = swine.drop([\"Link\"], axis=1)\n",
    "# swine.head()\n",
    "#add percent deaths\n",
    "swine[\"Percent of Deaths\"] = swine[\"Cumulative no. of deaths\"] / swine[\"Cumulative no. of cases\"]\n",
    "swine = swine.groupby([\"Country\"]).sum().reset_index()"
   ]
  },
  {
   "cell_type": "markdown",
   "source": [
    "# Swine Epidemic plot cases and deaths"
   ],
   "metadata": {
    "collapsed": false
   }
  },
  {
   "cell_type": "code",
   "execution_count": null,
   "metadata": {},
   "outputs": [],
   "source": [
    "\n",
    "cases = []\n",
    "deaths = []\n",
    "country = []\n",
    "\n",
    "for i in range(0, len(swine[\"Country\"])):\n",
    "    if swine[\"Cumulative no. of deaths\"][i] > 0:\n",
    "        # print('nope')\n",
    "        country.append(swine[\"Country\"][i])\n",
    "        cases.append(swine[\"Cumulative no. of cases\"][i])\n",
    "        deaths.append(swine[\"Cumulative no. of deaths\"][i])\n",
    "\n",
    "country = sorted(country)\n",
    "\n",
    "plt.xticks(rotation=90)\n",
    "plt.plot(country, cases)\n",
    "plt.plot(country, deaths)\n",
    "plt.legend([\"cases\", \"deaths\"])\n",
    "plt.show()"
   ]
  },
  {
   "cell_type": "markdown",
   "metadata": {},
   "source": [
    "#plot countries\n",
    "plt.plot(swine[\"Country\"], swine[\"Percent of Deaths\"])"
   ]
  },
  {
   "cell_type": "markdown",
   "source": [
    "# Swine Epidemic plot deaths"
   ],
   "metadata": {
    "collapsed": false
   }
  },
  {
   "cell_type": "code",
   "execution_count": null,
   "metadata": {},
   "outputs": [],
   "source": [
    "deaths = []\n",
    "country = []\n",
    "\n",
    "for i in range(0, len(swine[\"Country\"])):\n",
    "    if swine[\"Cumulative no. of deaths\"][i] > 0:\n",
    "        # print('nope')\n",
    "        country.append(swine[\"Country\"][i])\n",
    "        deaths.append(swine[\"Cumulative no. of deaths\"][i])\n",
    "\n",
    "plt.xticks(rotation=90)\n",
    "plt.plot(country, deaths)\n",
    "plt.legend([\"deaths\"])\n",
    "plt.show()"
   ]
  },
  {
   "cell_type": "markdown",
   "source": [
    "# clean education vs swine"
   ],
   "metadata": {
    "collapsed": false
   }
  },
  {
   "cell_type": "code",
   "execution_count": null,
   "metadata": {},
   "outputs": [],
   "source": [
    "# script_dir = os.path.dirname(__file__)\n",
    "education_csv = \"education.csv\"\n",
    "education = wb_clean(os.path.expanduser(education_csv))\n",
    "\n",
    "drop = []\n",
    "us = {\"United States\": \"United States of America\"}\n",
    "education['Country'] = education['Country'].replace(us)\n",
    "for idx, coun in enumerate(education[\"Country\"]):\n",
    "    if coun not in country:\n",
    "        drop.append(idx)\n",
    "    else:\n",
    "        continue\n",
    "keep = set(range(education.shape[0])) - set(drop)\n",
    "swine_edu = education.take(list(keep))\n",
    "# swine_edu = swine.merge(education, on = \"Country\", how = 'left')\n",
    "swine_edu[\"mean\"] = swine_edu[\"mean\"].fillna(0)\n",
    "swine_edu = swine_edu.sort_values(\"Country\")\n",
    "\n",
    "#EDUCATION VS SWINE\n",
    "fig, axs = plt.subplots(3)\n",
    "fig.suptitle(\"Education vs Swine Flu Epidemic\")\n",
    "line0, = axs[0].plot(country, cases, color='b', linestyle='-')\n",
    "line1, = axs[1].plot(country, deaths, color='r', linestyle='--')\n",
    "line2, = axs[2].plot(country, list(swine_edu[\"mean\"]), color='y')\n",
    "plt.xticks(rotation=90)\n",
    "plt.setp(axs[0].get_xticklabels(), visible=False)\n",
    "plt.setp(axs[1].get_xticklabels(), visible=False)\n",
    "plt.subplots_adjust(hspace=.0)\n",
    "axs[2].set_ylabel(\"%\")\n",
    "axs[1].legend((line0, line1, line2), (\"Cases\", \"Deaths\", \"Education\"), loc=\"upper left\")\n",
    "plt.show()"
   ]
  },
  {
   "cell_type": "markdown",
   "source": [
    "# GDP vs SWINE CLEAN"
   ],
   "metadata": {
    "collapsed": false
   }
  },
  {
   "cell_type": "code",
   "execution_count": null,
   "metadata": {},
   "outputs": [],
   "source": [
    "# script_dir = os.path.dirname(__file__)\n",
    "gdp_csv = \"GDP.csv\"\n",
    "gdp = wb_clean(os.path.expanduser(gdp_csv))\n",
    "\n",
    "drop = []\n",
    "us = {\"United States\": \"United States of America\"}\n",
    "gdp['Country'] = gdp['Country'].replace(us)\n",
    "for idx, coun in enumerate(gdp[\"Country\"]):\n",
    "    if coun not in country:\n",
    "        drop.append(idx)\n",
    "    else:\n",
    "        continue\n",
    "keep = set(range(gdp.shape[0])) - set(drop)\n",
    "swine_gdp = gdp.take(list(keep))\n",
    "# swine_edu = swine.merge(education, on = \"Country\", how = 'left')\n",
    "swine_gdp[\"mean\"] = swine_gdp[\"mean\"].fillna(0)\n",
    "swine_gdp = swine_gdp.sort_values(\"Country\")\n",
    "\n",
    "#GDP VS SWINE plot\n",
    "\n",
    "fig, axs = plt.subplots(3)\n",
    "fig.suptitle(\"GDP vs Swine Flu Epidemic\")\n",
    "line0, = axs[0].plot(country, cases, color='b', linestyle='-')\n",
    "line1, = axs[1].plot(country, deaths, color='r', linestyle='--')\n",
    "line2, = axs[2].plot(country, list(swine_gdp[\"mean\"]), color='y')\n",
    "plt.xticks(rotation=90)\n",
    "plt.setp(axs[0].get_xticklabels(), visible=False)\n",
    "plt.setp(axs[1].get_xticklabels(), visible=False)\n",
    "plt.subplots_adjust(hspace=.0)\n",
    "axs[2].set_ylabel(\"USD per capita\")\n",
    "axs[1].legend((line0, line1, line2), (\"Cases\", \"Deaths\", \"GDP\"), loc=\"upper left\")\n",
    "plt.show()"
   ]
  },
  {
   "cell_type": "markdown",
   "source": [
    "# malnutrition vs SWINE CLEAN"
   ],
   "metadata": {
    "collapsed": false
   }
  },
  {
   "cell_type": "code",
   "execution_count": null,
   "metadata": {},
   "outputs": [],
   "source": [
    "# script_dir = os.path.dirname(__file__)\n",
    "mal_csv = \"malnutrition.csv\"\n",
    "mal = wb_clean(os.path.expanduser(mal_csv))\n",
    "\n",
    "drop = []\n",
    "us = {\"United States\": \"United States of America\"}\n",
    "mal['Country'] = mal['Country'].replace(us)\n",
    "for idx, coun in enumerate(mal[\"Country\"]):\n",
    "    if coun not in country:\n",
    "        drop.append(idx)\n",
    "    else:\n",
    "        continue\n",
    "keep = set(range(mal.shape[0])) - set(drop)\n",
    "swine_mal = mal.take(list(keep))\n",
    "# swine_edu = swine.merge(education, on = \"Country\", how = 'left')\n",
    "swine_mal[\"mean\"] = swine_mal[\"mean\"].fillna(0)\n",
    "swine_mal = swine_mal.sort_values(\"Country\")\n",
    "\n",
    "#MALNUTRITION VS SWINE plot\n",
    "\n",
    "fig, axs = plt.subplots(3)\n",
    "fig.suptitle(\"Malnutrition vs Swine Flu Epidemic\")\n",
    "line0, = axs[0].plot(country, cases, color='b', linestyle='-')\n",
    "line1, = axs[1].plot(country, deaths, color='r', linestyle='--')\n",
    "line2, = axs[2].plot(country, list(swine_mal[\"mean\"]), color='y')\n",
    "plt.xticks(rotation=90)\n",
    "plt.setp(axs[0].get_xticklabels(), visible=False)\n",
    "plt.setp(axs[1].get_xticklabels(), visible=False)\n",
    "plt.subplots_adjust(hspace=.0)\n",
    "axs[2].set_ylabel(\"%\")\n",
    "axs[1].legend((line0, line1, line2), (\"Cases\", \"Deaths\", \"Malnutrition\"), loc=\"upper left\")\n",
    "plt.show()"
   ]
  },
  {
   "cell_type": "markdown",
   "source": [
    "# poverty vs SWINE CLEAN"
   ],
   "metadata": {
    "collapsed": false
   }
  },
  {
   "cell_type": "code",
   "execution_count": null,
   "metadata": {},
   "outputs": [],
   "source": [
    "# script_dir = os.path.dirname(__file__)\n",
    "pov_csv = \"poverty.csv\"\n",
    "pov = wb_clean(os.path.expanduser(pov_csv))\n",
    "\n",
    "drop = []\n",
    "us = {\"United States\": \"United States of America\"}\n",
    "pov['Country'] = pov['Country'].replace(us)\n",
    "for idx, coun in enumerate(pov[\"Country\"]):\n",
    "    if coun not in country:\n",
    "        drop.append(idx)\n",
    "    else:\n",
    "        continue\n",
    "keep = set(range(pov.shape[0])) - set(drop)\n",
    "swine_pov = pov.take(list(keep))\n",
    "# swine_edu = swine.merge(education, on = \"Country\", how = 'left')\n",
    "swine_pov[\"mean\"] = swine_pov[\"mean\"].fillna(0)\n",
    "swine_pov = swine_pov.sort_values(\"Country\")\n",
    "\n",
    "#POVERTY VS SWINE plot\n",
    "\n",
    "fig, axs = plt.subplots(3)\n",
    "fig.suptitle(\"Poverty vs Swine Flu Epidemic\")\n",
    "line0, = axs[0].plot(country, cases, color='b', linestyle='-')\n",
    "line1, = axs[1].plot(country, deaths, color='r', linestyle='--')\n",
    "line2, = axs[2].plot(country, list(swine_pov[\"mean\"]), color='y')\n",
    "plt.xticks(rotation=90)\n",
    "plt.setp(axs[0].get_xticklabels(), visible=False)\n",
    "plt.setp(axs[1].get_xticklabels(), visible=False)\n",
    "plt.subplots_adjust(hspace=.0)\n",
    "axs[2].set_ylabel(\"%\")\n",
    "axs[1].legend((line0, line1, line2), (\"Cases\", \"Deaths\", \"Poverty\"), loc=\"upper left\")\n",
    "plt.show()"
   ]
  },
  {
   "cell_type": "markdown",
   "source": [
    "# Covid Pandemic"
   ],
   "metadata": {
    "collapsed": false
   }
  },
  {
   "cell_type": "code",
   "execution_count": null,
   "metadata": {},
   "outputs": [],
   "source": [
    "# print(education)\n",
    "covid_full_path = os.path.expanduser('../data/covid/full_grouped.csv')\n",
    "covid = init_data(covid_full_path)\n",
    "#sort\n",
    "# covid = covid.sort_values(by = \"Country\")\n",
    "# covid.head()\n",
    "covid[\"Country\"] = covid[\"Country/Region\"]\n",
    "covid[\"Total Cases\"] = covid[\"Confirmed\"] + covid[\"New cases\"]\n",
    "covid[\"Total Deaths\"] = covid[\"Deaths\"] + covid[\"New deaths\"]\n",
    "covid[\"Percent of Deaths\"] = covid[\"Total Deaths\"] / covid[\"Total Cases\"]\n",
    "#drop the link column\n",
    "covid = covid.drop([\"Country/Region\"], axis=1)\n",
    "covid = covid.drop([\"Confirmed\"], axis=1)\n",
    "covid = covid.drop([\"New cases\"], axis=1)\n",
    "covid = covid.drop([\"Deaths\"], axis=1)\n",
    "covid = covid.drop([\"New deaths\"], axis=1)\n",
    "covid = covid.groupby([\"Country\"]).sum().reset_index()\n",
    "covid.head()"
   ]
  },
  {
   "cell_type": "markdown",
   "source": [
    "# Covid Pandemic plot cases and deaths"
   ],
   "metadata": {
    "collapsed": false
   }
  },
  {
   "cell_type": "code",
   "execution_count": null,
   "metadata": {},
   "outputs": [],
   "source": [
    "cases = []\n",
    "deaths = []\n",
    "country = []\n",
    "percent = []\n",
    "\n",
    "for i in range(0, len(covid[\"Country\"])):\n",
    "    if covid[\"Total Deaths\"][i] > 0:\n",
    "        # print('nope')\n",
    "        country.append(covid[\"Country\"][i])\n",
    "        cases.append(covid[\"Total Cases\"][i])\n",
    "        deaths.append(covid[\"Total Deaths\"][i])\n",
    "        percent.append(covid[\"Percent of Deaths\"][i])\n",
    "\n",
    "country = sorted(country)\n",
    "\n",
    "fig, ax = plt.subplots(1, 1, figsize=[30, 25])\n",
    "fig.suptitle(\"Covid Cases and Deaths\", fontsize=30)\n",
    "plt.xlabel(\"Country\", fontsize=18)\n",
    "plt.ylabel(\"Cases in Millions\", fontsize=20)\n",
    "plt.xticks(rotation=90, fontsize=14)\n",
    "plt.margins(x=0, y=0)\n",
    "plt.plot(country, cases)\n",
    "plt.plot(country, deaths)\n",
    "plt.plot(country, percent)\n",
    "plt.legend([\"cases\", \"deaths\"], fontsize=25)\n",
    "plt.show()"
   ]
  },
  {
   "cell_type": "code",
   "execution_count": null,
   "metadata": {},
   "outputs": [],
   "source": [
    "fig, ax = plt.subplots(1, 1, figsize=[20, 15])\n",
    "fig.suptitle(\"Percent of Deaths\", fontsize=20)\n",
    "plt.xlabel(\"Country\", fontsize=18)\n",
    "plt.ylabel(\"%\", fontsize=20)\n",
    "plt.xticks(rotation=90, fontsize=12)\n",
    "plt.margins(x=0, y=0)\n",
    "plt.plot(country, percent)"
   ]
  },
  {
   "cell_type": "markdown",
   "source": [
    "# Education vs Covid Pandemic"
   ],
   "metadata": {
    "collapsed": false
   }
  },
  {
   "cell_type": "code",
   "execution_count": null,
   "metadata": {},
   "outputs": [],
   "source": [
    "education_csv = \"education.csv\"\n",
    "education = wb_clean(os.path.expanduser(education_csv))\n",
    "\n",
    "drop = []\n",
    "us = {\"Brunei Darussalam\": \"Brunei\", \"Congo, Dem. Rep.\": \"Congo (Brazzaville)\", \"Bahamas, The\": \"Bahamas\",\n",
    "      \"Congo, Rep.\": \"Congo (Kinshasa)\", \"Czech Republic\": \"Czechia\", \"Egypt, Arab Rep.\": \"Egypt\",\n",
    "      \"Gambia, The\": \"Gambia\", \"Iran, Islamic Rep.\": \"Iran\", \"Kyrgyz Republic\": \"Kyrgyzstan\",\n",
    "      \"Korea, Rep.\": \"South Korea\", \"Lao PDR\": \"Laos\", \"St. Lucia\": \"Saint Lucia\", \"Russian Federation\": \"Russia\",\n",
    "      \"Slovak Republic\": \"Slovakia\", \"Syrian Arab Republic\": \"Syria\",\n",
    "      \"St. Vincent and the Grenadines\": \"Saint Vincent and the Grenadines\",\n",
    "      \"Venezuela, RB\": \"Venezuela\", \"United States\": \"US\", \"Yemen, Rep.\": \"Yemen\"}\n",
    "\n",
    "education['Country'] = education['Country'].replace(us)\n",
    "for idx, coun in enumerate(education[\"Country\"]):\n",
    "    if coun not in country:\n",
    "        drop.append(idx)\n",
    "    else:\n",
    "        continue\n",
    "keep = set(range(education.shape[0])) - set(drop)\n",
    "covid_edu = education.take(list(keep))\n",
    "\n",
    "covid_edu[\"mean\"] = covid_edu[\"mean\"].fillna(0)\n",
    "covid_edu = covid_edu.sort_values(\"Country\")\n",
    "# print(list(covid_edu[\"Country\"]))\n",
    "\n",
    "#EDUCATION VS COVID\n",
    "fig, axs = plt.subplots(3, figsize=[30, 25])\n",
    "fig.suptitle(\"Education vs Covid Pandemic\")\n",
    "line0, = axs[0].plot(country, cases, color='b', linestyle='-')\n",
    "line1, = axs[1].plot(country, deaths, color='r', linestyle='--')\n",
    "line2, = axs[2].plot(list(covid_edu[\"Country\"]), list(covid_edu[\"mean\"]), color='y')\n",
    "plt.xticks(rotation=90)\n",
    "plt.setp(axs[0].get_xticklabels(), visible=False)\n",
    "plt.setp(axs[1].get_xticklabels(), visible=False)\n",
    "plt.subplots_adjust(hspace=.0)\n",
    "axs[2].set_ylabel(\"%\")\n",
    "axs[1].legend((line0, line1, line2), (\"Cases\", \"Deaths\", \"Education\"), loc=\"upper left\")\n",
    "plt.show()"
   ]
  },
  {
   "cell_type": "markdown",
   "source": [
    "# GDP vs Covid Pandemic"
   ],
   "metadata": {
    "collapsed": false
   }
  },
  {
   "cell_type": "code",
   "execution_count": null,
   "metadata": {},
   "outputs": [],
   "source": [
    "education_csv = \"GDP.csv\"\n",
    "education = wb_clean(os.path.expanduser(education_csv))\n",
    "\n",
    "drop = []\n",
    "us = {\"Brunei Darussalam\": \"Brunei\", \"Congo, Dem. Rep.\": \"Congo (Brazzaville)\", \"Bahamas, The\": \"Bahamas\",\n",
    "      \"Congo, Rep.\": \"Congo (Kinshasa)\", \"Czech Republic\": \"Czechia\", \"Egypt, Arab Rep.\": \"Egypt\",\n",
    "      \"Gambia, The\": \"Gambia\", \"Iran, Islamic Rep.\": \"Iran\", \"Kyrgyz Republic\": \"Kyrgyzstan\",\n",
    "      \"Korea, Rep.\": \"South Korea\", \"Lao PDR\": \"Laos\", \"St. Lucia\": \"Saint Lucia\", \"Russian Federation\": \"Russia\",\n",
    "      \"Slovak Republic\": \"Slovakia\", \"Syrian Arab Republic\": \"Syria\",\n",
    "      \"St. Vincent and the Grenadines\": \"Saint Vincent and the Grenadines\",\n",
    "      \"Venezuela, RB\": \"Venezuela\", \"United States\": \"US\", \"Yemen, Rep.\": \"Yemen\"}\n",
    "\n",
    "education['Country'] = education['Country'].replace(us)\n",
    "for idx, coun in enumerate(education[\"Country\"]):\n",
    "    if coun not in country:\n",
    "        drop.append(idx)\n",
    "    else:\n",
    "        continue\n",
    "keep = set(range(education.shape[0])) - set(drop)\n",
    "covid_edu = education.take(list(keep))\n",
    "\n",
    "covid_edu[\"mean\"] = covid_edu[\"mean\"].fillna(0)\n",
    "covid_edu = covid_edu.sort_values(\"Country\")\n",
    "# print(list(covid_edu[\"Country\"]))"
   ]
  },
  {
   "cell_type": "markdown",
   "source": [
    "# Education vs Covid"
   ],
   "metadata": {
    "collapsed": false
   }
  },
  {
   "cell_type": "code",
   "execution_count": null,
   "outputs": [],
   "source": [
    "fig, axs = plt.subplots(3, figsize=[30, 25])\n",
    "fig.suptitle(\"GDP vs Covid Pandemic\")\n",
    "line0, = axs[0].plot(country, cases, color='b', linestyle='-')\n",
    "line1, = axs[1].plot(country, deaths, color='r', linestyle='--')\n",
    "line2, = axs[2].plot(list(covid_edu[\"Country\"]), list(covid_edu[\"mean\"]), color='y')\n",
    "plt.xticks(rotation=90)\n",
    "plt.setp(axs[0].get_xticklabels(), visible=False)\n",
    "plt.setp(axs[1].get_xticklabels(), visible=False)\n",
    "plt.subplots_adjust(hspace=.0)\n",
    "axs[2].set_ylabel(\"USD per capita\")\n",
    "axs[1].legend((line0, line1, line2), (\"Cases\", \"Deaths\", \"GDP\"), loc=\"upper left\")\n",
    "plt.show()"
   ],
   "metadata": {
    "collapsed": false,
    "pycharm": {
     "name": "#%%\n"
    }
   }
  },
  {
   "cell_type": "markdown",
   "source": [
    "# malnutrition vs Covid Pandemic"
   ],
   "metadata": {
    "collapsed": false
   }
  },
  {
   "cell_type": "code",
   "execution_count": null,
   "metadata": {},
   "outputs": [],
   "source": [
    "education_csv = \"malnutrition.csv\"\n",
    "education = wb_clean(os.path.expanduser(education_csv))\n",
    "\n",
    "drop = []\n",
    "us = {\"Brunei Darussalam\": \"Brunei\", \"Congo, Dem. Rep.\": \"Congo (Brazzaville)\", \"Bahamas, The\": \"Bahamas\",\n",
    "      \"Congo, Rep.\": \"Congo (Kinshasa)\", \"Czech Republic\": \"Czechia\", \"Egypt, Arab Rep.\": \"Egypt\",\n",
    "      \"Gambia, The\": \"Gambia\", \"Iran, Islamic Rep.\": \"Iran\", \"Kyrgyz Republic\": \"Kyrgyzstan\",\n",
    "      \"Korea, Rep.\": \"South Korea\", \"Lao PDR\": \"Laos\", \"St. Lucia\": \"Saint Lucia\", \"Russian Federation\": \"Russia\",\n",
    "      \"Slovak Republic\": \"Slovakia\", \"Syrian Arab Republic\": \"Syria\",\n",
    "      \"St. Vincent and the Grenadines\": \"Saint Vincent and the Grenadines\",\n",
    "      \"Venezuela, RB\": \"Venezuela\", \"United States\": \"US\", \"Yemen, Rep.\": \"Yemen\"}\n",
    "\n",
    "education['Country'] = education['Country'].replace(us)\n",
    "for idx, coun in enumerate(education[\"Country\"]):\n",
    "    if coun not in country:\n",
    "        drop.append(idx)\n",
    "    else:\n",
    "        continue\n",
    "keep = set(range(education.shape[0])) - set(drop)\n",
    "covid_edu = education.take(list(keep))\n",
    "\n",
    "covid_edu[\"mean\"] = covid_edu[\"mean\"].fillna(0)\n",
    "covid_edu = covid_edu.sort_values(\"Country\")\n",
    "# print(list(covid_edu[\"Country\"]))"
   ]
  },
  {
   "cell_type": "markdown",
   "source": [
    "# Education vs Covid"
   ],
   "metadata": {
    "collapsed": false
   }
  },
  {
   "cell_type": "code",
   "execution_count": null,
   "outputs": [],
   "source": [
    "fig, axs = plt.subplots(3, figsize=[30, 25])\n",
    "fig.suptitle(\"Malnutrition vs Covid Pandemic\")\n",
    "line0, = axs[0].plot(country, cases, color='b', linestyle='-')\n",
    "line1, = axs[1].plot(country, deaths, color='r', linestyle='--')\n",
    "line2, = axs[2].plot(list(covid_edu[\"Country\"]), list(covid_edu[\"mean\"]), color='y')\n",
    "plt.xticks(rotation=90)\n",
    "plt.setp(axs[0].get_xticklabels(), visible=False)\n",
    "plt.setp(axs[1].get_xticklabels(), visible=False)\n",
    "plt.subplots_adjust(hspace=.0)\n",
    "axs[2].set_ylabel(\"%\")\n",
    "axs[1].legend((line0, line1, line2), (\"Cases\", \"Deaths\", \"Malnutrition\"), loc=\"upper left\")\n",
    "plt.show()"
   ],
   "metadata": {
    "collapsed": false,
    "pycharm": {
     "name": "#%%\n"
    }
   }
  },
  {
   "cell_type": "markdown",
   "source": [
    "# poverty vs Covid Pandemic"
   ],
   "metadata": {
    "collapsed": false
   }
  },
  {
   "cell_type": "code",
   "execution_count": null,
   "metadata": {},
   "outputs": [],
   "source": [
    "education_csv = \"poverty.csv\"\n",
    "education = wb_clean(os.path.expanduser(education_csv))\n",
    "\n",
    "drop = []\n",
    "us = {\"Brunei Darussalam\": \"Brunei\", \"Congo, Dem. Rep.\": \"Congo (Brazzaville)\", \"Bahamas, The\": \"Bahamas\",\n",
    "      \"Congo, Rep.\": \"Congo (Kinshasa)\", \"Czech Republic\": \"Czechia\", \"Egypt, Arab Rep.\": \"Egypt\",\n",
    "      \"Gambia, The\": \"Gambia\", \"Iran, Islamic Rep.\": \"Iran\", \"Kyrgyz Republic\": \"Kyrgyzstan\",\n",
    "      \"Korea, Rep.\": \"South Korea\", \"Lao PDR\": \"Laos\", \"St. Lucia\": \"Saint Lucia\", \"Russian Federation\": \"Russia\",\n",
    "      \"Slovak Republic\": \"Slovakia\", \"Syrian Arab Republic\": \"Syria\",\n",
    "      \"St. Vincent and the Grenadines\": \"Saint Vincent and the Grenadines\",\n",
    "      \"Venezuela, RB\": \"Venezuela\", \"United States\": \"US\", \"Yemen, Rep.\": \"Yemen\"}\n",
    "\n",
    "education['Country'] = education['Country'].replace(us)\n",
    "for idx, coun in enumerate(education[\"Country\"]):\n",
    "    if coun not in country:\n",
    "        drop.append(idx)\n",
    "    else:\n",
    "        continue\n",
    "keep = set(range(education.shape[0])) - set(drop)\n",
    "covid_edu = education.take(list(keep))\n",
    "\n",
    "covid_edu[\"mean\"] = covid_edu[\"mean\"].fillna(0)\n",
    "covid_edu = covid_edu.sort_values(\"Country\")\n",
    "# print(list(covid_edu[\"Country\"]))\n",
    "\n",
    "#EDUCATION VS COVID\n",
    "fig, axs = plt.subplots(3, figsize=[30, 25])\n",
    "fig.suptitle(\"Poverty vs Covid Pandemic\")\n",
    "line0, = axs[0].plot(country, cases, color='b', linestyle='-')\n",
    "line1, = axs[1].plot(country, deaths, color='r', linestyle='--')\n",
    "line2, = axs[2].plot(list(covid_edu[\"Country\"]), list(covid_edu[\"mean\"]), color='y')\n",
    "plt.xticks(rotation=90)\n",
    "plt.setp(axs[0].get_xticklabels(), visible=False)\n",
    "plt.setp(axs[1].get_xticklabels(), visible=False)\n",
    "plt.subplots_adjust(hspace=.0)\n",
    "axs[2].set_ylabel(\"%\")\n",
    "axs[1].legend((line0, line1, line2), (\"Cases\", \"Deaths\", \"Poverty\"), loc=\"upper left\")\n",
    "plt.show()"
   ]
  },
  {
   "cell_type": "code",
   "execution_count": null,
   "metadata": {
    "collapsed": true
   },
   "outputs": [],
   "source": [
    "import pandas as pd\n",
    "import numpy as np\n",
    "\n",
    "pd.set_option('display.expand_frame_repr', False)"
   ]
  },
  {
   "cell_type": "markdown",
   "metadata": {
    "collapsed": false
   },
   "source": [
    "Read in the data containing death numbers per country"
   ]
  },
  {
   "cell_type": "code",
   "execution_count": null,
   "metadata": {
    "collapsed": false,
    "pycharm": {
     "name": "#%%\n"
    }
   },
   "outputs": [],
   "source": [
    "hiv_aids_df = pd.read_csv('data/hiv_aids_data/hiv_aids_death_data.csv')"
   ]
  },
  {
   "cell_type": "markdown",
   "metadata": {
    "collapsed": false
   },
   "source": [
    "Lets check out the first few rows to get a feel for how the data looks"
   ]
  },
  {
   "cell_type": "code",
   "execution_count": null,
   "metadata": {
    "collapsed": false,
    "pycharm": {
     "name": "#%%\n"
    }
   },
   "outputs": [],
   "source": [
    "hiv_aids_df.head()"
   ]
  },
  {
   "cell_type": "markdown",
   "metadata": {
    "collapsed": false
   },
   "source": [
    "Looking more closely at the data locally as a csv a lot of these columns have no values. Lets drop all the columns with no values"
   ]
  },
  {
   "cell_type": "code",
   "execution_count": null,
   "metadata": {
    "collapsed": false,
    "pycharm": {
     "name": "#%%\n"
    }
   },
   "outputs": [],
   "source": [
    "hiv_aids_df.dropna(axis=1, how='all', inplace=True)\n",
    "hiv_aids_df"
   ]
  },
  {
   "cell_type": "markdown",
   "metadata": {
    "collapsed": false,
    "pycharm": {
     "name": "#%% md\n"
    }
   },
   "source": [
    "The IndicatorCode, ValueType, ParentsLocationCode,ParentLocation,LocationType,Period type,IsLastYear,Language will all be useless dropping them"
   ]
  },
  {
   "cell_type": "markdown",
   "metadata": {
    "collapsed": false
   },
   "source": []
  },
  {
   "cell_type": "code",
   "execution_count": null,
   "metadata": {
    "collapsed": false,
    "pycharm": {
     "name": "#%%\n"
    }
   },
   "outputs": [],
   "source": [
    "hiv_aids_df.drop(\n",
    "    columns=['IndicatorCode', 'ValueType', 'ParentLocationCode', 'ParentLocation', 'Location type', 'Period type',\n",
    "             'IsLatestYear', 'Language', 'DateModified', 'FactValueTranslationID', 'FactValueNumericPrefix',\n",
    "             'FactValueNumericLowPrefix', 'FactValueNumericLowPrefix', 'FactValueNumericHighPrefix',\n",
    "             'FactValueNumericHigh', 'Value'], axis=1, inplace=True)"
   ]
  },
  {
   "cell_type": "markdown",
   "metadata": {
    "collapsed": false
   },
   "source": [
    "There is still missing data for the value which is the most important column for analysis, dropping all the rows where the value is missing."
   ]
  },
  {
   "cell_type": "code",
   "execution_count": null,
   "metadata": {
    "collapsed": false,
    "pycharm": {
     "name": "#%%\n"
    }
   },
   "outputs": [],
   "source": [
    "hiv_aids_df.dropna(subset='FactValueNumeric', axis=0, inplace=True)\n",
    "hiv_aids_df"
   ]
  },
  {
   "cell_type": "markdown",
   "metadata": {
    "collapsed": false,
    "pycharm": {
     "name": "#%% md\n"
    }
   },
   "source": [
    "After getting rid of all of those values there are only 131 countries"
   ]
  },
  {
   "cell_type": "code",
   "execution_count": null,
   "metadata": {
    "collapsed": false,
    "pycharm": {
     "name": "#%%\n"
    }
   },
   "outputs": [],
   "source": [
    "print(hiv_aids_df.Location.unique())\n",
    "len(hiv_aids_df.Location.unique())"
   ]
  },
  {
   "cell_type": "markdown",
   "metadata": {
    "collapsed": false,
    "pycharm": {
     "name": "#%% md\n"
    }
   },
   "source": [
    "Lets write the finished dataset to a csv"
   ]
  },
  {
   "cell_type": "markdown",
   "source": [
    "# Swine Epidemic plot cases and deaths"
   ],
   "metadata": {
    "collapsed": false
   }
  },
  {
   "cell_type": "code",
   "execution_count": null,
   "metadata": {
    "collapsed": false,
    "pycharm": {
     "name": "#%%\n"
    }
   },
   "outputs": [],
   "source": [
    "def clean_plot(world_bank_data_set, countries_to_rename, suptitle, country, cases, deaths):\n",
    "    '''\n",
    "    :param data_set:\n",
    "        education, GDP, malnutrition, poverty\n",
    "\n",
    "    :param countries_to_rename:\n",
    "        dict of countries to rename\n",
    "    :param suptitle:\n",
    "        title the graph for, ex: Education vs Swine Flu Epidemic\n",
    "    :return:\n",
    "        none\n",
    "    '''\n",
    "\n",
    "    world_bank_data_set_csv = f\"{world_bank_data_set}.csv\"\n",
    "    world_bank_df = wb_clean(os.path.expanduser(world_bank_data_set_csv))\n",
    "\n",
    "    drop = []\n",
    "    us = countries_to_rename\n",
    "    world_bank_df['Country'] = world_bank_df['Country'].replace(us)\n",
    "    for idx, coun in enumerate(world_bank_df[\"Country\"]):\n",
    "        if coun not in country:\n",
    "            drop.append(idx)\n",
    "        else:\n",
    "            continue\n",
    "    keep = set(range(world_bank_df.shape[0])) - set(drop)\n",
    "    merged_df = world_bank_df.take(list(keep))\n",
    "    # swine_edu = swine.merge(education, on = \"Country\", how = 'left')\n",
    "    merged_df[\"mean\"] = merged_df[\"mean\"].fillna(0)\n",
    "    merged_df = merged_df.sort_values(\"Country\")\n",
    "\n",
    "    #EDUCATION VS SWINE\n",
    "    fig, axs = plt.subplots(3)\n",
    "    fig.suptitle(suptitle)\n",
    "    line0, = axs[0].plot(country, cases, color='b', linestyle='-')\n",
    "    line1, = axs[1].plot(country, deaths, color='r', linestyle='--')\n",
    "    line2, = axs[2].plot(country, list(merged_df[\"mean\"]), color='y')\n",
    "    plt.xticks(rotation=90)\n",
    "    plt.setp(axs[0].get_xticklabels(), visible=False)\n",
    "    plt.setp(axs[1].get_xticklabels(), visible=False)\n",
    "    plt.subplots_adjust(hspace=.0)\n",
    "    axs[2].set_ylabel(\"%\")\n",
    "    axs[1].legend((line0, line1, line2), (\"Cases\", \"Deaths\", f\"{world_bank_data_set}\".capitalize()), loc=\"upper left\")\n",
    "    plt.show()"
   ]
  },
  {
   "cell_type": "code",
   "execution_count": null,
   "outputs": [],
   "source": [
    "cases = []\n",
    "deaths = []\n",
    "country = []\n",
    "country_renames_swine = {\"United States\": \"United States of America\"}\n",
    "\n",
    "for i in range(0, len(swine[\"Country\"])):\n",
    "    if swine[\"Cumulative no. of deaths\"][i] > 0:\n",
    "        # print('nope')\n",
    "        country.append(swine[\"Country\"][i])\n",
    "        cases.append(swine[\"Cumulative no. of cases\"][i])\n",
    "        deaths.append(swine[\"Cumulative no. of deaths\"][i])\n",
    "\n",
    "country = sorted(country)\n",
    "\n",
    "plt.xticks(rotation=90)\n",
    "plt.plot(country, cases)\n",
    "plt.plot(country, deaths)\n",
    "plt.legend([\"cases\", \"deaths\"])\n",
    "plt.show()\n",
    "\n",
    "clean_plot(world_bank_data_set, countries_to_rename, suptitle, country, cases, deaths)"
   ],
   "metadata": {
    "collapsed": false,
    "pycharm": {
     "name": "#%%\n"
    }
   }
  },
  {
   "cell_type": "code",
   "execution_count": null,
   "outputs": [],
   "source": [
    "# Covid Pandemic plot cases and deaths\n",
    "cases = []\n",
    "deaths = []\n",
    "country = []\n",
    "percent = []\n",
    "country_renames_covid = {\"Brunei Darussalam\": \"Brunei\", \"Congo, Dem. Rep.\": \"Congo (Brazzaville)\", \"Bahamas, The\": \"Bahamas\",\n",
    "                   \"Congo, Rep.\": \"Congo (Kinshasa)\", \"Czech Republic\": \"Czechia\", \"Egypt, Arab Rep.\": \"Egypt\",\n",
    "                   \"Gambia, The\": \"Gambia\", \"Iran, Islamic Rep.\": \"Iran\", \"Kyrgyz Republic\": \"Kyrgyzstan\",\n",
    "                   \"Korea, Rep.\": \"South Korea\", \"Lao PDR\": \"Laos\", \"St. Lucia\": \"Saint Lucia\",\n",
    "                   \"Russian Federation\": \"Russia\",\n",
    "                   \"Slovak Republic\": \"Slovakia\", \"Syrian Arab Republic\": \"Syria\",\n",
    "                   \"St. Vincent and the Grenadines\": \"Saint Vincent and the Grenadines\",\n",
    "                   \"Venezuela, RB\": \"Venezuela\", \"United States\": \"US\", \"Yemen, Rep.\": \"Yemen\"}\n",
    "\n",
    "for i in range(0, len(covid[\"Country\"])):\n",
    "    if covid[\"Total Deaths\"][i] > 0:\n",
    "        # print('nope')\n",
    "        country.append(covid[\"Country\"][i])\n",
    "        cases.append(covid[\"Total Cases\"][i])\n",
    "        deaths.append(covid[\"Total Deaths\"][i])\n",
    "        percent.append(covid[\"Percent of Deaths\"][i])\n",
    "\n",
    "country = sorted(country)\n",
    "\n",
    "fig, ax = plt.subplots(1, 1, figsize=[30, 25])\n",
    "fig.suptitle(\"Covid Cases and Deaths\", fontsize=30)\n",
    "plt.xlabel(\"Country\", fontsize=18)\n",
    "plt.ylabel(\"Cases in Millions\", fontsize=20)\n",
    "plt.xticks(rotation=90, fontsize=14)\n",
    "plt.margins(x=0, y=0)\n",
    "plt.plot(country, cases)\n",
    "plt.plot(country, deaths)\n",
    "plt.plot(country, percent)\n",
    "plt.legend([\"cases\", \"deaths\"], fontsize=25)\n",
    "plt.show()\n",
    "\n",
    "clean_plot(world_bank_data_set, country_renames, suptitle, country, cases, deaths)"
   ],
   "metadata": {
    "collapsed": false,
    "pycharm": {
     "name": "#%%\n"
    }
   }
  }
 ],
 "metadata": {
  "interpreter": {
   "hash": "b7921488130001b881a32639244341f25ddf85b78f8804400f9c57ddc4895e60"
  },
  "kernelspec": {
   "display_name": "Python 3.9.10 64-bit (windows store)",
   "language": "python",
   "name": "python3"
  },
  "language_info": {
   "codemirror_mode": {
    "name": "ipython",
    "version": 3
   },
   "file_extension": ".py",
   "mimetype": "text/x-python",
   "name": "python",
   "nbconvert_exporter": "python",
   "pygments_lexer": "ipython3",
   "version": "3.9.10"
  }
 },
 "nbformat": 4,
 "nbformat_minor": 2
}